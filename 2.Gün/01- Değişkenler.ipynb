{
 "cells": [
  {
   "cell_type": "markdown",
   "metadata": {},
   "source": [
    "<span style=\"color:purple; font-size:32px\"><b>VARIABLES - DEĞİŞKENLER</b> </span>\r\n"
   ]
  },
  {
   "cell_type": "markdown",
   "metadata": {},
   "source": [
    "- Değişkenler bir verininin değerini saklamayı sağlarlar.\n",
    "- Değişkenler verilerin sonradan değiştirilmesine olan sağladığı için çok kullanışlıdır. Mesela bir bankada çalışıyoruz ve faiz oranını mesela 1.3'ten 1.1'e düşürmek isteniyor ve elimizde 1000 satırlık veri var bu oranı bir değişkene atarsak tek seferde bir yerde 1.1 yapmamız yeterli olacaktır. Diğer durumda 1000 satırlık kodu tek tek incelememiz gerekir.\n",
    "- Kodlar sırayla çalışır"
   ]
  },
  {
   "cell_type": "markdown",
   "metadata": {},
   "source": [
    "<span style=\"color:RED; font-size:25px\">DEĞİŞKEN TANIMLAMA KURALLARI</span>\n"
   ]
  },
  {
   "cell_type": "markdown",
   "metadata": {},
   "source": [
    "- Değişken adlarında sayılar, harfler ya da alt çizgi kullanılabilir. Ama değişken isimlendirmeleri alt çizgi ya da harfle başlar.\r\n",
    "- Değişken adlandırırken Türkçe karakter kullanmamaya özen göstermeliyiz.\r\n",
    "- Değişken isimlendirirken boşluk kullanılmaz. Genellikle camelCase adlandırma yaparız.\r\n",
    "- Python anahtar kelimeleri kullanılamaz.\r\n",
    "- Değişken adlandırılırken rakamla başlayamaz.\r\n",
    "- Büyük küçük harf duyarlıdır.\r\n"
   ]
  },
  {
   "cell_type": "code",
   "execution_count": 41,
   "metadata": {},
   "outputs": [],
   "source": [
    "x = 5"
   ]
  },
  {
   "cell_type": "code",
   "execution_count": 42,
   "metadata": {},
   "outputs": [],
   "source": [
    "y = 4"
   ]
  },
  {
   "cell_type": "code",
   "execution_count": 43,
   "metadata": {},
   "outputs": [
    {
     "name": "stdout",
     "output_type": "stream",
     "text": [
      "20\n"
     ]
    }
   ],
   "source": [
    "print(x*y)"
   ]
  },
  {
   "cell_type": "code",
   "execution_count": 44,
   "metadata": {},
   "outputs": [],
   "source": [
    "x = 6"
   ]
  },
  {
   "cell_type": "code",
   "execution_count": 45,
   "metadata": {},
   "outputs": [
    {
     "name": "stdout",
     "output_type": "stream",
     "text": [
      "24\n"
     ]
    }
   ],
   "source": [
    "print(x * y)"
   ]
  },
  {
   "cell_type": "code",
   "execution_count": 46,
   "metadata": {},
   "outputs": [
    {
     "name": "stdout",
     "output_type": "stream",
     "text": [
      "40\n"
     ]
    }
   ],
   "source": [
    "print(y*10)"
   ]
  },
  {
   "cell_type": "code",
   "execution_count": 47,
   "metadata": {},
   "outputs": [],
   "source": [
    "#HATALI DEĞİŞKEN ADLANDIRMA KURALLARI\r\n",
    "#1deneme = 1234\r\n",
    "#ağırlık = 13\r\n",
    "#boy uzunluğu = 138\r\n",
    "#if = \"deneme\""
   ]
  }
 ],
 "metadata": {
  "interpreter": {
   "hash": "96f2b75f092ed1a0519a47617957f87ef8220e3e362917a5d4c2f9cc419b7475"
  },
  "kernelspec": {
   "display_name": "Python 3.9.6 64-bit",
   "name": "python3"
  },
  "language_info": {
   "codemirror_mode": {
    "name": "ipython",
    "version": 3
   },
   "file_extension": ".py",
   "mimetype": "text/x-python",
   "name": "python",
   "nbconvert_exporter": "python",
   "pygments_lexer": "ipython3",
   "version": "3.9.6"
  }
 },
 "nbformat": 4,
 "nbformat_minor": 5
}