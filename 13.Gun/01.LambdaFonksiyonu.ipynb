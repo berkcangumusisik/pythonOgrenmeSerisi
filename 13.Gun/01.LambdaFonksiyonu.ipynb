{
 "cells": [
  {
   "cell_type": "markdown",
   "metadata": {},
   "source": [
    "# Lambda Fonksiyonu\n",
    "\n",
    "- Fonksiyonların tek bir satırda tanımlanmasını sağlar. Aynı list comprehension gibi düşünülebilir.\n",
    "```etiket = lambda parametre1,parametre2.... :  İşlem```"
   ]
  }
 ],
 "metadata": {
  "kernelspec": {
   "display_name": "Python 3.10.5 64-bit",
   "language": "python",
   "name": "python3"
  },
  "language_info": {
   "name": "python",
   "version": "3.10.5"
  },
  "orig_nbformat": 4,
  "vscode": {
   "interpreter": {
    "hash": "5026d2d6e7aaaaba093def813beadff083d8733e4a511af01735cbabd156995d"
   }
  }
 },
 "nbformat": 4,
 "nbformat_minor": 2
}
