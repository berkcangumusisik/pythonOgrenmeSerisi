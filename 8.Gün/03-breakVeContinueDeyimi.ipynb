{
 "cells": [
  {
   "cell_type": "markdown",
   "metadata": {},
   "source": [
    "# break\n",
    "- break ifadesi bir döngü içinde çalıştırıldığında, döngüyü durdurur ve ondan dışarı atlar.\n",
    "\n",
    "# continue\n",
    "- continue ifadesi mevcut değeri atlar (geri döndürmez) ve döngüdeki sonraki yinelemeye gider ancak bu döngünün yürütülmesini durdurmaz"
   ]
  },
  {
   "cell_type": "code",
   "execution_count": null,
   "metadata": {},
   "outputs": [
    {
     "name": "stdout",
     "output_type": "stream",
     "text": [
      "0\n",
      "1\n",
      "2\n",
      "3\n",
      "4\n"
     ]
    }
   ],
   "source": [
    "i = 0\n",
    "while (i < 10):\n",
    "    if(i == 5):\n",
    "        break\n",
    "    print(i)\n",
    "    i += 1"
   ]
  },
  {
   "cell_type": "code",
   "execution_count": 4,
   "metadata": {},
   "outputs": [
    {
     "name": "stdout",
     "output_type": "stream",
     "text": [
      "Lütfen uygulamadan çıkmak için q tuşuna basınız\n",
      "Yaşınız :  \n",
      "Lütfen uygulamadan çıkmak için q tuşuna basınız\n",
      "Yaşınız :  9\n",
      "Lütfen uygulamadan çıkmak için q tuşuna basınız\n",
      "Yaşınız :  12\n",
      "Lütfen uygulamadan çıkmak için q tuşuna basınız\n",
      "Yaşınız :  24\n",
      "Lütfen uygulamadan çıkmak için q tuşuna basınız\n"
     ]
    }
   ],
   "source": [
    "while(True):\n",
    "    print(\"Lütfen uygulamadan çıkmak için q tuşuna basınız\")\n",
    "    yas = input(\"Lütfen yaşınızı giriniz :\")\n",
    "    if(yas == \"q\"):\n",
    "        break\n",
    "    print(\"Yaşınız : \" , yas)"
   ]
  },
  {
   "cell_type": "code",
   "execution_count": 5,
   "metadata": {},
   "outputs": [
    {
     "name": "stdout",
     "output_type": "stream",
     "text": [
      "0\n",
      "1\n",
      "2\n",
      "3\n",
      "4\n",
      "6\n",
      "7\n",
      "8\n",
      "9\n",
      "10\n"
     ]
    }
   ],
   "source": [
    "for i in range(11):\n",
    "    if(i == 5):\n",
    "        continue\n",
    "    print(i)"
   ]
  }
 ],
 "metadata": {
  "interpreter": {
   "hash": "96f2b75f092ed1a0519a47617957f87ef8220e3e362917a5d4c2f9cc419b7475"
  },
  "kernelspec": {
   "display_name": "Python 3.9.6 64-bit",
   "language": "python",
   "name": "python3"
  },
  "language_info": {
   "codemirror_mode": {
    "name": "ipython",
    "version": 3
   },
   "file_extension": ".py",
   "mimetype": "text/x-python",
   "name": "python",
   "nbconvert_exporter": "python",
   "pygments_lexer": "ipython3",
   "version": "3.9.6"
  },
  "orig_nbformat": 4
 },
 "nbformat": 4,
 "nbformat_minor": 2
}
