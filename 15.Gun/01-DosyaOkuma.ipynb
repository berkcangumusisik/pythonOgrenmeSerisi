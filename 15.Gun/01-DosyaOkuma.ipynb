{
 "cells": [
  {
   "cell_type": "markdown",
   "metadata": {},
   "source": [
    "# Dosya Okuma İşlemleri \n",
    "- Dosya açmak ve oluşturmak için open() kullanılır.\n",
    "\n",
    "```python\topen(dosyaIsmi, dosyaModu)``` \n",
    "\n",
    "- dosyaModu: Dosyayı hangi modda açacağını belirtir.\n",
    "- r: Okuma modunda açmayı sağlar. Belirtilen konumda dosya olması gerekir.\n",
    "- close(): Dosyayı kapatır."
   ]
  },
  {
   "cell_type": "code",
   "execution_count": 3,
   "metadata": {},
   "outputs": [
    {
     "name": "stdout",
     "output_type": "stream",
     "text": [
      "<_io.TextIOWrapper name='bilgiler.txt' mode='r' encoding='cp1254'>\n"
     ]
    }
   ],
   "source": [
    "f = open(\"bilgiler.txt\")\n",
    "print(f)"
   ]
  },
  {
   "cell_type": "code",
   "execution_count": 5,
   "metadata": {},
   "outputs": [
    {
     "name": "stdout",
     "output_type": "stream",
     "text": [
      "Dosya Bulunamadı....\n"
     ]
    }
   ],
   "source": [
    "\n",
    "try:\n",
    "    file = open(\"bilgiler2.txt\",\"r\",encoding= \"utf-8\")\n",
    "except FileNotFoundError:\n",
    "    print(\"Dosya Bulunamadı....\")"
   ]
  },
  {
   "cell_type": "code",
   "execution_count": 8,
   "metadata": {},
   "outputs": [
    {
     "name": "stdout",
     "output_type": "stream",
     "text": [
      "Berkcan Gümüşışık\n",
      "\n",
      "Şevval Baydemir\n",
      "\n",
      "Nurana Jumageldıyeva\n"
     ]
    }
   ],
   "source": [
    "file = open(\"bilgiler.txt\",\"r\",encoding= \"utf-8\") # Dosyayı okuma kipiyle açıyoruz. Türkçe karaktere dikkat.\n",
    "\n",
    "for i in file: # Tıpkı listeler gibi dosyanın her bir satırı üzerinde geziniyoruz.\n",
    "    print(i) # Her bir satırı ekrana basıyoruz.\n",
    "file.close()"
   ]
  },
  {
   "cell_type": "markdown",
   "metadata": {},
   "source": [
    "**read() Fonksiyonu**\n",
    "\n",
    "read() fonksiyonu eğer içine hiçbir değer vermezsek bütün dosyamızı okuyacaktır.\n",
    "\n"
   ]
  },
  {
   "cell_type": "code",
   "execution_count": 9,
   "metadata": {},
   "outputs": [
    {
     "name": "stdout",
     "output_type": "stream",
     "text": [
      "Dosya İçeriği:\n",
      "Berkcan Gümüşışık\n",
      "Şevval Baydemir\n",
      "Nurana Jumageldıyeva\n"
     ]
    }
   ],
   "source": [
    "file = open(\"bilgiler.txt\",\"r\",encoding=\"utf-8\")\n",
    "icerik = file.read() \n",
    "print(\"Dosya İçeriği:\\n\",icerik,sep =\"\")\n",
    "file.close()"
   ]
  },
  {
   "cell_type": "markdown",
   "metadata": {},
   "source": [
    "read() fonksiyonuyla bir dosyayı okuduğumuzda dosya imlecimiz dosyanın en sonuna gider ve read() fonksiyonu 2. okuma da artık boş string döner."
   ]
  },
  {
   "cell_type": "code",
   "execution_count": 10,
   "metadata": {},
   "outputs": [
    {
     "name": "stdout",
     "output_type": "stream",
     "text": [
      "1. Okuma : Dosya İçeriği:\n",
      "Berkcan Gümüşışık\n",
      "Şevval Baydemir\n",
      "Nurana Jumageldıyeva\n",
      "2. Okuma : Dosya İçeriği:\n",
      "\n"
     ]
    }
   ],
   "source": [
    "file = open(\"bilgiler.txt\",\"r\",encoding=\"utf-8\")\n",
    "icerik = file.read() \n",
    "print(\"1. Okuma : Dosya İçeriği:\\n\",icerik,sep =\"\")\n",
    "icerik2 = file.read()\n",
    "print(\"2. Okuma : Dosya İçeriği:\\n\",icerik2,sep =\"\")\n",
    "file.close()"
   ]
  },
  {
   "cell_type": "markdown",
   "metadata": {},
   "source": [
    "**readline() Fonksiyonu**\n",
    "\n",
    "Her çalıştırıldığında bir satır okur."
   ]
  },
  {
   "cell_type": "code",
   "execution_count": 12,
   "metadata": {},
   "outputs": [
    {
     "name": "stdout",
     "output_type": "stream",
     "text": [
      "Berkcan Gümüşışık\n",
      "\n"
     ]
    }
   ],
   "source": [
    "file = open(\"bilgiler.txt\",\"r\",encoding=\"utf-8\")\n",
    "print(file.readline()) # 1. satırı okur."
   ]
  },
  {
   "cell_type": "code",
   "execution_count": 13,
   "metadata": {},
   "outputs": [
    {
     "name": "stdout",
     "output_type": "stream",
     "text": [
      "Şevval Baydemir\n",
      "\n"
     ]
    }
   ],
   "source": [
    "print(file.readline()) # 2. satırı okur."
   ]
  },
  {
   "cell_type": "code",
   "execution_count": 14,
   "metadata": {},
   "outputs": [
    {
     "name": "stdout",
     "output_type": "stream",
     "text": [
      "Nurana Jumageldıyeva\n"
     ]
    }
   ],
   "source": [
    "print(file.readline()) # 3. satırı okur."
   ]
  },
  {
   "cell_type": "code",
   "execution_count": 15,
   "metadata": {},
   "outputs": [
    {
     "name": "stdout",
     "output_type": "stream",
     "text": [
      "\n"
     ]
    }
   ],
   "source": [
    "print(file.readline()) # Okuyacak herhangi bir şey kalmayınca readline fonksiyonu boş string döner."
   ]
  },
  {
   "cell_type": "code",
   "execution_count": 16,
   "metadata": {},
   "outputs": [],
   "source": [
    "file.close()"
   ]
  },
  {
   "cell_type": "markdown",
   "metadata": {},
   "source": [
    "**readlines() fonksiyonu**\n",
    "readlines() fonksiyonu dosyanın bütün satırları bir liste şeklinde döner."
   ]
  },
  {
   "cell_type": "code",
   "execution_count": 17,
   "metadata": {},
   "outputs": [
    {
     "name": "stdout",
     "output_type": "stream",
     "text": [
      "['Berkcan Gümüşışık\\n', 'Şevval Baydemir\\n', 'Nurana Jumageldıyeva']\n"
     ]
    }
   ],
   "source": [
    "file = open(\"bilgiler.txt\",\"r\",encoding=\"utf-8\")\n",
    "print(file.readlines()) # Tüm satırları okur."
   ]
  },
  {
   "cell_type": "code",
   "execution_count": 18,
   "metadata": {},
   "outputs": [],
   "source": [
    "file.close()"
   ]
  }
 ],
 "metadata": {
  "kernelspec": {
   "display_name": "Python 3.10.5 64-bit",
   "language": "python",
   "name": "python3"
  },
  "language_info": {
   "codemirror_mode": {
    "name": "ipython",
    "version": 3
   },
   "file_extension": ".py",
   "mimetype": "text/x-python",
   "name": "python",
   "nbconvert_exporter": "python",
   "pygments_lexer": "ipython3",
   "version": "3.10.5"
  },
  "orig_nbformat": 4,
  "vscode": {
   "interpreter": {
    "hash": "5026d2d6e7aaaaba093def813beadff083d8733e4a511af01735cbabd156995d"
   }
  }
 },
 "nbformat": 4,
 "nbformat_minor": 2
}
