{
 "cells": [
  {
   "cell_type": "markdown",
   "id": "951858a5",
   "metadata": {},
   "source": [
    "# PYTHON'DA DÖNGÜLER"
   ]
  },
  {
   "cell_type": "markdown",
   "id": "3c24dcc8",
   "metadata": {},
   "source": [
    "## While Döngüsü"
   ]
  },
  {
   "cell_type": "code",
   "execution_count": 2,
   "id": "9f020bd8",
   "metadata": {},
   "outputs": [
    {
     "name": "stdout",
     "output_type": "stream",
     "text": [
      "1\n",
      "2\n",
      "3\n",
      "4\n"
     ]
    }
   ],
   "source": [
    "a = 1\n",
    "while a<5:\n",
    "    print(a)\n",
    "    a = a+1"
   ]
  },
  {
   "cell_type": "code",
   "execution_count": null,
   "id": "927ddfca",
   "metadata": {},
   "outputs": [],
   "source": [
    "ogrenciSayisi= int(input(\"Kaç öğrenci için ortalama hesaplamak istersiniz:\"))\n",
    "sayi = 1\n",
    "while ogrenciSayisi > 0:\n",
    "    isim = input(str(sayi) +\" Öğrenci adını giriniz: \")\n",
    "    not1 = int(input(\"Öğrencinin 1. notunu giriniz:\"))\n",
    "    not2 = int(input(\"Öğrencinin 2. notunu giriniz:\"))\n",
    "    ortalama = (not1*0.4 + not2*0.6)\n",
    "    print(\"Ortalamanız: \", ortalama)\n",
    "    ogrenciSayisi = ogrenciSayisi-1\n",
    "    sayi = sayi + 1"
   ]
  },
  {
   "cell_type": "code",
   "execution_count": 11,
   "id": "4ca76407",
   "metadata": {
    "scrolled": true
   },
   "outputs": [
    {
     "name": "stdout",
     "output_type": "stream",
     "text": [
      "1 Öğrenci adını giriniz: Berkcan\n",
      "Öğrencinin 1. notunu giriniz:100\n",
      "Öğrencinin 2. notunu giriniz:40\n",
      "Ortalamanız:  64.0\n",
      "Başka bir öğrenci için ortalama hesaplamak ister misiniz evet için e hayır için h tuşlayınız:h\n"
     ]
    }
   ],
   "source": [
    "cevap = \"e\"\n",
    "sayi = 1\n",
    "while cevap == \"e\":\n",
    "    isim = input(str(sayi) + \" Öğrenci adını giriniz: \")\n",
    "    not1 = int(input(\"Öğrencinin 1. notunu giriniz:\"))\n",
    "    not2 = int(input(\"Öğrencinin 2. notunu giriniz:\"))\n",
    "    ortalama = (not1*0.4 + not2*0.6)\n",
    "    print(\"Ortalamanız: \", ortalama)\n",
    "    sayi = sayi + 1\n",
    "    cevap = input(\"Başka bir öğrenci için ortalama hesaplamak ister misiniz evet için e hayır için h tuşlayınız:\")"
   ]
  },
  {
   "cell_type": "code",
   "execution_count": 16,
   "id": "e3423169",
   "metadata": {},
   "outputs": [
    {
     "name": "stdout",
     "output_type": "stream",
     "text": [
      "86\n"
     ]
    }
   ],
   "source": [
    "import random \n",
    "sayi = random.randint(1,100)\n",
    "print(sayi)"
   ]
  },
  {
   "cell_type": "code",
   "execution_count": 26,
   "id": "a277f58c",
   "metadata": {},
   "outputs": [
    {
     "name": "stdout",
     "output_type": "stream",
     "text": [
      "Tuttuğum sayıyı tahmin et:66\n",
      "Daha Büyük Dene\n",
      "Tuttuğum sayıyı tahmin et:67\n",
      "Daha Büyük Dene\n",
      "Tuttuğum sayıyı tahmin et:88\n",
      "Daha Küçük Dene\n",
      "Tuttuğum sayıyı tahmin et:86\n",
      "Daha Küçük Dene\n",
      "Tuttuğum sayıyı tahmin et:85\n",
      "Daha Küçük Dene\n",
      "Tuttuğum sayıyı tahmin et:83\n",
      "Daha Küçük Dene\n",
      "Tuttuğum sayıyı tahmin et:81\n",
      "Daha Küçük Dene\n",
      "Tuttuğum sayıyı tahmin et:79\n",
      "Daha Küçük Dene\n",
      "Tuttuğum sayıyı tahmin et:76\n",
      "Daha Küçük Dene\n",
      "Tuttuğum sayıyı tahmin et:71\n",
      "Daha Küçük Dene\n",
      "Tuttuğum sayıyı tahmin et:69\n",
      "Daha Küçük Dene\n",
      "Tuttuğum sayıyı tahmin et:65\n",
      "Daha Büyük Dene\n",
      "Tuttuğum sayıyı tahmin et:68\n",
      "Tebrik ederim, 13 denemede buldunuz.\n"
     ]
    }
   ],
   "source": [
    "import random \n",
    "bilgisayarinTuttuguSayi = random.randint(1,100)\n",
    "denemeSayisi = 0\n",
    "while True:\n",
    "    tahminim = int(input(\"Tuttuğum sayıyı tahmin et:\"))\n",
    "    denemeSayisi = denemeSayisi +1 ;\n",
    "\n",
    "    if bilgisayarinTuttuguSayi == tahminim:\n",
    "        print(\"Tebrik ederim, {} denemede buldunuz.\".format(denemeSayisi))\n",
    "        \n",
    "        break #döngüden çıkmayı sağlar.\n",
    "    elif bilgisayarinTuttuguSayi > tahminim:\n",
    "        print(\"Daha Büyük Dene\")\n",
    "    elif bilgisayarinTuttuguSayi < tahminim:\n",
    "            print(\"Daha Küçük Dene\")\n",
    "    else:\n",
    "        print(\"Bilemedin\")\n"
   ]
  },
  {
   "cell_type": "code",
   "execution_count": 40,
   "id": "2ffe9820",
   "metadata": {},
   "outputs": [
    {
     "name": "stdout",
     "output_type": "stream",
     "text": [
      "1 - 100\n",
      "52 senin tuttuğun sayı mı? [e]vet/[h]ayır / daha [b]üyük/ daha [k]üçükb\n",
      "53 - 100\n",
      "62 senin tuttuğun sayı mı? [e]vet/[h]ayır / daha [b]üyük/ daha [k]üçükk\n",
      "53 - 61\n",
      "55 senin tuttuğun sayı mı? [e]vet/[h]ayır / daha [b]üyük/ daha [k]üçüke\n",
      "Oley, bildim\n"
     ]
    }
   ],
   "source": [
    "import random \n",
    "enKucukDeger = 1\n",
    "enBuyukDeger = 100\n",
    "while True:\n",
    "    print(\"{} - {}\".format(enKucukDeger, enBuyukDeger))\n",
    "    bilgisayarinTahmini = random.randint(enKucukDeger,enBuyukDeger)\n",
    "    cevap = input(\"{} senin tuttuğun sayı mı? [e]vet/[h]ayır / daha [b]üyük/ daha [k]üçük\".format(bilgisayarinTahmini))\n",
    "    if cevap == \"e\":\n",
    "        print(\"Oley, bildim\")\n",
    "        break\n",
    "    elif cevap == \"b\":\n",
    "        enKucukDeger = bilgisayarinTahmini + 1\n",
    "    elif cevap == \"k\":\n",
    "        enBuyukDeger = bilgisayarinTahmini - 1\n",
    "\n",
    "    else: \n",
    "        print(\"Bilemedin\")"
   ]
  },
  {
   "cell_type": "markdown",
   "id": "f2d57940",
   "metadata": {},
   "source": [
    "# For Döngüsü"
   ]
  },
  {
   "cell_type": "code",
   "execution_count": 43,
   "id": "ae8ed3d2",
   "metadata": {},
   "outputs": [
    {
     "name": "stdout",
     "output_type": "stream",
     "text": [
      "0\n",
      "1\n",
      "2\n",
      "3\n",
      "4\n",
      "5\n",
      "6\n",
      "7\n",
      "8\n",
      "9\n"
     ]
    }
   ],
   "source": [
    "for i in range(10): #0'dan 10'a kadar (10 dahil değil) i değerini 1 artır.\n",
    "    print(i)"
   ]
  },
  {
   "cell_type": "code",
   "execution_count": 44,
   "id": "9f036ae1",
   "metadata": {},
   "outputs": [
    {
     "name": "stdout",
     "output_type": "stream",
     "text": [
      "0\n",
      "1\n",
      "2\n",
      "3\n",
      "4\n",
      "5\n",
      "6\n",
      "7\n",
      "8\n",
      "9\n"
     ]
    }
   ],
   "source": [
    "k = 0\n",
    "while k<10:\n",
    "    print(k)\n",
    "    k = k + 1"
   ]
  },
  {
   "cell_type": "code",
   "execution_count": 45,
   "id": "60632ec1",
   "metadata": {},
   "outputs": [
    {
     "name": "stdout",
     "output_type": "stream",
     "text": [
      "3\n",
      "4\n",
      "5\n",
      "6\n",
      "7\n",
      "8\n",
      "9\n"
     ]
    }
   ],
   "source": [
    "for i in range(3, 10): #03'den 10'a kadar (10 dahil değil) i değerini 1 artır.\n",
    "    print(i)"
   ]
  },
  {
   "cell_type": "code",
   "execution_count": 46,
   "id": "99d038be",
   "metadata": {},
   "outputs": [
    {
     "name": "stdout",
     "output_type": "stream",
     "text": [
      "3\n",
      "8\n",
      "13\n",
      "18\n",
      "23\n",
      "28\n",
      "33\n",
      "38\n"
     ]
    }
   ],
   "source": [
    "for i in range(3,40,5): #3'dn54 40'a kadar (0 dahil değil) i değerini  artır.\n",
    "    print(i)"
   ]
  },
  {
   "cell_type": "code",
   "execution_count": 50,
   "id": "fb328b7f",
   "metadata": {},
   "outputs": [
    {
     "name": "stdout",
     "output_type": "stream",
     "text": [
      "1 * 1 = 1\n",
      "1 * 2 = 2\n",
      "1 * 3 = 3\n",
      "1 * 4 = 4\n",
      "1 * 5 = 5\n",
      "1 * 6 = 6\n",
      "1 * 7 = 7\n",
      "1 * 8 = 8\n",
      "1 * 9 = 9\n",
      "1 * 10 = 10\n",
      "-------------------------\n",
      "2 * 1 = 2\n",
      "2 * 2 = 4\n",
      "2 * 3 = 6\n",
      "2 * 4 = 8\n",
      "2 * 5 = 10\n",
      "2 * 6 = 12\n",
      "2 * 7 = 14\n",
      "2 * 8 = 16\n",
      "2 * 9 = 18\n",
      "2 * 10 = 20\n",
      "-------------------------\n",
      "3 * 1 = 3\n",
      "3 * 2 = 6\n",
      "3 * 3 = 9\n",
      "3 * 4 = 12\n",
      "3 * 5 = 15\n",
      "3 * 6 = 18\n",
      "3 * 7 = 21\n",
      "3 * 8 = 24\n",
      "3 * 9 = 27\n",
      "3 * 10 = 30\n",
      "-------------------------\n",
      "4 * 1 = 4\n",
      "4 * 2 = 8\n",
      "4 * 3 = 12\n",
      "4 * 4 = 16\n",
      "4 * 5 = 20\n",
      "4 * 6 = 24\n",
      "4 * 7 = 28\n",
      "4 * 8 = 32\n",
      "4 * 9 = 36\n",
      "4 * 10 = 40\n",
      "-------------------------\n",
      "5 * 1 = 5\n",
      "5 * 2 = 10\n",
      "5 * 3 = 15\n",
      "5 * 4 = 20\n",
      "5 * 5 = 25\n",
      "5 * 6 = 30\n",
      "5 * 7 = 35\n",
      "5 * 8 = 40\n",
      "5 * 9 = 45\n",
      "5 * 10 = 50\n",
      "-------------------------\n",
      "6 * 1 = 6\n",
      "6 * 2 = 12\n",
      "6 * 3 = 18\n",
      "6 * 4 = 24\n",
      "6 * 5 = 30\n",
      "6 * 6 = 36\n",
      "6 * 7 = 42\n",
      "6 * 8 = 48\n",
      "6 * 9 = 54\n",
      "6 * 10 = 60\n",
      "-------------------------\n",
      "7 * 1 = 7\n",
      "7 * 2 = 14\n",
      "7 * 3 = 21\n",
      "7 * 4 = 28\n",
      "7 * 5 = 35\n",
      "7 * 6 = 42\n",
      "7 * 7 = 49\n",
      "7 * 8 = 56\n",
      "7 * 9 = 63\n",
      "7 * 10 = 70\n",
      "-------------------------\n",
      "8 * 1 = 8\n",
      "8 * 2 = 16\n",
      "8 * 3 = 24\n",
      "8 * 4 = 32\n",
      "8 * 5 = 40\n",
      "8 * 6 = 48\n",
      "8 * 7 = 56\n",
      "8 * 8 = 64\n",
      "8 * 9 = 72\n",
      "8 * 10 = 80\n",
      "-------------------------\n",
      "9 * 1 = 9\n",
      "9 * 2 = 18\n",
      "9 * 3 = 27\n",
      "9 * 4 = 36\n",
      "9 * 5 = 45\n",
      "9 * 6 = 54\n",
      "9 * 7 = 63\n",
      "9 * 8 = 72\n",
      "9 * 9 = 81\n",
      "9 * 10 = 90\n",
      "-------------------------\n",
      "10 * 1 = 10\n",
      "10 * 2 = 20\n",
      "10 * 3 = 30\n",
      "10 * 4 = 40\n",
      "10 * 5 = 50\n",
      "10 * 6 = 60\n",
      "10 * 7 = 70\n",
      "10 * 8 = 80\n",
      "10 * 9 = 90\n",
      "10 * 10 = 100\n",
      "-------------------------\n"
     ]
    }
   ],
   "source": [
    "for i in range(1,11):\n",
    "    for j in range(1,11):\n",
    "        print(\"{} * {} = {}\".format(i,j, i*j))\n",
    "    print(\"-------------------------\")"
   ]
  },
  {
   "cell_type": "code",
   "execution_count": null,
   "id": "a25c3374",
   "metadata": {},
   "outputs": [],
   "source": []
  }
 ],
 "metadata": {
  "kernelspec": {
   "display_name": "Python 3",
   "language": "python",
   "name": "python3"
  },
  "language_info": {
   "codemirror_mode": {
    "name": "ipython",
    "version": 3
   },
   "file_extension": ".py",
   "mimetype": "text/x-python",
   "name": "python",
   "nbconvert_exporter": "python",
   "pygments_lexer": "ipython3",
   "version": "3.8.8"
  }
 },
 "nbformat": 4,
 "nbformat_minor": 5
}
