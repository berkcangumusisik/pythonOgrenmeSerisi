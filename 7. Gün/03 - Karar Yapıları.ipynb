{
 "cells": [
  {
   "cell_type": "markdown",
   "id": "7279ced7",
   "metadata": {},
   "source": [
    "# KARAR YAPILARI"
   ]
  },
  {
   "cell_type": "raw",
   "id": "306575eb",
   "metadata": {},
   "source": [
    "if kosul:\n",
    "    Kosul True olduğunda bu kod bloğu çalışır\n",
    "elif kosul:\n",
    "    Kosul True olduğunda  bu kod bloğu çalışır\n",
    "else:\n",
    "    Diğer koşullar sağlanmadığı zaman çalışır."
   ]
  },
  {
   "cell_type": "markdown",
   "id": "c93b4554",
   "metadata": {},
   "source": [
    "- Eğer if bloğu doğruysa diğer durumlara bakılmaz ve if bloğu altındaki kodlar çalışır.\n",
    "- Else yapısının kullanılması zorunlu değildir olsa da olur olmasada olur.\n",
    "- Elif yapısının kullanılması zorunlu değildir olsa da olur olmasada olur.\n",
    "- Else yapısı if ve varsa elif yapısının false olduğu durumda ikinci nihai durum olarak çalışır .\n",
    "- elif yapısına birden çok farklı koşullardan doğacak durumların kontrolünü sağlamak için kullanırız ."
   ]
  },
  {
   "cell_type": "code",
   "execution_count": 2,
   "id": "7ad47e78",
   "metadata": {
    "scrolled": true
   },
   "outputs": [
    {
     "name": "stdout",
     "output_type": "stream",
     "text": [
      "Berkcan Gümüşışık\n",
      "if koşulu sağlandı.\n",
      "If bloğu dışına çıktık.\n"
     ]
    }
   ],
   "source": [
    "if 3 > 1:\n",
    "    print(\"Berkcan Gümüşışık\")\n",
    "    print(\"if koşulu sağlandı.\")\n",
    "print(\"If bloğu dışına çıktık.\")\n"
   ]
  },
  {
   "cell_type": "code",
   "execution_count": 8,
   "id": "6e19c6c2",
   "metadata": {},
   "outputs": [
    {
     "name": "stdout",
     "output_type": "stream",
     "text": [
      "1.Sayıyı giriniz:20\n",
      "2.Sayıyı giriniz:12\n",
      "1. sayı, 2.sayıdan büyüktür\n"
     ]
    }
   ],
   "source": [
    "sayi1 = int(input(\"1.Sayıyı giriniz:\"))\n",
    "sayi2 = int(input(\"2.Sayıyı giriniz:\"))\n",
    "if sayi1 > sayi2:\n",
    "    print(\"1. sayı, 2.sayıdan büyüktür\")\n",
    "elif sayi1 == sayi2:\n",
    "    print(\"1. sayı, 2.sayıya eşittir.\")\n",
    "else:\n",
    "    print(\"2. sayı, 1.sayıdan büyüktür\")\n",
    "\n",
    "    "
   ]
  },
  {
   "cell_type": "code",
   "execution_count": 7,
   "id": "1c898b05",
   "metadata": {},
   "outputs": [
    {
     "name": "stdout",
     "output_type": "stream",
     "text": [
      "Bir süper kahraman seçiniz:Berkcan\n",
      "Biz bu süper kahramanı tanıyamadık\n"
     ]
    }
   ],
   "source": [
    "superKahraman = input(\"Bir süper kahraman seçiniz:\")\n",
    "if superKahraman == \"Batman\":\n",
    "    print(\"Batman'i seçtiniz tebrikler\")\n",
    "elif superKahraman == \"Superman\":\n",
    "    print(\"Keşke Batman'i seçseydiniz.\")\n",
    "elif superKahraman == \"Ironman\":\n",
    "    print(\"Ironman de kim?\")\n",
    "else:\n",
    "    print(\"Biz bu süper kahramanı tanıyamadık\")"
   ]
  },
  {
   "cell_type": "code",
   "execution_count": 9,
   "id": "fc2d1e37",
   "metadata": {},
   "outputs": [],
   "source": [
    "a = 10\n",
    "b = 20\n",
    "c = 30"
   ]
  },
  {
   "cell_type": "code",
   "execution_count": 10,
   "id": "801f09b6",
   "metadata": {},
   "outputs": [
    {
     "name": "stdout",
     "output_type": "stream",
     "text": [
      "a sayısı b sayısından küçüktür ve b sayısı da c saysınıdan küçüktür\n"
     ]
    }
   ],
   "source": [
    "if a > b and b > c:\n",
    "    print(\"a sayısı b sayısından büyüktür ve b sayısı da c saysınıdan büyüktür\")\n",
    "if a < b and b < c:\n",
    "    print(\"a sayısı b sayısından küçüktür ve b sayısı da c saysınıdan küçüktür\")\n",
    "else:\n",
    "    print(\"Bu koşullar tutmadı\")"
   ]
  },
  {
   "cell_type": "code",
   "execution_count": 11,
   "id": "27a376d1",
   "metadata": {},
   "outputs": [],
   "source": [
    "m = 10\n",
    "k = 4\n",
    "l = 1"
   ]
  },
  {
   "cell_type": "code",
   "execution_count": 12,
   "id": "290ccbe3",
   "metadata": {},
   "outputs": [
    {
     "name": "stdout",
     "output_type": "stream",
     "text": [
      "Bu kod bloğu çalışacak.\n"
     ]
    }
   ],
   "source": [
    "if m > k or k > l:\n",
    "    print(\"Bu kod bloğu çalışacak.\")"
   ]
  },
  {
   "cell_type": "code",
   "execution_count": 14,
   "id": "65be2774",
   "metadata": {},
   "outputs": [
    {
     "name": "stdout",
     "output_type": "stream",
     "text": [
      "Oyun karakteriniz yaşıyor\n"
     ]
    }
   ],
   "source": [
    "karakter = True\n",
    "if karakter == True:\n",
    "    print(\"Oyun karakteriniz yaşıyor\")\n",
    "else:\n",
    "    print(\"Oyun karakteriniz yaşamıyor\")"
   ]
  },
  {
   "cell_type": "code",
   "execution_count": 17,
   "id": "3ec1079b",
   "metadata": {},
   "outputs": [
    {
     "name": "stdout",
     "output_type": "stream",
     "text": [
      "Yanlış Bilgi girdiniz.\n"
     ]
    }
   ],
   "source": [
    "isim = \"Berkcan gümüşışık\"\n",
    "if isim == \"Berkcan Gümüşışık\":\n",
    "    print(\"İsminiz Berkcan Gümüşışık\")\n",
    "else: \n",
    "    print(\"Yanlış Bilgi girdiniz.\")"
   ]
  },
  {
   "cell_type": "code",
   "execution_count": 18,
   "id": "02bf7e49",
   "metadata": {},
   "outputs": [
    {
     "name": "stdout",
     "output_type": "stream",
     "text": [
      "Yokmuş\n"
     ]
    }
   ],
   "source": [
    "if \"Gümüşışık\" in isim: # isimde Gümüşışık varsa\n",
    "    print(\"Varmış\")\n",
    "else: \n",
    "    print(\"Yokmuş\")"
   ]
  },
  {
   "cell_type": "code",
   "execution_count": 19,
   "id": "c18e0155",
   "metadata": {},
   "outputs": [
    {
     "name": "stdout",
     "output_type": "stream",
     "text": [
      "Evet varmış\n"
     ]
    }
   ],
   "source": [
    "liste = [10, 20, 30, 40, 50]\n",
    "if 10 in liste:\n",
    "    print(\"Evet varmış\")"
   ]
  },
  {
   "cell_type": "markdown",
   "id": "f4178ee4",
   "metadata": {},
   "source": [
    "## İÇ İÇE if - else"
   ]
  },
  {
   "cell_type": "code",
   "execution_count": 21,
   "id": "d23fef80",
   "metadata": {},
   "outputs": [
    {
     "name": "stdout",
     "output_type": "stream",
     "text": [
      "3. Sayı 5'ten büyüktür.\n",
      "4. Sayı 10'dan küçüktür.\n"
     ]
    }
   ],
   "source": [
    "sayi3 = 10\n",
    "sayi4 = 20\n",
    "\n",
    "if sayi3 > 5:\n",
    "    print(\"3. Sayı 5'ten büyüktür.\")\n",
    "    if sayi4 > 10:\n",
    "        print(\"4. Sayı 10'dan küçüktür.\")\n",
    "    else: \n",
    "        print(\"İkinci else bloğu\")\n",
    "else:\n",
    "    print(\"Birinci else bloğu\")"
   ]
  },
  {
   "cell_type": "code",
   "execution_count": null,
   "id": "cc57c511",
   "metadata": {},
   "outputs": [],
   "source": []
  }
 ],
 "metadata": {
  "kernelspec": {
   "display_name": "Python 3",
   "language": "python",
   "name": "python3"
  },
  "language_info": {
   "codemirror_mode": {
    "name": "ipython",
    "version": 3
   },
   "file_extension": ".py",
   "mimetype": "text/x-python",
   "name": "python",
   "nbconvert_exporter": "python",
   "pygments_lexer": "ipython3",
   "version": "3.8.8"
  }
 },
 "nbformat": 4,
 "nbformat_minor": 5
}
