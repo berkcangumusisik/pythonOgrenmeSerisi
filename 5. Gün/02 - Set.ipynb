{
 "cells": [
  {
   "cell_type": "markdown",
   "id": "ca4335f3",
   "metadata": {},
   "source": [
    "# SET"
   ]
  },
  {
   "cell_type": "markdown",
   "id": "b9757906",
   "metadata": {},
   "source": [
    "- Listelere benzer.\n",
    "- En önemli özelliği indexsiz ve sırasız elemanlardan oluşmasıdır.\n",
    "- Veri tekrarı söz konusu değildir. Tüm elemanlar eşsizdir.\n",
    "- {} içerisinde tanımlanır.\n",
    "- Çok hızlı bir veri tipidir."
   ]
  },
  {
   "cell_type": "code",
   "execution_count": 1,
   "id": "1d057bd8",
   "metadata": {},
   "outputs": [
    {
     "name": "stdout",
     "output_type": "stream",
     "text": [
      "{'Salih', 'Berkcan', 'Engin', 'Derin'}\n",
      "<class 'set'>\n"
     ]
    }
   ],
   "source": [
    "students = {\"Engin\",\"Derin\",\"Salih\",\"Berkcan\"}\n",
    "print(students)\n",
    "print(type(students))"
   ]
  },
  {
   "cell_type": "code",
   "execution_count": 2,
   "id": "4682eb7d",
   "metadata": {},
   "outputs": [
    {
     "ename": "TypeError",
     "evalue": "'set' object is not subscriptable",
     "output_type": "error",
     "traceback": [
      "\u001b[1;31m---------------------------------------------------------------------------\u001b[0m",
      "\u001b[1;31mTypeError\u001b[0m                                 Traceback (most recent call last)",
      "\u001b[1;32m<ipython-input-2-c2a68bbcc1bc>\u001b[0m in \u001b[0;36m<module>\u001b[1;34m\u001b[0m\n\u001b[1;32m----> 1\u001b[1;33m \u001b[0mprint\u001b[0m\u001b[1;33m[\u001b[0m\u001b[0mstudents\u001b[0m\u001b[1;33m[\u001b[0m\u001b[1;36m0\u001b[0m\u001b[1;33m]\u001b[0m\u001b[1;33m]\u001b[0m\u001b[1;33m\u001b[0m\u001b[1;33m\u001b[0m\u001b[0m\n\u001b[0m",
      "\u001b[1;31mTypeError\u001b[0m: 'set' object is not subscriptable"
     ]
    }
   ],
   "source": [
    "print[students[0]] #indexlenemez"
   ]
  },
  {
   "cell_type": "code",
   "execution_count": 3,
   "id": "f5525578",
   "metadata": {},
   "outputs": [
    {
     "name": "stdout",
     "output_type": "stream",
     "text": [
      "Salih\n",
      "Berkcan\n",
      "Engin\n",
      "Derin\n"
     ]
    }
   ],
   "source": [
    "for student in students:\n",
    "    print(student)"
   ]
  },
  {
   "cell_type": "code",
   "execution_count": 4,
   "id": "f47208cf",
   "metadata": {
    "scrolled": true
   },
   "outputs": [
    {
     "name": "stdout",
     "output_type": "stream",
     "text": [
      "True\n"
     ]
    }
   ],
   "source": [
    "print(\"Berkcan\" in students) #Listede var mı diye sorgulatma"
   ]
  },
  {
   "cell_type": "markdown",
   "id": "96eded7c",
   "metadata": {},
   "source": [
    "# add()\n",
    "- Veri eklemeyi sağlar."
   ]
  },
  {
   "cell_type": "code",
   "execution_count": 6,
   "id": "421cd68f",
   "metadata": {
    "scrolled": true
   },
   "outputs": [
    {
     "name": "stdout",
     "output_type": "stream",
     "text": [
      "{'Berkcan', 'Ali', 'Engin', 'Derin', 'Salih'}\n"
     ]
    }
   ],
   "source": [
    "students.add(\"Ali\")\n",
    "print(students)"
   ]
  },
  {
   "cell_type": "markdown",
   "id": "4f229cea",
   "metadata": {},
   "source": [
    "# update()\n",
    "- Çoklu veri eklemeyi sağlar."
   ]
  },
  {
   "cell_type": "code",
   "execution_count": 7,
   "id": "d81eda56",
   "metadata": {},
   "outputs": [
    {
     "name": "stdout",
     "output_type": "stream",
     "text": [
      "{'Selin', 'Berkcan', 'Mert', 'Merve', 'Ali', 'Engin', 'Derin', 'Salih'}\n"
     ]
    }
   ],
   "source": [
    "students.update([\"Merve\",\"Mert\",\"Selin\"])\n",
    "print(students)"
   ]
  },
  {
   "cell_type": "markdown",
   "id": "01e2771d",
   "metadata": {},
   "source": [
    "# remove()\n",
    "- Silme işlemini yapar."
   ]
  },
  {
   "cell_type": "code",
   "execution_count": 10,
   "id": "0b8f9e38",
   "metadata": {},
   "outputs": [
    {
     "name": "stdout",
     "output_type": "stream",
     "text": [
      "{'Berkcan', 'Mert', 'Merve', 'Ali', 'Engin', 'Derin', 'Salih'}\n"
     ]
    }
   ],
   "source": [
    "students.remove(\"Selin\")\n",
    "print(students)"
   ]
  },
  {
   "cell_type": "markdown",
   "id": "8fa6ab8b",
   "metadata": {},
   "source": [
    "# pop()\n",
    "- Setin son elemanını siler."
   ]
  },
  {
   "cell_type": "code",
   "execution_count": 11,
   "id": "74fdbe0b",
   "metadata": {},
   "outputs": [
    {
     "name": "stdout",
     "output_type": "stream",
     "text": [
      "{'Mert', 'Merve', 'Ali', 'Engin', 'Derin', 'Salih'}\n"
     ]
    }
   ],
   "source": [
    "students.pop()\n",
    "print(students)"
   ]
  },
  {
   "cell_type": "markdown",
   "id": "4efdb4ee",
   "metadata": {},
   "source": [
    "# clear()\n",
    "- Set'in içini boşaltır."
   ]
  },
  {
   "cell_type": "code",
   "execution_count": 1,
   "id": "212565e4",
   "metadata": {},
   "outputs": [
    {
     "ename": "NameError",
     "evalue": "name 'students' is not defined",
     "output_type": "error",
     "traceback": [
      "\u001b[1;31m---------------------------------------------------------------------------\u001b[0m",
      "\u001b[1;31mNameError\u001b[0m                                 Traceback (most recent call last)",
      "\u001b[1;32mc:\\Users\\BERKCAN\\Documents\\GitHub\\pythonOgrenmeSerisi\\5. Gün\\02 - Set.ipynb Hücre 16\u001b[0m in \u001b[0;36m<cell line: 1>\u001b[1;34m()\u001b[0m\n\u001b[1;32m----> <a href='vscode-notebook-cell:/c%3A/Users/BERKCAN/Documents/GitHub/pythonOgrenmeSerisi/5.%20G%C3%BCn/02%20-%20Set.ipynb#ch0000015?line=0'>1</a>\u001b[0m students\u001b[39m.\u001b[39mpop()\n\u001b[0;32m      <a href='vscode-notebook-cell:/c%3A/Users/BERKCAN/Documents/GitHub/pythonOgrenmeSerisi/5.%20G%C3%BCn/02%20-%20Set.ipynb#ch0000015?line=1'>2</a>\u001b[0m \u001b[39mprint\u001b[39m(students)\n",
      "\u001b[1;31mNameError\u001b[0m: name 'students' is not defined"
     ]
    }
   ],
   "source": [
    "students.pop()\n",
    "print(students)"
   ]
  }
 ],
 "metadata": {
  "kernelspec": {
   "display_name": "Python 3.10.5 64-bit",
   "language": "python",
   "name": "python3"
  },
  "language_info": {
   "codemirror_mode": {
    "name": "ipython",
    "version": 3
   },
   "file_extension": ".py",
   "mimetype": "text/x-python",
   "name": "python",
   "nbconvert_exporter": "python",
   "pygments_lexer": "ipython3",
   "version": "3.10.5"
  },
  "vscode": {
   "interpreter": {
    "hash": "5026d2d6e7aaaaba093def813beadff083d8733e4a511af01735cbabd156995d"
   }
  }
 },
 "nbformat": 4,
 "nbformat_minor": 5
}
