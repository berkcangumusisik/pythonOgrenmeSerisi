{
 "cells": [
  {
   "cell_type": "markdown",
   "id": "47393a03",
   "metadata": {},
   "source": [
    "# VARIABLES - DEĞİŞKENLER\n"
   ]
  },
  {
   "cell_type": "markdown",
   "id": "d4243071",
   "metadata": {},
   "source": [
    "- Değişkenler bir verininin değerini saklamayı sağlarlar.\n",
    "- Değişkenler verilerin sonradan değiştirilmesine olan sağladığı için çok kullanışlıdır. Mesela bir bankada çalışıyoruz ve faiz oranını mesela 1.3'ten 1.1'e düşürmek isteniyor ve elimizde 1000 satırlık veri var bu oranı bir değişkene atarsak tek seferde bir yerde 1.1 yapmamız yeterli olacaktır. Diğer durumda 1000 satırlık kodu tek tek incelememiz gerekir.\n",
    "- Kodlar sırayla çalışır."
   ]
  },
  {
   "cell_type": "markdown",
   "id": "32c8cc0c",
   "metadata": {},
   "source": [
    "# DEĞİŞKEN TANIMLAMA KURALLARI\n"
   ]
  },
  {
   "cell_type": "markdown",
   "id": "46c2aa55",
   "metadata": {},
   "source": [
    "- Değişken adlarında sayılar, harfler ya da alt çizgi kullanılabilir. Ama değişken isimlendirmeleri alt çizgi ya da harfle başlar.\n",
    "- Değişken adları aritmetik işleçlerle başlayamaz.\n",
    "- Değişken adlandırırken Türkçe karakter kullanmamaya özen göstermeliyiz.\n",
    "- Değişken isimlendirirken boşluk kullanılmaz. Genellikle camelCase adlandırma yaparız.\n",
    "- Python anahtar kelimeleri kullanılamaz.\n",
    "- Değişken adlandırılırken rakamla başlayamaz.\n",
    "- Büyük küçük harf duyarlıdır.\n",
    "- Değişken adları ne çok kısa, ne de çok uzun olmalıdır. Aynı zamanda kodu okuyan kişi değişkeninin ne için kullanıldığını anlaması gerekir."
   ]
  },
  {
   "cell_type": "markdown",
   "id": "f9bc709a",
   "metadata": {},
   "source": [
    "## Python İfadeleri\n",
    "'False', 'None', 'True', 'and', 'as', 'assert', 'async', 'await', 'break', 'class', 'continue', 'def', 'del',\n",
    "'elif', 'else', 'except', 'finally', 'for', 'from', 'global', 'if', 'import', 'in', 'is', 'lambda', 'nonlocal',\n",
    "'not', 'or', 'pass', 'raise', 'return', 'try', 'while', 'with', 'yield'"
   ]
  },
  {
   "cell_type": "code",
   "execution_count": 41,
   "id": "ebf7b01a",
   "metadata": {},
   "outputs": [],
   "source": [
    "x = 5"
   ]
  },
  {
   "cell_type": "code",
   "execution_count": 42,
   "id": "437de32d",
   "metadata": {},
   "outputs": [],
   "source": [
    "y = 4"
   ]
  },
  {
   "cell_type": "code",
   "execution_count": 43,
   "id": "585cfe03",
   "metadata": {},
   "outputs": [
    {
     "name": "stdout",
     "output_type": "stream",
     "text": [
      "20\n"
     ]
    }
   ],
   "source": [
    "print(x*y)"
   ]
  },
  {
   "cell_type": "code",
   "execution_count": 44,
   "id": "2d0e7077",
   "metadata": {},
   "outputs": [],
   "source": [
    "x = 6"
   ]
  },
  {
   "cell_type": "code",
   "execution_count": 45,
   "id": "efee3182",
   "metadata": {},
   "outputs": [
    {
     "name": "stdout",
     "output_type": "stream",
     "text": [
      "24\n"
     ]
    }
   ],
   "source": [
    "print(x * y)"
   ]
  },
  {
   "cell_type": "code",
   "execution_count": 46,
   "id": "b9beb6bd",
   "metadata": {},
   "outputs": [
    {
     "name": "stdout",
     "output_type": "stream",
     "text": [
      "40\n"
     ]
    }
   ],
   "source": [
    "print(y*10)"
   ]
  },
  {
   "cell_type": "code",
   "execution_count": 47,
   "id": "04cc9ebb",
   "metadata": {},
   "outputs": [],
   "source": [
    "#HATALI DEĞİŞKEN ADLANDIRMA KURALLARI\n",
    "#1deneme = 1234\n",
    "#ağırlık = 13\n",
    "#boy uzunluğu = 138\n",
    "#if = \"deneme\""
   ]
  }
 ],
 "metadata": {
  "interpreter": {
   "hash": "96f2b75f092ed1a0519a47617957f87ef8220e3e362917a5d4c2f9cc419b7475"
  },
  "kernelspec": {
   "display_name": "Python 3",
   "language": "python",
   "name": "python3"
  },
  "language_info": {
   "codemirror_mode": {
    "name": "ipython",
    "version": 3
   },
   "file_extension": ".py",
   "mimetype": "text/x-python",
   "name": "python",
   "nbconvert_exporter": "python",
   "pygments_lexer": "ipython3",
   "version": "3.8.8"
  }
 },
 "nbformat": 4,
 "nbformat_minor": 5
}
