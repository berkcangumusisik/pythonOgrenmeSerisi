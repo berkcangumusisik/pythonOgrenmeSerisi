{
 "cells": [
  {
   "cell_type": "markdown",
   "id": "22c078bc",
   "metadata": {},
   "source": [
    " # in Operatörü \n",
    " - Belirtilen bir değerin, dizi, metin, liste veya demet gibi bir dizinin öğesi olup olmadığını kontrol eder.\n",
    " - True ya da false değeri döndürür."
   ]
  },
  {
   "cell_type": "code",
   "execution_count": 1,
   "id": "0fc20034",
   "metadata": {},
   "outputs": [],
   "source": [
    "string = \"Python\""
   ]
  },
  {
   "cell_type": "code",
   "execution_count": 2,
   "id": "ec1ae7b2",
   "metadata": {},
   "outputs": [
    {
     "data": {
      "text/plain": [
       "False"
      ]
     },
     "execution_count": 2,
     "metadata": {},
     "output_type": "execute_result"
    }
   ],
   "source": [
    "\"p\" in string"
   ]
  },
  {
   "cell_type": "code",
   "execution_count": 3,
   "id": "b72b961f",
   "metadata": {},
   "outputs": [
    {
     "data": {
      "text/plain": [
       "True"
      ]
     },
     "execution_count": 3,
     "metadata": {},
     "output_type": "execute_result"
    }
   ],
   "source": [
    "\"y\" in string"
   ]
  },
  {
   "cell_type": "code",
   "execution_count": 5,
   "id": "7f762f82",
   "metadata": {},
   "outputs": [
    {
     "name": "stdout",
     "output_type": "stream",
     "text": [
      "True\n",
      "False\n"
     ]
    }
   ],
   "source": [
    "liste = [1,2,3,4,5,6]\n",
    "print(1 in liste)\n",
    "print(10 in liste)"
   ]
  },
  {
   "cell_type": "code",
   "execution_count": 6,
   "id": "50267966",
   "metadata": {},
   "outputs": [
    {
     "name": "stdout",
     "output_type": "stream",
     "text": [
      "True\n",
      "False\n"
     ]
    }
   ],
   "source": [
    "demet = (4,5,6,7)\n",
    "print(4 in demet)\n",
    "print(12 in demet)"
   ]
  },
  {
   "cell_type": "code",
   "execution_count": 7,
   "id": "95eef926",
   "metadata": {},
   "outputs": [
    {
     "name": "stdout",
     "output_type": "stream",
     "text": [
      "True\n"
     ]
    }
   ],
   "source": [
    "sozluk = {\"TL\" : \"Türkiye\",\"Euro\" : \"Avrupa\", \"Dolar\":\"ABD\"}\n",
    "print(\"TL\" in sozluk)"
   ]
  },
  {
   "cell_type": "markdown",
   "id": "860dc60b",
   "metadata": {},
   "source": [
    " # DÖNGÜLER\n",
    "- Döngüler, temel olarak, verilen koşullar karşılanana kadar devam eden tekrar eden bir süreçtir.\n",
    "- Döngünün koşulu her zaman doğruysa döngü sonsuza kadar devam eder. Hangisine \"Sonsuz döngü\" denir. Bu tür döngülere genellikle while döngüsünde rastlarız.\n",
    "- Eğer bir döngünün koşulu baştan yanlışsa, bu nedenle döngünün çalışmasına izin vermez. Sonra buna \"sıfır açma döngüsü\" denir."
   ]
  },
  {
   "cell_type": "markdown",
   "id": "c481f317",
   "metadata": {},
   "source": [
    "# FOR DÖNGÜSÜ\n",
    "\n",
    "for Döngüsü , listelerin ,demetlerin, stringlerin ve hatta sözlüklerin üzerinde dolaşmamızı sağlayan bir döngü türüdür. Yapısı şu şekildedir.\n",
    "```python\n",
    "for eleman in veriYapisi:\n",
    "    Yapılacak İşlemler"
   ]
  },
  {
   "cell_type": "code",
   "execution_count": 8,
   "id": "b1905fde",
   "metadata": {},
   "outputs": [
    {
     "name": "stdout",
     "output_type": "stream",
     "text": [
      "1\n",
      "2\n",
      "3\n",
      "4\n",
      "5\n"
     ]
    }
   ],
   "source": [
    "liste1 = [1,2,3,4,5]\n",
    "for i in liste1:\n",
    "    print(i)"
   ]
  },
  {
   "cell_type": "code",
   "execution_count": 9,
   "id": "d58bab30",
   "metadata": {},
   "outputs": [
    {
     "name": "stdout",
     "output_type": "stream",
     "text": [
      "-4\n",
      "-3\n",
      "-2\n",
      "-1\n",
      "0\n"
     ]
    }
   ],
   "source": [
    "for i in liste1:\n",
    "    print(i-5)"
   ]
  },
  {
   "cell_type": "code",
   "execution_count": 11,
   "id": "53ceaea0",
   "metadata": {},
   "outputs": [
    {
     "name": "stdout",
     "output_type": "stream",
     "text": [
      "P\n",
      "y\n",
      "t\n",
      "h\n",
      "o\n",
      "n\n"
     ]
    }
   ],
   "source": [
    "string1 = \"Python\"\n",
    "for i in string1:\n",
    "    print(i)"
   ]
  },
  {
   "cell_type": "code",
   "execution_count": 12,
   "id": "83fb6e42",
   "metadata": {},
   "outputs": [
    {
     "name": "stdout",
     "output_type": "stream",
     "text": [
      "1\n",
      "4\n",
      "9\n",
      "16\n",
      "25\n"
     ]
    }
   ],
   "source": [
    "sayilar = \"12345\"\n",
    "for i in sayilar:\n",
    "    print(int(i) * int(i))"
   ]
  },
  {
   "cell_type": "code",
   "execution_count": 13,
   "id": "5e5f7441",
   "metadata": {},
   "outputs": [
    {
     "name": "stdout",
     "output_type": "stream",
     "text": [
      "1\n",
      "2\n",
      "3\n",
      "4\n"
     ]
    }
   ],
   "source": [
    "demet = (1,2,3,4)\n",
    "for i in demet:\n",
    "    print(i)"
   ]
  },
  {
   "cell_type": "code",
   "execution_count": 14,
   "id": "06fe9356",
   "metadata": {},
   "outputs": [
    {
     "name": "stdout",
     "output_type": "stream",
     "text": [
      "TL\n",
      "Euro\n",
      "Dolar\n"
     ]
    }
   ],
   "source": [
    "sozluk = {\"TL\" : \"Türkiye\",\"Euro\" : \"Avrupa\", \"Dolar\":\"ABD\"}\n",
    "for i in sozluk:\n",
    "    print(i)"
   ]
  },
  {
   "cell_type": "code",
   "execution_count": 15,
   "id": "d2419a89",
   "metadata": {},
   "outputs": [
    {
     "name": "stdout",
     "output_type": "stream",
     "text": [
      "Toplam Değer : 48\n"
     ]
    }
   ],
   "source": [
    "numbers = [6,5,3,8,4,2,5,4,11]\n",
    "sum = 0\n",
    "for val in numbers:\n",
    "    sum += val\n",
    "print(f\"Toplam Değer : {sum}\")"
   ]
  },
  {
   "cell_type": "code",
   "execution_count": 16,
   "id": "ed1e939a",
   "metadata": {},
   "outputs": [
    {
     "name": "stdout",
     "output_type": "stream",
     "text": [
      "Ankara için kod = Ank\n",
      "İstanbul için kod = İst\n",
      "İzmir için kod = İzm\n"
     ]
    }
   ],
   "source": [
    "sehirler = [\"Ankara\",\"İstanbul\",\"İzmir\"]\n",
    "for sehir in sehirler:\n",
    "    print(sehir + \" için kod = \" + sehir[0:3])"
   ]
  },
  {
   "cell_type": "code",
   "execution_count": 17,
   "id": "ea9b7b84",
   "metadata": {},
   "outputs": [
    {
     "name": "stdout",
     "output_type": "stream",
     "text": [
      "İstanbul için kod = İst\n",
      "İzmir için kod = İzm\n"
     ]
    }
   ],
   "source": [
    "sehirler = [\"Ankara\",\"İstanbul\",\"İzmir\"]\n",
    "for sehir in sehirler:\n",
    "    if sehir != \"Ankara\":\n",
    "        print(sehir + \" için kod = \" + sehir[0:3])"
   ]
  },
  {
   "cell_type": "code",
   "execution_count": 18,
   "id": "073a9104",
   "metadata": {},
   "outputs": [
    {
     "name": "stdout",
     "output_type": "stream",
     "text": [
      "62  sayısı Çift\n",
      "63  sayısı tek\n",
      "78  sayısı Çift\n",
      "45  sayısı tek\n",
      "47  sayısı tek\n",
      "107  sayısı tek\n",
      "15  sayısı tek\n"
     ]
    }
   ],
   "source": [
    "list2 = [62,63,78,45,47,107,15]\n",
    "for i in list2:\n",
    "    if(i % 2 == 0):\n",
    "        print(i,\" sayısı Çift\")\n",
    "    else:\n",
    "        print(i,\" sayısı tek\")"
   ]
  },
  {
   "cell_type": "code",
   "execution_count": 19,
   "id": "c2a25b05",
   "metadata": {},
   "outputs": [
    {
     "name": "stdout",
     "output_type": "stream",
     "text": [
      "(1, 2)\n",
      "(4, 5)\n",
      "(10, 11)\n"
     ]
    }
   ],
   "source": [
    "listeDemet = [(1,2),(4,5),(10,11)]\n",
    "for i in listeDemet:\n",
    "    print(i)"
   ]
  },
  {
   "cell_type": "code",
   "execution_count": 20,
   "id": "1107f30a",
   "metadata": {},
   "outputs": [
    {
     "name": "stdout",
     "output_type": "stream",
     "text": [
      "2\n",
      "20\n",
      "110\n"
     ]
    }
   ],
   "source": [
    "for (i,j) in listeDemet:\n",
    "    print(i*j)"
   ]
  },
  {
   "cell_type": "markdown",
   "id": "04a07094",
   "metadata": {},
   "source": [
    "# While Döngüsü\n",
    "- while döngüleri belli bir koşul sağlandığı sürece bloğundaki işlemleri gerçekleştirmeye devam eder. while döngülerinin sona ermesi için koşul durumunun bir süre sonra False olması gereklidir.Yapısı şu şekildedir;\n",
    "```python\n",
    "while koşul:\n",
    "    Yapılacak İşlemler\n",
    "```"
   ]
  },
  {
   "cell_type": "code",
   "execution_count": 21,
   "id": "fc847b61",
   "metadata": {},
   "outputs": [
    {
     "name": "stdout",
     "output_type": "stream",
     "text": [
      "Toplam : 55\n"
     ]
    }
   ],
   "source": [
    "sum = 0\n",
    "i = 1\n",
    "while i <= 10:\n",
    "    sum += i\n",
    "    i += 1\n",
    "print(\"Toplam :\", sum)"
   ]
  },
  {
   "cell_type": "code",
   "execution_count": 22,
   "id": "ebc37415",
   "metadata": {},
   "outputs": [
    {
     "name": "stdout",
     "output_type": "stream",
     "text": [
      "i'nin değeri 0\n",
      "i'nin değeri 1\n",
      "i'nin değeri 2\n",
      "i'nin değeri 3\n",
      "i'nin değeri 4\n",
      "i'nin değeri 5\n",
      "i'nin değeri 6\n",
      "i'nin değeri 7\n",
      "i'nin değeri 8\n",
      "i'nin değeri 9\n"
     ]
    }
   ],
   "source": [
    "i = 0 \n",
    "\n",
    "while (i < 10):\n",
    "    print(\"i'nin değeri\",i)\n",
    "    i += 1"
   ]
  }
 ],
 "metadata": {
  "kernelspec": {
   "display_name": "Python 3.10.5 64-bit",
   "language": "python",
   "name": "python3"
  },
  "language_info": {
   "codemirror_mode": {
    "name": "ipython",
    "version": 3
   },
   "file_extension": ".py",
   "mimetype": "text/x-python",
   "name": "python",
   "nbconvert_exporter": "python",
   "pygments_lexer": "ipython3",
   "version": "3.10.5"
  },
  "vscode": {
   "interpreter": {
    "hash": "5026d2d6e7aaaaba093def813beadff083d8733e4a511af01735cbabd156995d"
   }
  }
 },
 "nbformat": 4,
 "nbformat_minor": 5
}
