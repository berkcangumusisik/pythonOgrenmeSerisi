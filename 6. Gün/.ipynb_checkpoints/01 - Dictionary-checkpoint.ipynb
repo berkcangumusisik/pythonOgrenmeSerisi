{
 "cells": [
  {
   "cell_type": "markdown",
   "id": "779d4a45",
   "metadata": {},
   "source": [
    "# Dictionary(Sözlük)"
   ]
  },
  {
   "cell_type": "markdown",
   "id": "b4c6c75f",
   "metadata": {},
   "source": [
    "- Sırasız veri tutar.\n",
    "- Günlük hayatta olan sözlükler gibi düşünebiliriz.\n",
    "- { } arasında tanımlanır.\n",
    "- key: anahtar - bir bilgiye ulaşmak için kullanılır.\n",
    "- value: değer \n",
    "- key- value için örnek verecek olursak:\n",
    "   - 41 => Kocaeli burada 41 key Kocaeli value değeri oluyor ya da 06 => Ankara 06 key Ankara value\n",
    "- dict(\"\") şeklinde de sözlük tanımlayabiliriz."
   ]
  },
  {
   "cell_type": "markdown",
   "id": "623f48c0",
   "metadata": {},
   "source": [
    "# key- value pairing (anahtar kelime - değer eşleşmesi"
   ]
  },
  {
   "cell_type": "markdown",
   "id": "f7b27cb8",
   "metadata": {},
   "source": [
    "{\"anahtar kelime\" : \"deger\"}\n",
    "\n",
    "{\"key\" : \"value\"}"
   ]
  },
  {
   "cell_type": "code",
   "execution_count": 1,
   "id": "52300ba7",
   "metadata": {},
   "outputs": [
    {
     "name": "stdout",
     "output_type": "stream",
     "text": [
      "{'Elma': 100, 'Karpuz': 200, 'Muz': 300}\n",
      "<class 'dict'>\n"
     ]
    }
   ],
   "source": [
    "yemekKaloriSozlugu = {\"Elma\":100 , \"Karpuz\":200,\"Muz\":300}\n",
    "print(yemekKaloriSozlugu)\n",
    "print(type(yemekKaloriSozlugu))"
   ]
  },
  {
   "cell_type": "code",
   "execution_count": 5,
   "id": "888db5d9",
   "metadata": {},
   "outputs": [
    {
     "name": "stdout",
     "output_type": "stream",
     "text": [
      "100\n"
     ]
    }
   ],
   "source": [
    "print(yemekKaloriSozlugu[\"Elma\"]) # key değeri yazılarak value değerine ulaşırız."
   ]
  },
  {
   "cell_type": "markdown",
   "id": "7587cde7",
   "metadata": {},
   "source": [
    "### Sözlüklere integer, float, string ya da tuple veri tipleri kullanılırken listeler ve sözlükler kullanılmaz."
   ]
  },
  {
   "cell_type": "code",
   "execution_count": 4,
   "id": "95b8871b",
   "metadata": {
    "scrolled": true
   },
   "outputs": [
    {
     "name": "stdout",
     "output_type": "stream",
     "text": [
      "{'book': 'kitap', 'table': 'masa'}\n"
     ]
    }
   ],
   "source": [
    "sozluk = {\n",
    "    \"book\" : \"kitap\",\n",
    "    \"table\" : \"masa\"\n",
    "}\n",
    "print(sozluk)"
   ]
  },
  {
   "cell_type": "markdown",
   "id": "57436800",
   "metadata": {},
   "source": [
    "# Veri Güncelleme"
   ]
  },
  {
   "cell_type": "code",
   "execution_count": 6,
   "id": "e620327d",
   "metadata": {
    "scrolled": true
   },
   "outputs": [
    {
     "name": "stdout",
     "output_type": "stream",
     "text": [
      "{'book': 'kitap1', 'table': 'masa'}\n"
     ]
    }
   ],
   "source": [
    "sozluk[\"book\"]  = \"kitap1\"\n",
    "print(sozluk)"
   ]
  },
  {
   "cell_type": "markdown",
   "id": "b22d513b",
   "metadata": {},
   "source": [
    "# Veri Ekleme"
   ]
  },
  {
   "cell_type": "code",
   "execution_count": 7,
   "id": "56f33a9f",
   "metadata": {},
   "outputs": [
    {
     "name": "stdout",
     "output_type": "stream",
     "text": [
      "{'book': 'kitap1', 'table': 'masa', 'pencil': 'kalem'}\n"
     ]
    }
   ],
   "source": [
    "sozluk[\"pencil\"] = \"kalem\"\n",
    "print(sozluk)"
   ]
  },
  {
   "cell_type": "markdown",
   "id": "ac79a47b",
   "metadata": {},
   "source": [
    "# Veri Silme"
   ]
  },
  {
   "cell_type": "code",
   "execution_count": 8,
   "id": "99e9e142",
   "metadata": {},
   "outputs": [
    {
     "name": "stdout",
     "output_type": "stream",
     "text": [
      "{'table': 'masa', 'pencil': 'kalem'}\n"
     ]
    }
   ],
   "source": [
    "del(sozluk[\"book\"])\n",
    "print(sozluk)"
   ]
  },
  {
   "cell_type": "code",
   "execution_count": 9,
   "id": "8e6d292f",
   "metadata": {},
   "outputs": [
    {
     "name": "stdout",
     "output_type": "stream",
     "text": [
      "2\n"
     ]
    }
   ],
   "source": [
    "print(len(sozluk))"
   ]
  },
  {
   "cell_type": "markdown",
   "id": "43bf6ed9",
   "metadata": {},
   "source": [
    "# Value'nun Sözlük Olması"
   ]
  },
  {
   "cell_type": "code",
   "execution_count": 10,
   "id": "b2d86845",
   "metadata": {},
   "outputs": [
    {
     "name": "stdout",
     "output_type": "stream",
     "text": [
      "{1: {'TL': 'Türkiye'}}\n"
     ]
    }
   ],
   "source": [
    "sozlukValue = {1:{\"TL\": \"Türkiye\"}}\n",
    "print(sozlukValue)"
   ]
  },
  {
   "cell_type": "code",
   "execution_count": 11,
   "id": "1c30deb2",
   "metadata": {},
   "outputs": [
    {
     "name": "stdout",
     "output_type": "stream",
     "text": [
      "Türkiye\n"
     ]
    }
   ],
   "source": [
    "print(sozlukValue[1][\"TL\"])"
   ]
  },
  {
   "cell_type": "markdown",
   "id": "ae7a6d23",
   "metadata": {},
   "source": [
    "# Sözlüklerde Metotlar"
   ]
  },
  {
   "cell_type": "markdown",
   "id": "655c324e",
   "metadata": {},
   "source": [
    "# .keys() Metodu\n",
    "- Sözlüğümüzde bulunan bütün key değerlerini verir"
   ]
  },
  {
   "cell_type": "code",
   "execution_count": 13,
   "id": "0667c59b",
   "metadata": {},
   "outputs": [
    {
     "name": "stdout",
     "output_type": "stream",
     "text": [
      "dict_keys(['table', 'pencil'])\n"
     ]
    }
   ],
   "source": [
    "print(sozluk.keys())"
   ]
  },
  {
   "cell_type": "markdown",
   "id": "6b7c4d2b",
   "metadata": {},
   "source": [
    "# .values() Metodu\n",
    "- Sözlüğümüzde bulunan bütün value değerlerini verir"
   ]
  },
  {
   "cell_type": "code",
   "execution_count": 14,
   "id": "9b2e6ef4",
   "metadata": {},
   "outputs": [
    {
     "name": "stdout",
     "output_type": "stream",
     "text": [
      "dict_values(['masa', 'kalem'])\n"
     ]
    }
   ],
   "source": [
    "print(sozluk.values())"
   ]
  },
  {
   "cell_type": "markdown",
   "id": "650de54a",
   "metadata": {},
   "source": [
    "# .items() Metodu\n",
    "- Sözlüğümüzde bulunan bütün key value değerlerini tuple halinde verir."
   ]
  },
  {
   "cell_type": "code",
   "execution_count": 15,
   "id": "16e0c8e9",
   "metadata": {},
   "outputs": [
    {
     "name": "stdout",
     "output_type": "stream",
     "text": [
      "dict_items([('table', 'masa'), ('pencil', 'kalem')])\n"
     ]
    }
   ],
   "source": [
    "print(sozluk.items())"
   ]
  },
  {
   "cell_type": "code",
   "execution_count": null,
   "id": "bcd9b238",
   "metadata": {},
   "outputs": [],
   "source": []
  }
 ],
 "metadata": {
  "kernelspec": {
   "display_name": "Python 3",
   "language": "python",
   "name": "python3"
  },
  "language_info": {
   "codemirror_mode": {
    "name": "ipython",
    "version": 3
   },
   "file_extension": ".py",
   "mimetype": "text/x-python",
   "name": "python",
   "nbconvert_exporter": "python",
   "pygments_lexer": "ipython3",
   "version": "3.8.8"
  }
 },
 "nbformat": 4,
 "nbformat_minor": 5
}
