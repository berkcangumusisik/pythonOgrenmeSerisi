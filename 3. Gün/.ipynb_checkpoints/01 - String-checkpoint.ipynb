{
 "cells": [
  {
   "cell_type": "markdown",
   "id": "a9c8474e",
   "metadata": {},
   "source": [
    "# String"
   ]
  },
  {
   "cell_type": "markdown",
   "id": "c8742503",
   "metadata": {},
   "source": [
    "- Metinsel ifadeleri ifade eder.\n",
    "- Metinsel ifadeler \" \", ' ', \"\"\" \"\"\" arasına yazılması gerekir.\n",
    "- Metinsel ifadelerde eğer tek tırnak ile başlandıysa tek tırnak ile devam edilmesi gerekmektedir.\n",
    "- Metinsel ifadelerin index ile ulaşma imkanı sağlar. Yazılımda index 0'dan başlar. Mesela \"Merhaba Dünya\" metninin 2. indexinde r vardır."
   ]
  },
  {
   "cell_type": "code",
   "execution_count": 1,
   "id": "6a287f92",
   "metadata": {},
   "outputs": [
    {
     "name": "stdout",
     "output_type": "stream",
     "text": [
      "Merhaba Dünya\n"
     ]
    }
   ],
   "source": [
    "print(\"Merhaba Dünya\")"
   ]
  },
  {
   "cell_type": "code",
   "execution_count": 4,
   "id": "24d76447",
   "metadata": {},
   "outputs": [
    {
     "name": "stdout",
     "output_type": "stream",
     "text": [
      "Merhaba\n",
      "<class 'str'>\n",
      "r\n"
     ]
    }
   ],
   "source": [
    "x = \"Merhaba\"\n",
    "print(x)\n",
    "print(type(x))\n",
    "print(x[2])"
   ]
  },
  {
   "cell_type": "markdown",
   "id": "6f51821a",
   "metadata": {},
   "source": [
    "# String Fonksiyonları"
   ]
  },
  {
   "cell_type": "markdown",
   "id": "850660b5",
   "metadata": {},
   "source": [
    "- İstenilen indexler arasında gösterim sağlanabilir."
   ]
  },
  {
   "cell_type": "code",
   "execution_count": 5,
   "id": "60968345",
   "metadata": {},
   "outputs": [
    {
     "name": "stdout",
     "output_type": "stream",
     "text": [
      "rha\n"
     ]
    }
   ],
   "source": [
    "print(x[2:5]) #2. indexten 5. indexe kadar bana göster demektir."
   ]
  },
  {
   "cell_type": "code",
   "execution_count": 6,
   "id": "1b85f533",
   "metadata": {},
   "outputs": [
    {
     "name": "stdout",
     "output_type": "stream",
     "text": [
      "rhaba\n"
     ]
    }
   ],
   "source": [
    "print(x[2:]) #2. indexten itibaren her şeyi yaz demektir."
   ]
  },
  {
   "cell_type": "code",
   "execution_count": 7,
   "id": "a778fdae",
   "metadata": {},
   "outputs": [
    {
     "name": "stdout",
     "output_type": "stream",
     "text": [
      "Me\n"
     ]
    }
   ],
   "source": [
    "print(x[:2]) #Baştan 2. indexe kadar göster"
   ]
  },
  {
   "cell_type": "code",
   "execution_count": 8,
   "id": "5e98dc2b",
   "metadata": {},
   "outputs": [
    {
     "name": "stdout",
     "output_type": "stream",
     "text": [
      "abahreM\n"
     ]
    }
   ],
   "source": [
    "print(x[::-1]) #tersten yaz demektir."
   ]
  },
  {
   "cell_type": "markdown",
   "id": "57bbfeb8",
   "metadata": {},
   "source": [
    "## Len Fonksiyonu\n",
    "- Bir metnin kaç karakterden oluştuğunu verir."
   ]
  },
  {
   "cell_type": "code",
   "execution_count": 9,
   "id": "b800ac6c",
   "metadata": {},
   "outputs": [
    {
     "name": "stdout",
     "output_type": "stream",
     "text": [
      "7\n"
     ]
    }
   ],
   "source": [
    "print(len(x))"
   ]
  },
  {
   "cell_type": "code",
   "execution_count": 12,
   "id": "abfbd26a",
   "metadata": {},
   "outputs": [
    {
     "name": "stdout",
     "output_type": "stream",
     "text": [
      "n\n"
     ]
    }
   ],
   "source": [
    "y = \"Merhaba Berkcan\"\n",
    "print(y[len(y)-1:len(y)])"
   ]
  },
  {
   "cell_type": "markdown",
   "id": "c3fa5e86",
   "metadata": {},
   "source": [
    "## Upper Fonksiyonu\n",
    "- Metinsel ifadeyi büyük harflerle yazmayı sağlar.\n"
   ]
  },
  {
   "cell_type": "code",
   "execution_count": 13,
   "id": "e20597d1",
   "metadata": {},
   "outputs": [
    {
     "name": "stdout",
     "output_type": "stream",
     "text": [
      "PYTHON ÖĞRENIYORUM\n"
     ]
    }
   ],
   "source": [
    "mesaj = \"python öğreniyorum\"\n",
    "print(mesaj.upper())"
   ]
  },
  {
   "cell_type": "markdown",
   "id": "cbad51b3",
   "metadata": {},
   "source": [
    "## Lower Fonksiyonu\n",
    "- Metinsel ifadeyi küçük harflerle yazmayı sağlar."
   ]
  },
  {
   "cell_type": "code",
   "execution_count": 14,
   "id": "8c1db72f",
   "metadata": {},
   "outputs": [
    {
     "name": "stdout",
     "output_type": "stream",
     "text": [
      "python öğreniyorum\n"
     ]
    }
   ],
   "source": [
    "print(mesaj.lower())"
   ]
  },
  {
   "cell_type": "markdown",
   "id": "d0ee4cc5",
   "metadata": {},
   "source": [
    "## Replace Fonksiyonu\n",
    "- Metinsel ifadeleri değiştirmeyi sağlar."
   ]
  },
  {
   "cell_type": "code",
   "execution_count": 15,
   "id": "d7c5df6e",
   "metadata": {},
   "outputs": [
    {
     "name": "stdout",
     "output_type": "stream",
     "text": [
      "python oğreniyorum\n"
     ]
    }
   ],
   "source": [
    "print(mesaj.replace(\"ö\",\"o\"))"
   ]
  },
  {
   "cell_type": "code",
   "execution_count": 16,
   "id": "bee55cd4",
   "metadata": {},
   "outputs": [
    {
     "name": "stdout",
     "output_type": "stream",
     "text": [
      "python ögreniyorum\n"
     ]
    }
   ],
   "source": [
    "print(mesaj.replace(\"ğ\",\"g\"))"
   ]
  },
  {
   "cell_type": "markdown",
   "id": "bf10fa2d",
   "metadata": {},
   "source": [
    "## Split Fonksiyonu\n",
    "- Metinsel ifadeleri kelime kelime ayırmayı sağlar.\n",
    "- Eğer boşluk bırakmak istersek .split(\" \") yapmalıyız. Aslında neyle ayırmak istersek onu ekliyoruz.\n",
    "\n"
   ]
  },
  {
   "cell_type": "code",
   "execution_count": 24,
   "id": "e076d736",
   "metadata": {},
   "outputs": [
    {
     "name": "stdout",
     "output_type": "stream",
     "text": [
      "['Berkcan', 'Gümüşışık', '22', 'Ankara']\n"
     ]
    }
   ],
   "source": [
    "bilgi1 = \"Berkcan Gümüşışık 22 Ankara\"\n",
    "print(bilgi1.split(\" \"))"
   ]
  },
  {
   "cell_type": "code",
   "execution_count": 25,
   "id": "be24aca6",
   "metadata": {},
   "outputs": [
    {
     "name": "stdout",
     "output_type": "stream",
     "text": [
      "['İbrahim ', ' Gümüşışık', ' 29 ', ' Ankara']\n"
     ]
    }
   ],
   "source": [
    "bilgi2 = \"İbrahim ; Gümüşışık; 29 ; Ankara\"\n",
    "print(bilgi2.split(\";\"))"
   ]
  },
  {
   "cell_type": "code",
   "execution_count": 27,
   "id": "ae3ee5f6",
   "metadata": {},
   "outputs": [
    {
     "name": "stdout",
     "output_type": "stream",
     "text": [
      "Adı: Berkcan\n"
     ]
    }
   ],
   "source": [
    "print(\"Adı: \" + bilgi1.split(\" \")[0])"
   ]
  },
  {
   "cell_type": "markdown",
   "id": "5af834fd",
   "metadata": {},
   "source": [
    "## Strip Metodu\n",
    "- Silmeyi sağlar.\n",
    "- lstrip() soldan silmeyi sağlar.\n",
    "- rstrip() sağdan silmei sağlar."
   ]
  },
  {
   "cell_type": "code",
   "execution_count": 36,
   "id": "bb7268fb",
   "metadata": {
    "scrolled": true
   },
   "outputs": [
    {
     "name": "stdout",
     "output_type": "stream",
     "text": [
      "Hello World \n",
      " Hello World\n"
     ]
    }
   ],
   "source": [
    "metin = \" Hello World \"\n",
    "print(metin.lstrip())\n",
    "print(metin.rstrip())"
   ]
  },
  {
   "cell_type": "markdown",
   "id": "213d851e",
   "metadata": {},
   "source": [
    "## Count Metodu\n",
    "- Bir karakterden kaç tane olduğunu sayar."
   ]
  },
  {
   "cell_type": "code",
   "execution_count": 38,
   "id": "049f0162",
   "metadata": {
    "scrolled": true
   },
   "outputs": [
    {
     "name": "stdout",
     "output_type": "stream",
     "text": [
      "3\n"
     ]
    }
   ],
   "source": [
    "print(metin.count(\"l\"))"
   ]
  },
  {
   "cell_type": "markdown",
   "id": "f447992d",
   "metadata": {},
   "source": [
    "## startswith Metodu\n",
    "- Bir dizinin bir şeyle başlayıp başlamadığının kontrolünü sağlar true ya da false değer döndürür.\n",
    "\n",
    "## endswith Metodu\n",
    "- Bir dizinin bir şeyle bitip bitmediğinin kontrolünü sağlar true ya da false değer döndürür."
   ]
  },
  {
   "cell_type": "code",
   "execution_count": 41,
   "id": "aae98d19",
   "metadata": {
    "scrolled": true
   },
   "outputs": [
    {
     "name": "stdout",
     "output_type": "stream",
     "text": [
      "True\n",
      "False\n"
     ]
    }
   ],
   "source": [
    "print(metin.startswith(\" Hel\"))\n",
    "print(metin.endswith(\"lo\"))"
   ]
  },
  {
   "cell_type": "markdown",
   "id": "c8c466ff",
   "metadata": {},
   "source": [
    "## Capitalize Metodu\n",
    "- Bir string ifadenin ilk harfini büyütür."
   ]
  },
  {
   "cell_type": "code",
   "execution_count": 29,
   "id": "9b683a5b",
   "metadata": {},
   "outputs": [
    {
     "name": "stdout",
     "output_type": "stream",
     "text": [
      "Berkcan gümüşışık\n"
     ]
    }
   ],
   "source": [
    "isim = \"berkcan gümüşışık\"\n",
    "print(isim.capitalize())"
   ]
  },
  {
   "cell_type": "markdown",
   "id": "62d6535b",
   "metadata": {},
   "source": [
    "## Bir Cümleyi Alt Satıra Geçirme\n",
    "- \\n ile yapılır."
   ]
  },
  {
   "cell_type": "code",
   "execution_count": 28,
   "id": "c932c902",
   "metadata": {},
   "outputs": [
    {
     "name": "stdout",
     "output_type": "stream",
     "text": [
      "Berkcan\n",
      "Gümüşışık\n"
     ]
    }
   ],
   "source": [
    "print(\"Berkcan\\nGümüşışık\")"
   ]
  },
  {
   "cell_type": "markdown",
   "id": "9ca856cd",
   "metadata": {},
   "source": [
    "## Formatlama\n",
    "- Bir değişkeni ismin yerine koymayı sağlar."
   ]
  },
  {
   "cell_type": "code",
   "execution_count": 34,
   "id": "36817458",
   "metadata": {},
   "outputs": [
    {
     "name": "stdout",
     "output_type": "stream",
     "text": [
      "Benim adım Berkcan\n"
     ]
    }
   ],
   "source": [
    "adim = \"Berkcan\"\n",
    "print(\"Benim adım {}\".format(adim))"
   ]
  },
  {
   "cell_type": "markdown",
   "id": "c6c1a79d",
   "metadata": {},
   "source": [
    "# String Toplama "
   ]
  },
  {
   "cell_type": "code",
   "execution_count": 35,
   "id": "066d6808",
   "metadata": {},
   "outputs": [
    {
     "name": "stdout",
     "output_type": "stream",
     "text": [
      "Benim adım Berkcan soyadım Gümüşışık 22 yaşındayım.\n",
      "Gazi Bilgisayar ve Öğretim Teknolojileri 3. sınıf öğrencisiyim. Yazılımla ilgileniyorum. Kitap okumaktan hoşlanırım.\n"
     ]
    }
   ],
   "source": [
    "ad = \"Berkcan\"\n",
    "soyad = \"Gümüşışık\"\n",
    "yas = \"22\"\n",
    "hakkimda = \"Gazi Bilgisayar ve Öğretim Teknolojileri 3. sınıf öğrencisiyim. Yazılımla ilgileniyorum. Kitap okumaktan hoşlanırım.\"\n",
    "print(\"Benim adım \" + ad + \" soyadım \" + soyad + \" \" + yas + \" yaşındayım.\\n\"+ hakkimda)"
   ]
  },
  {
   "cell_type": "code",
   "execution_count": 33,
   "id": "de7f0eaa",
   "metadata": {},
   "outputs": [
    {
     "name": "stdout",
     "output_type": "stream",
     "text": [
      "510\n"
     ]
    }
   ],
   "source": [
    "j = \"5\"\n",
    "l = \"10\"\n",
    "print(j + l)"
   ]
  },
  {
   "cell_type": "code",
   "execution_count": null,
   "id": "79160f61",
   "metadata": {},
   "outputs": [],
   "source": []
  }
 ],
 "metadata": {
  "kernelspec": {
   "display_name": "Python 3",
   "language": "python",
   "name": "python3"
  },
  "language_info": {
   "codemirror_mode": {
    "name": "ipython",
    "version": 3
   },
   "file_extension": ".py",
   "mimetype": "text/x-python",
   "name": "python",
   "nbconvert_exporter": "python",
   "pygments_lexer": "ipython3",
   "version": "3.8.8"
  }
 },
 "nbformat": 4,
 "nbformat_minor": 5
}
