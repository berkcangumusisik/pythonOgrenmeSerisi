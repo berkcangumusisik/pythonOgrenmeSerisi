{
 "cells": [
  {
   "cell_type": "markdown",
   "id": "a43e61ab",
   "metadata": {},
   "source": [
    "# MANTIKSAL OPERATÖRLER"
   ]
  },
  {
   "cell_type": "markdown",
   "id": "662ac33f",
   "metadata": {},
   "source": [
    "## AND OPERATÖRÜ\n",
    "-  True And True = True\n",
    "-  True And False = False\n",
    "-  False And True = False\n",
    "-  False And False= False\n",
    "\n",
    "Her iki durumda eğer doğruysa True değerini döndürür. Diğer durumlarda hep False değerini döndürür."
   ]
  },
  {
   "cell_type": "code",
   "execution_count": 2,
   "id": "2e0ad954",
   "metadata": {},
   "outputs": [
    {
     "name": "stdout",
     "output_type": "stream",
     "text": [
      "False\n"
     ]
    }
   ],
   "source": [
    "x = int(input(\"Bir sayı giriniz:\"))\n",
    "print(x > 5 and x < 100)"
   ]
  },
  {
   "cell_type": "code",
   "execution_count": 3,
   "id": "bc1b4b42",
   "metadata": {},
   "outputs": [
    {
     "name": "stdout",
     "output_type": "stream",
     "text": [
      "True\n"
     ]
    }
   ],
   "source": [
    "hak = 5\n",
    "devam = \"e\"\n",
    "print((hak > 0) and (devam==\"e\"))"
   ]
  },
  {
   "cell_type": "markdown",
   "id": "a5ced70e",
   "metadata": {},
   "source": [
    "## OR OPERATÖRÜ\n",
    "-  True or True = True\n",
    "-  True or False = True\n",
    "-  False or True = True\n",
    "-  False or False= False\n",
    "\n",
    "Yalnızca 2 durumun yanlış olduğu zaman False diğer her durumda True değer verir."
   ]
  },
  {
   "cell_type": "code",
   "execution_count": 4,
   "id": "fb055378",
   "metadata": {},
   "outputs": [
    {
     "name": "stdout",
     "output_type": "stream",
     "text": [
      "True\n"
     ]
    }
   ],
   "source": [
    "print((x > 0) or (x % 2 == 0))"
   ]
  },
  {
   "cell_type": "code",
   "execution_count": 5,
   "id": "23087812",
   "metadata": {},
   "outputs": [
    {
     "name": "stdout",
     "output_type": "stream",
     "text": [
      "True\n"
     ]
    }
   ],
   "source": [
    "print(3 > 1 and 3 > 2)"
   ]
  },
  {
   "cell_type": "code",
   "execution_count": 6,
   "id": "a115a739",
   "metadata": {},
   "outputs": [
    {
     "name": "stdout",
     "output_type": "stream",
     "text": [
      "True\n"
     ]
    }
   ],
   "source": [
    "print(3 > 1 or 3 > 2)"
   ]
  },
  {
   "cell_type": "markdown",
   "id": "20ed8489",
   "metadata": {},
   "source": [
    "## NOT OPERATÖRÜ \n",
    "- True değerini False \n",
    "- False için True döndürür"
   ]
  }
 ],
 "metadata": {
  "kernelspec": {
   "display_name": "Python 3.10.5 64-bit",
   "language": "python",
   "name": "python3"
  },
  "language_info": {
   "codemirror_mode": {
    "name": "ipython",
    "version": 3
   },
   "file_extension": ".py",
   "mimetype": "text/x-python",
   "name": "python",
   "nbconvert_exporter": "python",
   "pygments_lexer": "ipython3",
   "version": "3.10.5"
  },
  "vscode": {
   "interpreter": {
    "hash": "5026d2d6e7aaaaba093def813beadff083d8733e4a511af01735cbabd156995d"
   }
  }
 },
 "nbformat": 4,
 "nbformat_minor": 5
}
