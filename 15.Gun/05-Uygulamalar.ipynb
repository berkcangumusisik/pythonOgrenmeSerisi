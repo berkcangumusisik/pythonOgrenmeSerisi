{
 "cells": [
  {
   "cell_type": "markdown",
   "metadata": {},
   "source": [
    "1- Kullanıcıdan aldığı ürün bilgisini (ad, fiyat) urunler.txt dosyasına kayıt eden fonksiyon."
   ]
  },
  {
   "cell_type": "code",
   "execution_count": 2,
   "metadata": {},
   "outputs": [],
   "source": [
    "def urun_ekle(ad, fiyat):\n",
    "    with open(\"urunler.txt\",\"a\",encoding=\"utf-8\") as file:\n",
    "        file.write(f\"ad: {ad} fiyat: {fiyat}\\n\")\n",
    "\n",
    "urun_ekle(\"samsung s10\", 5000)\n",
    "urun_ekle(\"samsung s11\", 6000)"
   ]
  },
  {
   "cell_type": "markdown",
   "metadata": {},
   "source": [
    "2 - dosya ismi, eski kelime ve yeni kelime parametrelerini alarak dosyada bir güncelleme yapan fonksiyon."
   ]
  },
  {
   "cell_type": "code",
   "execution_count": null,
   "metadata": {},
   "outputs": [],
   "source": [
    "def bul_ve_degistir(dosya_ismi,eski_kelime,yeni_kelime):\n",
    "    with open(dosya_ismi,\"r+\") as file:\n",
    "        text = file.read()\n",
    "        yeni_text = text.replace(eski_kelime,yeni_kelime)\n",
    "        file.seek(0)\n",
    "        file.write(yeni_text)\n",
    "        file.truncate()\n",
    "\n",
    "bul_ve_degistir(\"urunler.txt\",\"s10\",\"s9\")\n",
    "bul_ve_degistir(\"urunler.txt\",\"6000\",\"0\")\n"
   ]
  }
 ],
 "metadata": {
  "kernelspec": {
   "display_name": "Python 3.10.5 64-bit",
   "language": "python",
   "name": "python3"
  },
  "language_info": {
   "codemirror_mode": {
    "name": "ipython",
    "version": 3
   },
   "file_extension": ".py",
   "mimetype": "text/x-python",
   "name": "python",
   "nbconvert_exporter": "python",
   "pygments_lexer": "ipython3",
   "version": "3.10.5"
  },
  "orig_nbformat": 4,
  "vscode": {
   "interpreter": {
    "hash": "5026d2d6e7aaaaba093def813beadff083d8733e4a511af01735cbabd156995d"
   }
  }
 },
 "nbformat": 4,
 "nbformat_minor": 2
}
