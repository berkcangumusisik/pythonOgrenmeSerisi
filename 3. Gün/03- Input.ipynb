{
 "cells": [
  {
   "cell_type": "markdown",
   "id": "5d248134",
   "metadata": {},
   "source": [
    "# input()\n",
    "- Kullanıcıdan veri girişi almamızı sağlar.\n",
    "- input ile veri alırken string gibi davranır bu yüzden input alırken sayı alacaksan int ya da float kullan.\n"
   ]
  },
  {
   "cell_type": "code",
   "execution_count": 1,
   "id": "068879db",
   "metadata": {},
   "outputs": [
    {
     "name": "stdout",
     "output_type": "stream",
     "text": [
      "Adınız nedir: Berkcan\n",
      "Merhaba Berkcan\n"
     ]
    }
   ],
   "source": [
    "name = input(\"Adınız nedir: \")\n",
    "print(\"Merhaba \" + name)"
   ]
  },
  {
   "cell_type": "code",
   "execution_count": 2,
   "id": "86c35046",
   "metadata": {},
   "outputs": [
    {
     "name": "stdout",
     "output_type": "stream",
     "text": [
      "1.sayıyı giriniz:10\n",
      "2.sayıyı giriniz:20\n",
      "30\n"
     ]
    }
   ],
   "source": [
    "sayi1 = int(input(\"1.sayıyı giriniz:\"))\n",
    "sayi2 = int(input(\"2.sayıyı giriniz:\"))\n",
    "print(sayi1+sayi2)"
   ]
  },
  {
   "cell_type": "code",
   "execution_count": null,
   "id": "22d53db5",
   "metadata": {},
   "outputs": [],
   "source": []
  }
 ],
 "metadata": {
  "kernelspec": {
   "display_name": "Python 3.10.5 64-bit",
   "language": "python",
   "name": "python3"
  },
  "language_info": {
   "codemirror_mode": {
    "name": "ipython",
    "version": 3
   },
   "file_extension": ".py",
   "mimetype": "text/x-python",
   "name": "python",
   "nbconvert_exporter": "python",
   "pygments_lexer": "ipython3",
   "version": "3.10.5"
  },
  "vscode": {
   "interpreter": {
    "hash": "5026d2d6e7aaaaba093def813beadff083d8733e4a511af01735cbabd156995d"
   }
  }
 },
 "nbformat": 4,
 "nbformat_minor": 5
}
