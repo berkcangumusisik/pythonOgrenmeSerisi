{
 "cells": [
  {
   "cell_type": "markdown",
   "id": "b156ef74",
   "metadata": {},
   "source": [
    " # BOOLEAN"
   ]
  },
  {
   "cell_type": "markdown",
   "id": "a774b454",
   "metadata": {},
   "source": [
    "- Sadece true ya da false değerini döndürür."
   ]
  },
  {
   "cell_type": "code",
   "execution_count": 3,
   "id": "b9e6be8a",
   "metadata": {},
   "outputs": [
    {
     "name": "stdout",
     "output_type": "stream",
     "text": [
      "True\n",
      "<class 'bool'>\n"
     ]
    }
   ],
   "source": [
    "dogru = True\n",
    "print(dogru)\n",
    "print(type(dogru))"
   ]
  },
  {
   "cell_type": "code",
   "execution_count": 4,
   "id": "eba9924a",
   "metadata": {},
   "outputs": [
    {
     "name": "stdout",
     "output_type": "stream",
     "text": [
      "False\n",
      "<class 'bool'>\n"
     ]
    }
   ],
   "source": [
    "yanlis = False\n",
    "print(yanlis)\n",
    "print(type(yanlis))"
   ]
  },
  {
   "cell_type": "code",
   "execution_count": 5,
   "id": "2baee0bd",
   "metadata": {},
   "outputs": [
    {
     "name": "stdout",
     "output_type": "stream",
     "text": [
      "True\n"
     ]
    }
   ],
   "source": [
    "print(10 > 5)"
   ]
  },
  {
   "cell_type": "code",
   "execution_count": 6,
   "id": "aad15180",
   "metadata": {},
   "outputs": [
    {
     "name": "stdout",
     "output_type": "stream",
     "text": [
      "False\n"
     ]
    }
   ],
   "source": [
    "print(10 < 5)"
   ]
  },
  {
   "cell_type": "code",
   "execution_count": 7,
   "id": "15c4908b",
   "metadata": {},
   "outputs": [
    {
     "name": "stdout",
     "output_type": "stream",
     "text": [
      "5714.285714285715\n"
     ]
    }
   ],
   "source": [
    "listem = [15000, 5000, 10000 , 3000, 1000 , 2000, 4000]\n",
    "ortalama = sum(listem)/len(listem)\n",
    "print(ortalama)"
   ]
  },
  {
   "cell_type": "code",
   "execution_count": 8,
   "id": "d785733b",
   "metadata": {
    "scrolled": false
   },
   "outputs": [
    {
     "name": "stdout",
     "output_type": "stream",
     "text": [
      "False\n"
     ]
    }
   ],
   "source": [
    "print(listem[4]>ortalama)"
   ]
  },
  {
   "cell_type": "code",
   "execution_count": 2,
   "id": "93616b3f",
   "metadata": {},
   "outputs": [
    {
     "name": "stdout",
     "output_type": "stream",
     "text": [
      "Maaş bilgisini giriniz:6000\n"
     ]
    },
    {
     "ename": "NameError",
     "evalue": "name 'ortalama' is not defined",
     "output_type": "error",
     "traceback": [
      "\u001b[1;31m---------------------------------------------------------------------------\u001b[0m",
      "\u001b[1;31mNameError\u001b[0m                                 Traceback (most recent call last)",
      "\u001b[1;32m<ipython-input-2-fea430303a5a>\u001b[0m in \u001b[0;36m<module>\u001b[1;34m\u001b[0m\n\u001b[0;32m      1\u001b[0m \u001b[0mmaas\u001b[0m \u001b[1;33m=\u001b[0m \u001b[0mint\u001b[0m\u001b[1;33m(\u001b[0m\u001b[0minput\u001b[0m\u001b[1;33m(\u001b[0m\u001b[1;34m\"Maaş bilgisini giriniz:\"\u001b[0m\u001b[1;33m)\u001b[0m\u001b[1;33m)\u001b[0m\u001b[1;33m\u001b[0m\u001b[1;33m\u001b[0m\u001b[0m\n\u001b[1;32m----> 2\u001b[1;33m \u001b[0mprint\u001b[0m\u001b[1;33m(\u001b[0m\u001b[0mmaas\u001b[0m \u001b[1;33m>\u001b[0m \u001b[0mortalama\u001b[0m\u001b[1;33m)\u001b[0m\u001b[1;33m\u001b[0m\u001b[1;33m\u001b[0m\u001b[0m\n\u001b[0m",
      "\u001b[1;31mNameError\u001b[0m: name 'ortalama' is not defined"
     ]
    }
   ],
   "source": [
    "maas = int(input(\"Maaş bilgisini giriniz:\"))\n",
    "print(maas > ortalama)"
   ]
  },
  {
   "cell_type": "code",
   "execution_count": null,
   "id": "46fd3a70",
   "metadata": {},
   "outputs": [],
   "source": []
  },
  {
   "cell_type": "code",
   "execution_count": null,
   "id": "d941be40",
   "metadata": {},
   "outputs": [],
   "source": []
  }
 ],
 "metadata": {
  "kernelspec": {
   "display_name": "Python 3",
   "language": "python",
   "name": "python3"
  }
 },
 "nbformat": 4,
 "nbformat_minor": 5
}
