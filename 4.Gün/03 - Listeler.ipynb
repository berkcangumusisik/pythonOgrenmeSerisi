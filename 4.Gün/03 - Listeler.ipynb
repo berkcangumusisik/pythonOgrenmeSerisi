{
 "cells": [
  {
   "cell_type": "markdown",
   "id": "a92e3dc0",
   "metadata": {},
   "source": [
    "# LİSTELER"
   ]
  },
  {
   "cell_type": "markdown",
   "id": "1e45dc9c",
   "metadata": {},
   "source": [
    "- [   ] içerisinde tutulurlar.\n",
    "- Aynı stringlerde olduğu gibi indexleme mantığı ile çalışır.\n",
    "- Listelerde veri güncellemesi yapılabilir. \n",
    "- Listelerde ekleme ve silme işlemi yapılabilir.\n",
    "- İç içe listeleme işlemi yapılabilir."
   ]
  },
  {
   "cell_type": "code",
   "execution_count": 2,
   "id": "f335c78a",
   "metadata": {},
   "outputs": [
    {
     "name": "stdout",
     "output_type": "stream",
     "text": [
      "['Berkcan', 'Engin', 'Derin', 'Salih']\n",
      "Engin\n"
     ]
    }
   ],
   "source": [
    "ogrenciler = [\"Berkcan\",\"Engin\",\"Derin\",\"Salih\"]\n",
    "print(ogrenciler)\n",
    "print(ogrenciler[1])"
   ]
  },
  {
   "cell_type": "code",
   "execution_count": 3,
   "id": "50ba76f6",
   "metadata": {},
   "outputs": [
    {
     "name": "stdout",
     "output_type": "stream",
     "text": [
      "['Berkcan', 'Engin', 'Derin', 'Ahmet']\n"
     ]
    }
   ],
   "source": [
    "ogrenciler[3] = \"Ahmet\"\n",
    "print(ogrenciler)"
   ]
  },
  {
   "cell_type": "markdown",
   "id": "81eac18d",
   "metadata": {},
   "source": [
    "# LİSTE METOTLARI\n",
    "\n",
    "## .append() Metodu\n",
    "\n",
    "- Listeye yeni eleman eklemeyi sağlar.\n",
    "\n",
    "## .remove() Metodu\n",
    "\n",
    "- Listeden veri silmeyi sağlar."
   ]
  },
  {
   "cell_type": "code",
   "execution_count": 4,
   "id": "835d5f71",
   "metadata": {},
   "outputs": [
    {
     "name": "stdout",
     "output_type": "stream",
     "text": [
      "['Berkcan', 'Engin', 'Derin', 'Ahmet', 'Salih']\n"
     ]
    }
   ],
   "source": [
    "#yeni eleman ekleme\n",
    "ogrenciler.append(\"Salih\")\n",
    "print(ogrenciler)"
   ]
  },
  {
   "cell_type": "code",
   "execution_count": 5,
   "id": "4a214b84",
   "metadata": {},
   "outputs": [
    {
     "name": "stdout",
     "output_type": "stream",
     "text": [
      "['Berkcan', 'Engin', 'Derin', 'Ahmet']\n"
     ]
    }
   ],
   "source": [
    "#eleman silme\n",
    "ogrenciler.remove(\"Salih\")\n",
    "print(ogrenciler)"
   ]
  },
  {
   "cell_type": "code",
   "execution_count": 6,
   "id": "40e4970d",
   "metadata": {},
   "outputs": [
    {
     "ename": "IndexError",
     "evalue": "list assignment index out of range",
     "output_type": "error",
     "traceback": [
      "\u001b[1;31m---------------------------------------------------------------------------\u001b[0m",
      "\u001b[1;31mIndexError\u001b[0m                                Traceback (most recent call last)",
      "\u001b[1;32m<ipython-input-6-453111caf99a>\u001b[0m in \u001b[0;36m<module>\u001b[1;34m\u001b[0m\n\u001b[1;32m----> 1\u001b[1;33m \u001b[0mogrenciler\u001b[0m\u001b[1;33m[\u001b[0m\u001b[1;36m4\u001b[0m\u001b[1;33m]\u001b[0m \u001b[1;33m=\u001b[0m\u001b[1;34m\"Veli\"\u001b[0m\u001b[1;33m\u001b[0m\u001b[1;33m\u001b[0m\u001b[0m\n\u001b[0m\u001b[0;32m      2\u001b[0m \u001b[0mprint\u001b[0m\u001b[1;33m(\u001b[0m\u001b[0mogrenciler\u001b[0m\u001b[1;33m)\u001b[0m\u001b[1;33m\u001b[0m\u001b[1;33m\u001b[0m\u001b[0m\n",
      "\u001b[1;31mIndexError\u001b[0m: list assignment index out of range"
     ]
    }
   ],
   "source": [
    "ogrenciler[4] =\"Veli\"\n",
    "print(ogrenciler) # olmayan indexte veri eklemek mümkün değildir."
   ]
  },
  {
   "cell_type": "markdown",
   "id": "e7dfd78a",
   "metadata": {},
   "source": [
    "## len() metodu\n",
    "\n",
    "- Dizinin uzunluğunu verir."
   ]
  },
  {
   "cell_type": "code",
   "execution_count": 9,
   "id": "6d9849ec",
   "metadata": {},
   "outputs": [
    {
     "name": "stdout",
     "output_type": "stream",
     "text": [
      "2\n"
     ]
    }
   ],
   "source": [
    "sehirler = list((\"Ankara\",\"İstanbul\"))\n",
    "print(len(sehirler))"
   ]
  },
  {
   "cell_type": "markdown",
   "id": "799176b4",
   "metadata": {},
   "source": [
    "## clear() metodu\n",
    "- Listeyi tamamen boşaltır."
   ]
  },
  {
   "cell_type": "code",
   "execution_count": 11,
   "id": "c86e7ec6",
   "metadata": {},
   "outputs": [
    {
     "name": "stdout",
     "output_type": "stream",
     "text": [
      "None\n",
      "[]\n"
     ]
    }
   ],
   "source": [
    "print(sehirler.clear())\n",
    "print(sehirler)"
   ]
  },
  {
   "cell_type": "markdown",
   "id": "ddb5c083",
   "metadata": {},
   "source": [
    "## count() metodu\n",
    "- Listedeki elemanları saymayı sağlar."
   ]
  },
  {
   "cell_type": "code",
   "execution_count": 13,
   "id": "b0387e59",
   "metadata": {},
   "outputs": [
    {
     "name": "stdout",
     "output_type": "stream",
     "text": [
      "Listedeki Berkcan sayısı = 1\n"
     ]
    }
   ],
   "source": [
    "print(\"Listedeki Berkcan sayısı = \" + str(ogrenciler.count(\"Berkcan\")))"
   ]
  },
  {
   "cell_type": "markdown",
   "id": "215bc636",
   "metadata": {},
   "source": [
    "## index() metodu\n",
    "- Listedeki elemanının indexini verir.\n",
    "- Aranan veriyi ilk bulduğunda durur. Diğer verilerde aynı veri varsa getirmez."
   ]
  },
  {
   "cell_type": "code",
   "execution_count": 15,
   "id": "0cf92eb2",
   "metadata": {},
   "outputs": [
    {
     "name": "stdout",
     "output_type": "stream",
     "text": [
      "Berkcan'ın İndexi = 0\n"
     ]
    }
   ],
   "source": [
    "print(\"Berkcan'ın İndexi = \" + str(ogrenciler.index(\"Berkcan\")))"
   ]
  },
  {
   "cell_type": "markdown",
   "id": "5f27fe85",
   "metadata": {},
   "source": [
    "## pop() metodu\n",
    "- Listede indexe göre silme işlemi yapar."
   ]
  },
  {
   "cell_type": "code",
   "execution_count": 16,
   "id": "39a320f5",
   "metadata": {},
   "outputs": [
    {
     "name": "stdout",
     "output_type": "stream",
     "text": [
      "['Berkcan', 'Derin', 'Ahmet']\n"
     ]
    }
   ],
   "source": [
    "ogrenciler.pop(1)\n",
    "print(ogrenciler)"
   ]
  },
  {
   "cell_type": "markdown",
   "id": "3955b477",
   "metadata": {},
   "source": [
    "## insert() metodu\n",
    "- Listede indexe göre ekleme işlemi yapar."
   ]
  },
  {
   "cell_type": "code",
   "execution_count": 17,
   "id": "c924e8fd",
   "metadata": {},
   "outputs": [
    {
     "name": "stdout",
     "output_type": "stream",
     "text": [
      "['İstanbul', 'Ankara', 'Ankara']\n"
     ]
    }
   ],
   "source": [
    "sehirler.insert(0,\"İstanbul\")\n",
    "sehirler.insert(1,\"Ankara\")\n",
    "sehirler.insert(2,\"Ankara\")\n",
    "print(sehirler)"
   ]
  },
  {
   "cell_type": "markdown",
   "id": "b3151710",
   "metadata": {},
   "source": [
    "## reverse() metodu\n",
    "- Listeyi terse çevirmeyi sağlar."
   ]
  },
  {
   "cell_type": "code",
   "execution_count": 18,
   "id": "75acdb8a",
   "metadata": {},
   "outputs": [
    {
     "name": "stdout",
     "output_type": "stream",
     "text": [
      "['Ankara', 'Ankara', 'İstanbul']\n"
     ]
    }
   ],
   "source": [
    "sehirler.reverse()\n",
    "print(sehirler)"
   ]
  },
  {
   "cell_type": "markdown",
   "id": "63c01266",
   "metadata": {},
   "source": [
    "## sort() metodu\n",
    "- Listeyi sıralamayı sağlar."
   ]
  },
  {
   "cell_type": "code",
   "execution_count": 20,
   "id": "7d240845",
   "metadata": {},
   "outputs": [
    {
     "name": "stdout",
     "output_type": "stream",
     "text": [
      "['Ahmet', 'Berkcan', 'Derin']\n"
     ]
    }
   ],
   "source": [
    "ogrenciler.sort()\n",
    "print(ogrenciler)"
   ]
  },
  {
   "cell_type": "markdown",
   "id": "1d47f483",
   "metadata": {},
   "source": [
    "# Liste Toplama"
   ]
  },
  {
   "cell_type": "code",
   "execution_count": 21,
   "id": "0e31e820",
   "metadata": {},
   "outputs": [
    {
     "name": "stdout",
     "output_type": "stream",
     "text": [
      "['Atıl', 'Ahmet', 'Zeynep', 'Mehmet', 'Mahmut', 'Atlas']\n"
     ]
    }
   ],
   "source": [
    "liste1 = [\"Atıl\",\"Ahmet\",\"Zeynep\"]\n",
    "liste2 = [\"Mehmet\",\"Mahmut\",\"Atlas\"]\n",
    "liste3 = liste1 + liste2\n",
    "print(liste3)"
   ]
  },
  {
   "cell_type": "code",
   "execution_count": 22,
   "id": "5a2188ef",
   "metadata": {},
   "outputs": [
    {
     "data": {
      "text/plain": [
       "['Atıl',\n",
       " 'Ahmet',\n",
       " 'Zeynep',\n",
       " 'Mehmet',\n",
       " 'Mahmut',\n",
       " 'Atlas',\n",
       " 'Atıl',\n",
       " 'Ahmet',\n",
       " 'Zeynep',\n",
       " 'Mehmet',\n",
       " 'Mahmut',\n",
       " 'Atlas',\n",
       " 'Atıl',\n",
       " 'Ahmet',\n",
       " 'Zeynep',\n",
       " 'Mehmet',\n",
       " 'Mahmut',\n",
       " 'Atlas',\n",
       " 'Atıl',\n",
       " 'Ahmet',\n",
       " 'Zeynep',\n",
       " 'Mehmet',\n",
       " 'Mahmut',\n",
       " 'Atlas',\n",
       " 'Atıl',\n",
       " 'Ahmet',\n",
       " 'Zeynep',\n",
       " 'Mehmet',\n",
       " 'Mahmut',\n",
       " 'Atlas']"
      ]
     },
     "execution_count": 22,
     "metadata": {},
     "output_type": "execute_result"
    }
   ],
   "source": [
    "liste3 * 5"
   ]
  },
  {
   "cell_type": "code",
   "execution_count": 23,
   "id": "87017ed8",
   "metadata": {},
   "outputs": [
    {
     "name": "stdout",
     "output_type": "stream",
     "text": [
      "[1, 2, 3, 4, 5, 'Berkcan', 9.2]\n"
     ]
    }
   ],
   "source": [
    "karisikListe = [1,2,3,4,5,\"Berkcan\",9.2]\n",
    "print(karisikListe)"
   ]
  },
  {
   "cell_type": "code",
   "execution_count": 26,
   "id": "bbb12722",
   "metadata": {},
   "outputs": [
    {
     "name": "stdout",
     "output_type": "stream",
     "text": [
      "1\n",
      "<class 'int'>\n"
     ]
    }
   ],
   "source": [
    "sonucum = karisikListe[0]\n",
    "print(sonucum)\n",
    "print(type(sonucum))"
   ]
  },
  {
   "cell_type": "code",
   "execution_count": 27,
   "id": "0d2493d6",
   "metadata": {},
   "outputs": [
    {
     "name": "stdout",
     "output_type": "stream",
     "text": [
      "1\n",
      "5\n",
      "berkcan\n",
      "4\n",
      "[6, 'z']\n",
      "6\n",
      "z\n"
     ]
    }
   ],
   "source": [
    "nestedList = [1,5,\"berkcan\",4,[6,\"z\"]]\n",
    "print(nestedList[0])\n",
    "print(nestedList[1])\n",
    "print(nestedList[2])\n",
    "print(nestedList[3])\n",
    "print(nestedList[4])\n",
    "print(nestedList[4][0])\n",
    "print(nestedList[4][1])"
   ]
  },
  {
   "cell_type": "code",
   "execution_count": 28,
   "id": "0117708f",
   "metadata": {},
   "outputs": [
    {
     "name": "stdout",
     "output_type": "stream",
     "text": [
      "[[1, 2, 3, ['a', 'b'], 50], 40, 20, ['z', 5.5], [3, ['a']]]\n"
     ]
    }
   ],
   "source": [
    "karisikListe = [[1,2,3,[\"a\",\"b\"],50],40,20,[\"z\",5.5],[3,[\"a\"]]]\n",
    "print(karisikListe)"
   ]
  },
  {
   "cell_type": "code",
   "execution_count": 32,
   "id": "386348d6",
   "metadata": {},
   "outputs": [
    {
     "name": "stdout",
     "output_type": "stream",
     "text": [
      "[1, 2, 3, ['a', 'b'], 50]\n",
      "b\n",
      "['berkcan', 4, [6, 'z']]\n"
     ]
    }
   ],
   "source": [
    "print(karisikListe[0])\n",
    "print(karisikListe[0][3][1])\n",
    "print(nestedList[2:])"
   ]
  },
  {
   "cell_type": "code",
   "execution_count": null,
   "id": "ba1c3294",
   "metadata": {},
   "outputs": [],
   "source": []
  }
 ],
 "metadata": {
  "kernelspec": {
   "display_name": "Python 3",
   "language": "python",
   "name": "python3"
  },
  "language_info": {
   "codemirror_mode": {
    "name": "ipython",
    "version": 3
   },
   "file_extension": ".py",
   "mimetype": "text/x-python",
   "name": "python",
   "nbconvert_exporter": "python",
   "pygments_lexer": "ipython3",
   "version": "3.8.8"
  }
 },
 "nbformat": 4,
 "nbformat_minor": 5
}
