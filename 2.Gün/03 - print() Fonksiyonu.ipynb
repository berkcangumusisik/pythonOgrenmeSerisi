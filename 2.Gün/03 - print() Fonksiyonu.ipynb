{
 "cells": [
  {
   "cell_type": "markdown",
   "id": "e7ce0d7c",
   "metadata": {},
   "source": [
    "### print() Fonksiyonu Nedir, Ne İşe Yarar?"
   ]
  },
  {
   "cell_type": "markdown",
   "id": "ca0565a0",
   "metadata": {},
   "source": [
    "- print() fonksiyonunun görevi ekrana çıktı vermemizi sağlamaktır.\n",
    "- Metinsel ifadeler \"\" veya '' içerisinde yazılır.\n"
   ]
  },
  {
   "cell_type": "code",
   "execution_count": 1,
   "id": "bb2ea24d",
   "metadata": {},
   "outputs": [
    {
     "name": "stdout",
     "output_type": "stream",
     "text": [
      "Merhaba Dünya\n"
     ]
    }
   ],
   "source": [
    "print(\"Merhaba Dünya\")"
   ]
  },
  {
   "cell_type": "code",
   "execution_count": 2,
   "id": "214343dd",
   "metadata": {},
   "outputs": [
    {
     "name": "stdout",
     "output_type": "stream",
     "text": [
      "Python Programlama Dili\n"
     ]
    }
   ],
   "source": [
    "print(\"Python Programlama Dili\")"
   ]
  },
  {
   "cell_type": "code",
   "execution_count": 3,
   "id": "73d8fb44",
   "metadata": {},
   "outputs": [
    {
     "name": "stdout",
     "output_type": "stream",
     "text": [
      "\n",
      "[H]=========HARMAN========[-][o][x]\n",
      "|                                 |\n",
      "|     Programa Hoşgeldiniz!       |\n",
      "|           Sürüm 0.8             |\n",
      "|    Devam etmek için herhangi    |\n",
      "|       bir düğmeye basın.        |\n",
      "|                                 |\n",
      "|=================================|\n",
      "\n"
     ]
    }
   ],
   "source": [
    "print(\"\"\"\n",
    "... [H]=========HARMAN========[-][o][x]\n",
    "... |                                 |\n",
    "... |     Programa Hoşgeldiniz!       |\n",
    "... |           Sürüm 0.8             |\n",
    "... |    Devam etmek için herhangi    |\n",
    "... |       bir düğmeye basın.        |\n",
    "... |                                 |\n",
    "... |=================================|\n",
    "... \"\"\")"
   ]
  },
  {
   "cell_type": "code",
   "execution_count": 4,
   "id": "aadbf352",
   "metadata": {},
   "outputs": [
    {
     "ename": "SyntaxError",
     "evalue": "Missing parentheses in call to 'print'. Did you mean print(\"Hello World\" # parantez içinde yazılması gerekir.)? (<ipython-input-4-6e00481bccb0>, line 1)",
     "output_type": "error",
     "traceback": [
      "\u001b[1;36m  File \u001b[1;32m\"<ipython-input-4-6e00481bccb0>\"\u001b[1;36m, line \u001b[1;32m1\u001b[0m\n\u001b[1;33m    print \"Hello World\" # parantez içinde yazılması gerekir.\u001b[0m\n\u001b[1;37m          ^\u001b[0m\n\u001b[1;31mSyntaxError\u001b[0m\u001b[1;31m:\u001b[0m Missing parentheses in call to 'print'. Did you mean print(\"Hello World\" # parantez içinde yazılması gerekir.)?\n"
     ]
    }
   ],
   "source": [
    "print \"Hello World\" # parantez içinde yazılması gerekir."
   ]
  },
  {
   "cell_type": "markdown",
   "id": "1526d059",
   "metadata": {},
   "source": [
    "# print() Fonksiyonunun Parametreleri"
   ]
  },
  {
   "cell_type": "markdown",
   "id": "9219d7df",
   "metadata": {},
   "source": [
    "## 1.sep"
   ]
  },
  {
   "cell_type": "markdown",
   "id": "b7106355",
   "metadata": {},
   "source": [
    "sep ifadesi, İngilizcede separator (ayırıcı, ayraç) kelimesinin kısaltmasıdır. Dolayısıyla print() fonksiyonundaki bu sep parametresi, ekrana basılacak öğeler arasına hangi karakterin yerleştirileceğini gösterir. Kullanılmasının veya kullanılmamasının pek bir önemi yoktur. Çünkü görünmese bile hep oradadır."
   ]
  },
  {
   "cell_type": "code",
   "execution_count": 6,
   "id": "91c61d8e",
   "metadata": {},
   "outputs": [
    {
     "name": "stdout",
     "output_type": "stream",
     "text": [
      "http://www.google.com\n"
     ]
    }
   ],
   "source": [
    "print(\"http://\", \"www.\", \"google.\", \"com\", sep=\"\")"
   ]
  },
  {
   "cell_type": "code",
   "execution_count": 7,
   "id": "b2a9be4c",
   "metadata": {},
   "outputs": [
    {
     "name": "stdout",
     "output_type": "stream",
     "text": [
      "Adana-Mersin\n"
     ]
    }
   ],
   "source": [
    "print(\"Adana\", \"Mersin\", sep=\"-\")"
   ]
  },
  {
   "cell_type": "code",
   "execution_count": 8,
   "id": "a49ed7b8",
   "metadata": {},
   "outputs": [
    {
     "name": "stdout",
     "output_type": "stream",
     "text": [
      "a b\n"
     ]
    }
   ],
   "source": [
    "print('a', 'b', sep=' ')"
   ]
  },
  {
   "cell_type": "markdown",
   "id": "6fccf105",
   "metadata": {},
   "source": [
    "## 2.end"
   ]
  },
  {
   "cell_type": "markdown",
   "id": "3246780f",
   "metadata": {},
   "source": [
    "Tıpkı sep parametresi gibi, end parametresi de print() fonksiyonunda görünmese bile her zaman oradadır. end parametresi ise bu parametrelerin sonuna neyin geleceğini belirler."
   ]
  },
  {
   "cell_type": "code",
   "execution_count": 9,
   "id": "6ed95c19",
   "metadata": {},
   "outputs": [
    {
     "name": "stdout",
     "output_type": "stream",
     "text": [
      "Bugün günlerden Salı."
     ]
    }
   ],
   "source": [
    "print(\"Bugün günlerden Salı\", end=\".\")"
   ]
  },
  {
   "cell_type": "markdown",
   "id": "776176fd",
   "metadata": {},
   "source": [
    "### Yorum Satırları\n",
    "- Python programlama dilinde tek satır halinde açıklama satırı eklemek için # işareti, çoklu yorum satırı için 3 tane tek tırnak kullanılır.\n",
    "- Satırın başı ve sonu arasındaki herhangi bir metin ve kodun Python programlama dili tarafından yok sayılır ve çalıştırılmaz."
   ]
  },
  {
   "cell_type": "code",
   "execution_count": 2,
   "id": "5464cbe6",
   "metadata": {},
   "outputs": [
    {
     "data": {
      "text/plain": [
       "'\\nÇoklu\\nyorum \\nsatırı\\n'"
      ]
     },
     "execution_count": 2,
     "metadata": {},
     "output_type": "execute_result"
    }
   ],
   "source": [
    "# Tekli Yorum Satırı"
   ]
  },
  {
   "cell_type": "markdown",
   "id": "c5b15192",
   "metadata": {},
   "source": [
    "# Kaçış Parametleri"
   ]
  },
  {
   "cell_type": "markdown",
   "id": "28e9c84c",
   "metadata": {},
   "source": [
    "## Ters Taksim ( \\ )\n",
    "\n",
    "Bir karakter dizisi içinde çift tırnak işareti geçiyorsa, o karakter dizisini tek tırnakla; eğer tek tırnak geçiyorsa da o karakter dizisini çift tırnakla tanımlayarak bu sorunun üstesinden gelebiliyorduk. Ama çift tırnak geçen karakter dizilerini yine çift tırnakla tanımlayabiliriz."
   ]
  },
  {
   "cell_type": "code",
   "execution_count": 10,
   "id": "a16e0085",
   "metadata": {},
   "outputs": [
    {
     "name": "stdout",
     "output_type": "stream",
     "text": [
      "\"laptop\" kelimesi Türkçede \"dizüstü bilgisayar\" anlamına gelir.\n"
     ]
    }
   ],
   "source": [
    "print(\"\\\"laptop\\\" kelimesi Türkçede \\\"dizüstü bilgisayar\\\" anlamına gelir.\")"
   ]
  },
  {
   "cell_type": "code",
   "execution_count": 11,
   "id": "2bb4cb87",
   "metadata": {},
   "outputs": [
    {
     "ename": "SyntaxError",
     "evalue": "invalid syntax (<ipython-input-11-a59b792092e2>, line 1)",
     "output_type": "error",
     "traceback": [
      "\u001b[1;36m  File \u001b[1;32m\"<ipython-input-11-a59b792092e2>\"\u001b[1;36m, line \u001b[1;32m1\u001b[0m\n\u001b[1;33m    print('İstanbul'un 5 günlük hava durumu tahmini')\u001b[0m\n\u001b[1;37m                    ^\u001b[0m\n\u001b[1;31mSyntaxError\u001b[0m\u001b[1;31m:\u001b[0m invalid syntax\n"
     ]
    }
   ],
   "source": [
    "print('İstanbul'un 5 günlük hava durumu tahmini')"
   ]
  },
  {
   "cell_type": "markdown",
   "id": "e0cffc0c",
   "metadata": {},
   "source": [
    "## Yeni Satır (\\n)\n",
    "\n",
    "Yeni satır eklemeyi sağlar. Aslında her print() ifadesinden sonra bir satır alta yazar ama bazen cümle içinde kullanmamız gerekir."
   ]
  },
  {
   "cell_type": "code",
   "execution_count": 12,
   "id": "b93e0cec",
   "metadata": {},
   "outputs": [
    {
     "name": "stdout",
     "output_type": "stream",
     "text": [
      "birinci satır\n",
      "ikinci satır\n",
      "üçüncü satır\n"
     ]
    }
   ],
   "source": [
    "print(\"birinci satır\\nikinci satır\\nüçüncü satır\")"
   ]
  },
  {
   "cell_type": "markdown",
   "id": "1bfd028e",
   "metadata": {},
   "source": [
    "## Sekme (\\t)\n",
    "Burada \\t adlı kaçış dizisi,  sanki Tab (sekme) tuşuna basılmış gibi bir etki oluşturarak boşluk bırakır."
   ]
  },
  {
   "cell_type": "code",
   "execution_count": 13,
   "id": "51e02e07",
   "metadata": {},
   "outputs": [
    {
     "name": "stdout",
     "output_type": "stream",
     "text": [
      "abc\tdef\n"
     ]
    }
   ],
   "source": [
    "print(\"abc\\tdef\")"
   ]
  },
  {
   "cell_type": "markdown",
   "id": "b81b5114",
   "metadata": {},
   "source": [
    "\n",
    "\\’   Karakter dizisi içinde tek tırnak işaretini kullanabilmemizi sağlar.\n",
    "\n",
    "\\”   Karakter dizisi içinde çift tırnak işaretini kullanabilmemizi sağlar.\n",
    "\n",
    "\\\\   Karakter dizisi içinde \\ işaretini kullanabilmemizi sağlar.\n",
    "\n",
    "\\n   Yeni bir satıra geçmemizi sağlar.\n",
    "\n",
    "\\t   Karakterler arasında sekme boşluğu bırakmamızı sağlar.\n",
    "\n",
    "\\u   UNICODE kod konumlarını gösterebilmemizi sağlar.\n",
    "\n",
    "\\U   UNICODE kod konumlarını gösterebilmemizi sağlar.\n",
    "\n",
    "\\N   Karakterleri UNICODE adlarına göre kullanabilmemizi sağlar.\n",
    "\n",
    "\\x   Onaltılı sistemdeki bir sayının karakter karşılığını gösterebilmemizi sağlar.\n",
    "\n",
    "\\a   Destekleyen sistemlerde, kasa hoparlöründen bir ‘bip’ sesi verilmesini sağlar.\n",
    "\n",
    "\\r   Aynı satırın başına dönülmesini sağlar.\n",
    "\n",
    "\\v   Destekleyen sistemlerde düşey sekme oluşturulmasını sağlar.\n",
    "\n",
    "\\b   İmlecin sola doğru kaydırılmasını sağlar\n",
    "\n",
    "\\f   Yeni bir sayfaya geçilmesini sağlar.\n",
    "\n"
   ]
  }
 ],
 "metadata": {
  "kernelspec": {
   "display_name": "Python 3.8.8 ('base')",
   "language": "python",
   "name": "python3"
  },
  "language_info": {
   "codemirror_mode": {
    "name": "ipython",
    "version": 3
   },
   "file_extension": ".py",
   "mimetype": "text/x-python",
   "name": "python",
   "nbconvert_exporter": "python",
   "pygments_lexer": "ipython3",
   "version": "3.8.8"
  },
  "vscode": {
   "interpreter": {
    "hash": "434691f1ecaf466ba8ee38280735dd626cdf07e55467611e3966387a302373c5"
   }
  }
 },
 "nbformat": 4,
 "nbformat_minor": 5
}
