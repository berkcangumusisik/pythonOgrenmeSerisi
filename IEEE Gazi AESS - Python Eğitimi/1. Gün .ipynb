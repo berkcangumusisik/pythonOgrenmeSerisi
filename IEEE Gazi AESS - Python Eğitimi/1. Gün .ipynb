{
 "cells": [
  {
   "cell_type": "markdown",
   "id": "e48726bb",
   "metadata": {},
   "source": [
    " - Python yukarıdan aşağıya doğru kodları okur.\n",
    "# Değişken\n",
    "- Verileri geçici olarak saklamayı sağlar.\n",
    "- RAM'de saklanır."
   ]
  },
  {
   "cell_type": "markdown",
   "id": "1d554512",
   "metadata": {},
   "source": [
    "# Veri Türleri\n",
    "\n",
    "- Python veri türünü istemez. Kendi şeklini kendisi alır\n",
    "\n",
    "## 1. String\n",
    "- Metinler, harfler, kelimeler, cümleler string veri tipidir.\n",
    "- Tırnak içerisinde yazılır.\n",
    "- \"Berkcan\" , \"a\" gibi metinsel ifadeler örnek verilebilir.\n",
    "\n",
    "## 2. Integer\n",
    "- Tam sayıları ifade eder.\n",
    "- Örnek olarak 5, 15, 0, -32 verilebilir.\n",
    "\n",
    "## 3. Float\n",
    "- Ondalıklı sayılardır.\n",
    "- 5.3, 15.2, 0.8, -22.6"
   ]
  },
  {
   "cell_type": "markdown",
   "id": "21995f1c",
   "metadata": {},
   "source": [
    "# print() Komutu\n",
    "- Ekrana çıktı vermeyi sağlar."
   ]
  },
  {
   "cell_type": "code",
   "execution_count": 31,
   "id": "6b4f528d",
   "metadata": {},
   "outputs": [
    {
     "name": "stdout",
     "output_type": "stream",
     "text": [
      "Berkcan\n"
     ]
    }
   ],
   "source": [
    "a = \"Berkcan\" \n",
    "print(a) "
   ]
  },
  {
   "cell_type": "code",
   "execution_count": 32,
   "id": "0dea8896",
   "metadata": {},
   "outputs": [
    {
     "name": "stdout",
     "output_type": "stream",
     "text": [
      "13\n",
      "13\n"
     ]
    }
   ],
   "source": [
    "b = 13\n",
    "print(b)\n",
    "\n",
    "c = \"13\"\n",
    "print(c)\n",
    "\n",
    "# b integer olarak algılanır c tırnak içinde yazıldığı için string ifade olarak algılar"
   ]
  },
  {
   "cell_type": "code",
   "execution_count": 33,
   "id": "d4c5e957",
   "metadata": {},
   "outputs": [
    {
     "name": "stdout",
     "output_type": "stream",
     "text": [
      "Merhaba\n"
     ]
    }
   ],
   "source": [
    "berkcan = \"Merhaba\"\n",
    "print(berkcan)"
   ]
  },
  {
   "cell_type": "markdown",
   "id": "48c37304",
   "metadata": {},
   "source": [
    "# type() komutu \n",
    "- Verinin tipi string, integer, float ya da boolean olduğunu verir."
   ]
  },
  {
   "cell_type": "code",
   "execution_count": 34,
   "id": "5df412cd",
   "metadata": {},
   "outputs": [
    {
     "name": "stdout",
     "output_type": "stream",
     "text": [
      "<class 'str'>\n",
      "<class 'int'>\n",
      "<class 'str'>\n"
     ]
    }
   ],
   "source": [
    "print(type(a))\n",
    "print(type(b))\n",
    "print(type(c))"
   ]
  },
  {
   "cell_type": "code",
   "execution_count": 35,
   "id": "5088d7ec",
   "metadata": {},
   "outputs": [
    {
     "ename": "TypeError",
     "evalue": "unsupported operand type(s) for +: 'int' and 'str'",
     "output_type": "error",
     "traceback": [
      "\u001b[1;31m---------------------------------------------------------------------------\u001b[0m",
      "\u001b[1;31mTypeError\u001b[0m                                 Traceback (most recent call last)",
      "\u001b[1;32m<ipython-input-35-297f133d9577>\u001b[0m in \u001b[0;36m<module>\u001b[1;34m\u001b[0m\n\u001b[0;32m      1\u001b[0m \u001b[1;31m# string ve integer veri tipi toplanamaz. Sadece str ile str birleştirebilirsin\u001b[0m\u001b[1;33m\u001b[0m\u001b[1;33m\u001b[0m\u001b[1;33m\u001b[0m\u001b[0m\n\u001b[0;32m      2\u001b[0m \u001b[1;31m# integer ile integer toplanabilir.\u001b[0m\u001b[1;33m\u001b[0m\u001b[1;33m\u001b[0m\u001b[1;33m\u001b[0m\u001b[0m\n\u001b[1;32m----> 3\u001b[1;33m \u001b[0msonuc\u001b[0m \u001b[1;33m=\u001b[0m \u001b[0mb\u001b[0m \u001b[1;33m+\u001b[0m \u001b[0mc\u001b[0m\u001b[1;33m\u001b[0m\u001b[1;33m\u001b[0m\u001b[0m\n\u001b[0m\u001b[0;32m      4\u001b[0m \u001b[0mprint\u001b[0m\u001b[1;33m(\u001b[0m\u001b[0msonuc\u001b[0m\u001b[1;33m)\u001b[0m\u001b[1;33m\u001b[0m\u001b[1;33m\u001b[0m\u001b[0m\n",
      "\u001b[1;31mTypeError\u001b[0m: unsupported operand type(s) for +: 'int' and 'str'"
     ]
    }
   ],
   "source": [
    "# string ve integer veri tipi toplanamaz. Sadece str ile str birleştirebilirsin\n",
    "# integer ile integer toplanabilir.\n",
    "sonuc = b + c\n",
    "print(sonuc)"
   ]
  },
  {
   "cell_type": "code",
   "execution_count": 36,
   "id": "b5b37dbe",
   "metadata": {},
   "outputs": [
    {
     "name": "stdout",
     "output_type": "stream",
     "text": [
      "Berkcan13\n"
     ]
    }
   ],
   "source": [
    "# toplamada string olanlar birleştirilir.\n",
    "sonuc = a+c\n",
    "print(sonuc)"
   ]
  },
  {
   "cell_type": "code",
   "execution_count": 37,
   "id": "cfb162a7",
   "metadata": {},
   "outputs": [
    {
     "name": "stdout",
     "output_type": "stream",
     "text": [
      "23\n"
     ]
    }
   ],
   "source": [
    "#iki integer ifade olunca aritmetik olarak toplama yapar.\n",
    "d = 10\n",
    "sonuc = b+ d\n",
    "print(sonuc)"
   ]
  },
  {
   "cell_type": "code",
   "execution_count": 38,
   "id": "7af48a83",
   "metadata": {
    "scrolled": true
   },
   "outputs": [
    {
     "name": "stdout",
     "output_type": "stream",
     "text": [
      "Berkcan 13 13 10\n"
     ]
    }
   ],
   "source": [
    "# Her bir değeri parametre olarak yazdırmak için virgül kullanılabilir.\n",
    "print(a,b,c,d)"
   ]
  },
  {
   "cell_type": "markdown",
   "id": "84b90c12",
   "metadata": {},
   "source": [
    "# format() Fonksiyonu\n",
    "- {} parantezler içine gelecek bilgiyi verdirmeyi sağlar."
   ]
  },
  {
   "cell_type": "code",
   "execution_count": 39,
   "id": "3bd10879",
   "metadata": {},
   "outputs": [
    {
     "name": "stdout",
     "output_type": "stream",
     "text": [
      "Merhaba, Python dersiniz Hanifi eğitmeni tarafından Cumartesi günü verilecektir. İyi dersler dileriz\n"
     ]
    }
   ],
   "source": [
    "egitmen = \"Hanifi\"\n",
    "dersAdi = \"Python\"\n",
    "gun = \"Cumartesi\"\n",
    "\n",
    "mesaj = \"Merhaba, {} dersiniz {} eğitmeni tarafından {} günü verilecektir. İyi dersler dileriz\".format(dersAdi, egitmen , gun)\n",
    "print(mesaj)"
   ]
  },
  {
   "cell_type": "markdown",
   "id": "0eb376ea",
   "metadata": {},
   "source": [
    "# PYTHONDA OPERATÖRLER"
   ]
  },
  {
   "cell_type": "markdown",
   "id": "e6b0c5bc",
   "metadata": {},
   "source": [
    "## Toplama Operatörü"
   ]
  },
  {
   "cell_type": "code",
   "execution_count": 40,
   "id": "1c3c2e59",
   "metadata": {},
   "outputs": [
    {
     "name": "stdout",
     "output_type": "stream",
     "text": [
      "Toplam değeri:  20\n"
     ]
    }
   ],
   "source": [
    "t1 = 13\n",
    "t2 = 7\n",
    "t3 = t1 + t2\n",
    "print(\"Toplam değeri: \", t3)"
   ]
  },
  {
   "cell_type": "markdown",
   "id": "9ce373aa",
   "metadata": {},
   "source": [
    "## Çıkarma Operatörü"
   ]
  },
  {
   "cell_type": "code",
   "execution_count": 41,
   "id": "030fedad",
   "metadata": {},
   "outputs": [
    {
     "name": "stdout",
     "output_type": "stream",
     "text": [
      "Sonuç:15\n"
     ]
    }
   ],
   "source": [
    "c1 = 20\n",
    "c2 = 5\n",
    "c3 = c1 - c2\n",
    "print(\"Sonuç:{}\".format(c3))"
   ]
  },
  {
   "cell_type": "markdown",
   "id": "21c57e67",
   "metadata": {},
   "source": [
    "## Çarpma Operatörü"
   ]
  },
  {
   "cell_type": "code",
   "execution_count": 42,
   "id": "571cc0ca",
   "metadata": {},
   "outputs": [
    {
     "name": "stdout",
     "output_type": "stream",
     "text": [
      "Çarpım Değeri:  16\n"
     ]
    }
   ],
   "source": [
    "ca1 = 2\n",
    "ca2 = 8\n",
    "ca3 = ca1 * ca2\n",
    "print(\"Çarpım Değeri: \", ca3)"
   ]
  },
  {
   "cell_type": "markdown",
   "id": "807fef45",
   "metadata": {},
   "source": [
    "## Bölme Operatörü"
   ]
  },
  {
   "cell_type": "code",
   "execution_count": 43,
   "id": "f9b9de94",
   "metadata": {},
   "outputs": [
    {
     "name": "stdout",
     "output_type": "stream",
     "text": [
      "Bölme işleminin sonucu:  5.0\n"
     ]
    }
   ],
   "source": [
    "b1 = 20\n",
    "b2 = 4\n",
    "b3 = b1/b2\n",
    "print(\"Bölme işleminin sonucu: \",b3)\n",
    "# Python'da bölme işleminin sonuç tipi her zaman float değer alır."
   ]
  },
  {
   "cell_type": "markdown",
   "id": "585debd9",
   "metadata": {},
   "source": [
    "## Tam Bölme Operatörü"
   ]
  },
  {
   "cell_type": "code",
   "execution_count": 44,
   "id": "2c64c03e",
   "metadata": {},
   "outputs": [
    {
     "name": "stdout",
     "output_type": "stream",
     "text": [
      "Tam bölme işleminin sonucu:  3\n"
     ]
    }
   ],
   "source": [
    "tb1 = 20\n",
    "tb2 = 6\n",
    "tb3 = tb1//tb2\n",
    "print(\"Tam bölme işleminin sonucu: \", tb3)"
   ]
  },
  {
   "cell_type": "markdown",
   "id": "1705e0e4",
   "metadata": {},
   "source": [
    "## Kalan Bulma / Mod Alma Operatörü"
   ]
  },
  {
   "cell_type": "code",
   "execution_count": 45,
   "id": "17a7b2a6",
   "metadata": {},
   "outputs": [
    {
     "name": "stdout",
     "output_type": "stream",
     "text": [
      "Kalan Değeri:  2\n"
     ]
    }
   ],
   "source": [
    "m1 = 20\n",
    "m2 = 6\n",
    "m3 = m1 % m2\n",
    "print(\"Kalan Değeri: \", m3)"
   ]
  },
  {
   "cell_type": "markdown",
   "id": "1db38907",
   "metadata": {},
   "source": [
    "## Üs Alma Operatörü"
   ]
  },
  {
   "cell_type": "code",
   "execution_count": 46,
   "id": "e3b7298c",
   "metadata": {},
   "outputs": [
    {
     "name": "stdout",
     "output_type": "stream",
     "text": [
      "Üs değeri :  256\n"
     ]
    }
   ],
   "source": [
    "u1 = 2\n",
    "u2 = 8\n",
    "u3 = u1 ** u2\n",
    "print(\"Üs değeri : \", u3)"
   ]
  },
  {
   "cell_type": "markdown",
   "id": "37c456d9",
   "metadata": {},
   "source": [
    "# PYTHON'DA KARAR YAPILARI"
   ]
  },
  {
   "cell_type": "code",
   "execution_count": 47,
   "id": "843622ab",
   "metadata": {},
   "outputs": [
    {
     "name": "stdout",
     "output_type": "stream",
     "text": [
      "18 yaşından büyüksünüz.\n"
     ]
    }
   ],
   "source": [
    "yas = 22\n",
    "if yas>18:\n",
    "    print(\"18 yaşından büyüksünüz.\")\n",
    "elif yas==18:\n",
    "    print(\"18 yaşındasınız.\")\n",
    "else:\n",
    "    print(\"18 yaşından küçüksünüz.\")\n",
    "# = ise atama operatörü == ise kıyaslama yapmak için kullanılır.\n",
    "# < küçükse\n",
    "# <= küçük veya eşitse\n",
    "# > büyükse\n",
    "# => büyük eşitse\n",
    "# != eşit değilse"
   ]
  },
  {
   "cell_type": "markdown",
   "id": "6c9de7e0",
   "metadata": {},
   "source": [
    "# input() \n",
    "- Kullanıcıdan girdi almayı sağlar."
   ]
  },
  {
   "cell_type": "code",
   "execution_count": 48,
   "id": "6a309707",
   "metadata": {},
   "outputs": [
    {
     "name": "stdout",
     "output_type": "stream",
     "text": [
      "Adınızı giriniz: Berkcan\n",
      "Merhaba  Berkcan\n"
     ]
    }
   ],
   "source": [
    "isim = input(\"Adınızı giriniz: \")\n",
    "print(\"Merhaba \",isim)"
   ]
  },
  {
   "cell_type": "code",
   "execution_count": 49,
   "id": "956427a3",
   "metadata": {},
   "outputs": [
    {
     "name": "stdout",
     "output_type": "stream",
     "text": [
      "Kullanıcı adınızı giriniz: berkcan\n",
      "Şifrenizi giriniz:123\n",
      "Giriş başarılı\n"
     ]
    }
   ],
   "source": [
    "kullaniciAdi = input(\"Kullanıcı adınızı giriniz: \")\n",
    "sifre = input(\"Şifrenizi giriniz:\")\n",
    "if kullaniciAdi == \"berkcan\" and sifre == \"123\":\n",
    "    print(\"Giriş başarılı\")\n",
    "else:\n",
    "    print(\"Kullanıcı adı ya da şifre hatalı\")"
   ]
  },
  {
   "cell_type": "markdown",
   "id": "9d2fb38b",
   "metadata": {},
   "source": [
    "# AND \n",
    "- 1 and 1 = 1\n",
    "- 1 and 0 = 0\n",
    "- 0 and 1 = 0\n",
    "- 0 and 0 = 0\n",
    "\n",
    "\n",
    "# OR\n",
    "- 1 or 1 = 1\n",
    "- 1 or 0 = 1\n",
    "- 0 or 1 = 1\n",
    "- 0 or 0 = 0"
   ]
  },
  {
   "cell_type": "code",
   "execution_count": 50,
   "id": "04d482d6",
   "metadata": {},
   "outputs": [
    {
     "name": "stdout",
     "output_type": "stream",
     "text": [
      "Kullanıcı adınızı giriniz: berkcan\n",
      "Şifrenizi giriniz:123456\n",
      "Giriş başarılı\n"
     ]
    }
   ],
   "source": [
    "kullaniciAdi = input(\"Kullanıcı adınızı giriniz: \")\n",
    "sifre = input(\"Şifrenizi giriniz:\")\n",
    "if kullaniciAdi == \"berkcan\" or sifre == \"123\":\n",
    "    print(\"Giriş başarılı\")\n",
    "else:\n",
    "    print(\"Kullanıcı adı ya da şifre hatalı\")"
   ]
  },
  {
   "cell_type": "code",
   "execution_count": 52,
   "id": "8bc3862d",
   "metadata": {},
   "outputs": [
    {
     "name": "stdout",
     "output_type": "stream",
     "text": [
      "Kullanıcı adınızı giriniz: berk\n",
      "Kullanıcı adı yanlış\n"
     ]
    }
   ],
   "source": [
    "kullaniciAdi = input(\"Kullanıcı adınızı giriniz: \")\n",
    "if kullaniciAdi == \"berkcan\":\n",
    "    sifre = input(\"Şifrenizi giriniz:\")\n",
    "    if sifre == \"123\":\n",
    "        print(\"Giriş Başarılı\")\n",
    "    else:\n",
    "        print(\"Şifre Hatalı\")\n",
    "else:\n",
    "    print(\"Kullanıcı adı yanlış\")"
   ]
  },
  {
   "cell_type": "code",
   "execution_count": 57,
   "id": "9e3e200b",
   "metadata": {},
   "outputs": [
    {
     "name": "stdout",
     "output_type": "stream",
     "text": [
      "Öğrenci adını giriniz: Berkcan\n",
      "Öğrencinin 1. notunu giriniz:100\n",
      "Öğrencinin 2. notunu giriniz:50\n",
      "Berkcan ortalaması: 75.0\n"
     ]
    }
   ],
   "source": [
    "isim = input(\"Öğrenci adını giriniz: \")\n",
    "not1 = int(input(\"Öğrencinin 1. notunu giriniz:\"))\n",
    "not2 = int(input(\"Öğrencinin 2. notunu giriniz:\"))\n",
    "ortalama = (not2+not1)/2\n",
    "print(f\"{isim} ortalaması:\", ortalama)\n",
    "if ortalama >= 70:\n",
    "    print(\"Geçtiniz\")\n",
    "else:\n",
    "    print(\"Kaldınız\")"
   ]
  },
  {
   "cell_type": "code",
   "execution_count": 58,
   "id": "36b8c0b1",
   "metadata": {},
   "outputs": [
    {
     "name": "stdout",
     "output_type": "stream",
     "text": [
      "Öğrenci adını giriniz: Berkcan\n",
      "Öğrencinin 1. notunu giriniz:100\n",
      "Öğrencinin 2. notunu giriniz:70\n",
      "BA\n"
     ]
    }
   ],
   "source": [
    "isim = input(\"Öğrenci adını giriniz: \")\n",
    "not1 = int(input(\"Öğrencinin 1. notunu giriniz:\"))\n",
    "not2 = int(input(\"Öğrencinin 2. notunu giriniz:\"))\n",
    "ortalama = (not1*0.4 + not2*0.6)\n",
    "if ortalama >90:\n",
    "    print(\"AA\")\n",
    "elif ortalama >80:\n",
    "    print(\"BA\")\n",
    "elif ortalama >70:\n",
    "    print(\"BB\")\n",
    "elif ortalama >60:\n",
    "    print(\"CB\")\n",
    "elif ortalama >55:\n",
    "    print(\"CC\")\n",
    "elif ortalama >50:\n",
    "    print(\"DC\")\n",
    "elif ortalama > 45:\n",
    "    print(\"DD\")\n",
    "else:\n",
    "    print(\"FF\")"
   ]
  },
  {
   "cell_type": "code",
   "execution_count": null,
   "id": "33b45726",
   "metadata": {},
   "outputs": [],
   "source": []
  }
 ],
 "metadata": {
  "kernelspec": {
   "display_name": "Python 3",
   "language": "python",
   "name": "python3"
  },
  "language_info": {
   "codemirror_mode": {
    "name": "ipython",
    "version": 3
   },
   "file_extension": ".py",
   "mimetype": "text/x-python",
   "name": "python",
   "nbconvert_exporter": "python",
   "pygments_lexer": "ipython3",
   "version": "3.8.8"
  }
 },
 "nbformat": 4,
 "nbformat_minor": 5
}
