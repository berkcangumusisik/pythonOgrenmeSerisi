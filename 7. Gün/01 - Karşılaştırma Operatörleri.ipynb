{
 "cells": [
  {
   "cell_type": "markdown",
   "id": "0711798c",
   "metadata": {},
   "source": [
    " # Karşılaştırma Operatörleri\n",
    " - = atama operatörüdür. Mesela x = 5 dersek x değerini 5'e atamış oluyoruz.\n",
    " - == iki değerin birbirine eşit olup olmadığını kontrol eder. Eşitse True eşit değilse False değerini döndürürür.\n",
    " - != eşit değil mi? Cevap eşit değilse True, eşitse False değerini döndürür.\n",
    " - ***>*** büyüktür.\n",
    " - < küçüktür.\n",
    " - ***>=*** büyük eşittir.\n",
    " - <= küçük eştittir."
   ]
  },
  {
   "cell_type": "code",
   "execution_count": 3,
   "id": "0ec07a2d",
   "metadata": {},
   "outputs": [],
   "source": [
    "a, b, c, d = 5 , 5, 10, 4"
   ]
  },
  {
   "cell_type": "code",
   "execution_count": 4,
   "id": "6e9793f3",
   "metadata": {},
   "outputs": [
    {
     "name": "stdout",
     "output_type": "stream",
     "text": [
      "True\n",
      "False\n"
     ]
    }
   ],
   "source": [
    "print(a == b)\n",
    "print(a == c)"
   ]
  },
  {
   "cell_type": "code",
   "execution_count": 7,
   "id": "eef7e545",
   "metadata": {},
   "outputs": [
    {
     "data": {
      "text/plain": [
       "True"
      ]
     },
     "execution_count": 7,
     "metadata": {},
     "output_type": "execute_result"
    }
   ],
   "source": [
    "username = \"berkcan\"\n",
    "password = \"12345\"\n",
    "\"berkcan\" == username"
   ]
  },
  {
   "cell_type": "code",
   "execution_count": 6,
   "id": "8b887d3d",
   "metadata": {},
   "outputs": [
    {
     "data": {
      "text/plain": [
       "False"
      ]
     },
     "execution_count": 6,
     "metadata": {},
     "output_type": "execute_result"
    }
   ],
   "source": [
    "\"brkcn\" == username"
   ]
  },
  {
   "cell_type": "code",
   "execution_count": 8,
   "id": "5fca128b",
   "metadata": {},
   "outputs": [
    {
     "data": {
      "text/plain": [
       "False"
      ]
     },
     "execution_count": 8,
     "metadata": {},
     "output_type": "execute_result"
    }
   ],
   "source": [
    "print(a != b)"
   ]
  },
  {
   "cell_type": "code",
   "execution_count": 10,
   "id": "6df4f6ed",
   "metadata": {},
   "outputs": [
    {
     "name": "stdout",
     "output_type": "stream",
     "text": [
      "True\n"
     ]
    }
   ],
   "source": [
    "print(a != c)"
   ]
  },
  {
   "cell_type": "code",
   "execution_count": 11,
   "id": "5ebee602",
   "metadata": {},
   "outputs": [
    {
     "name": "stdout",
     "output_type": "stream",
     "text": [
      "False\n"
     ]
    }
   ],
   "source": [
    "print(a > b)"
   ]
  },
  {
   "cell_type": "code",
   "execution_count": 12,
   "id": "57483969",
   "metadata": {},
   "outputs": [
    {
     "name": "stdout",
     "output_type": "stream",
     "text": [
      "False\n"
     ]
    }
   ],
   "source": [
    "print(a > c)"
   ]
  },
  {
   "cell_type": "code",
   "execution_count": 13,
   "id": "77f57d67",
   "metadata": {},
   "outputs": [
    {
     "name": "stdout",
     "output_type": "stream",
     "text": [
      "False\n"
     ]
    }
   ],
   "source": [
    "print(a < b)"
   ]
  },
  {
   "cell_type": "code",
   "execution_count": 14,
   "id": "71313941",
   "metadata": {},
   "outputs": [
    {
     "name": "stdout",
     "output_type": "stream",
     "text": [
      "True\n"
     ]
    }
   ],
   "source": [
    "print(a < c)"
   ]
  },
  {
   "cell_type": "code",
   "execution_count": 16,
   "id": "92a8a42c",
   "metadata": {},
   "outputs": [
    {
     "name": "stdout",
     "output_type": "stream",
     "text": [
      "True\n"
     ]
    }
   ],
   "source": [
    "print(a >= b)"
   ]
  },
  {
   "cell_type": "code",
   "execution_count": 17,
   "id": "15ba4ee2",
   "metadata": {},
   "outputs": [
    {
     "name": "stdout",
     "output_type": "stream",
     "text": [
      "True\n"
     ]
    }
   ],
   "source": [
    "print(a <= b)"
   ]
  },
  {
   "cell_type": "code",
   "execution_count": null,
   "id": "27fd266b",
   "metadata": {},
   "outputs": [],
   "source": []
  }
 ],
 "metadata": {
  "kernelspec": {
   "display_name": "Python 3",
   "language": "python",
   "name": "python3"
  },
  "language_info": {
   "codemirror_mode": {
    "name": "ipython",
    "version": 3
   },
   "file_extension": ".py",
   "mimetype": "text/x-python",
   "name": "python",
   "nbconvert_exporter": "python",
   "pygments_lexer": "ipython3",
   "version": "3.8.8"
  }
 },
 "nbformat": 4,
 "nbformat_minor": 5
}
