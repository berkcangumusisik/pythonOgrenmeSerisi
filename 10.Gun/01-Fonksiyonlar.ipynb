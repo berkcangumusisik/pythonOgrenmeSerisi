{
 "cells": [
  {
   "cell_type": "markdown",
   "metadata": {},
   "source": [
    "# Fonksiyonlar"
   ]
  },
  {
   "cell_type": "markdown",
   "metadata": {},
   "source": [
    "- Bir kodu bir çok yerde kullanmamız gerekiyorsa, her yerde tekrar tekrar yazmayı önler. Programlamanın temeli : DRY(Don't Repeat Yourself - Kendini tekrar etme)\n",
    "- Fonksiyonların içindeki değişkenler yereldir, yani bir fonksiyonun içinde bir değişken tanımladığınızda, o değişkeni fonksiyonun dışında çağıramayız. Çünkü o değişken o fonksiyona özeldir ve gloabalde kullanılamaz.\n",
    "- Ne zaman bir fonksiyon çağırılırsa, fonksiyonu yazdıktan sonra yapmalısınız.\n",
    "- Fonksiyon tanımlamanın yapısı şu şekildedir;\n",
    "```python\n",
    "        def fonksiyon_adı(parametre1,parametre2..... (opsiyonel)):\n",
    "            # Fonksiyon bloğu\n",
    "            Yapılacak işlemler\n",
    "            # dönüş değeri - Opsiyonel\n",
    "```\n",
    "- Tanımlanan bir fonksiyonun kullanılmasına programlama dillerinde Fonksiyon Çağrısı denmektedir. O halde selamla fonksiyonumuzu nasıl çağıracağımızı öğrenelim. Fonksiyon çağrısı şu şekilde yapılabilmektedir;\n",
    "```python\n",
    "        fonksiyon_adı(Argüman1,Argüman2....)"
   ]
  },
  {
   "cell_type": "code",
   "execution_count": 2,
   "metadata": {},
   "outputs": [
    {
     "name": "stdout",
     "output_type": "stream",
     "text": [
      "Merhaba\n"
     ]
    }
   ],
   "source": [
    "def helloWorld():\n",
    "    print(\"Merhaba\")\n",
    "\n",
    "helloWorld()"
   ]
  },
  {
   "cell_type": "markdown",
   "metadata": {},
   "source": [
    "# Argüman:\n",
    "\n",
    "- işlev çağrılırken parantez içindeki işlevlere iletilen değerler (string , number, vb.) (ör. islev_adı (argüman))\n",
    "- Eğer fonksiyon çağrılırken bir argüman yoksa, bu argümanın değeri None olacaktır. Bu nedenle fonksiyonun içinde ifade edilecek bir değer yoksa, belirlenen değeri kullanılmalıdır.\n",
    "```python\n",
    "def helloWorld(name = \"ziyaretçi\"):\n",
    "    print(\"Merhaba \", name)\n",
    "```\n",
    "- Birden fazla parametre olabilir. Her biri virgülle ayrılır."
   ]
  },
  {
   "cell_type": "code",
   "execution_count": 3,
   "metadata": {},
   "outputs": [
    {
     "name": "stdout",
     "output_type": "stream",
     "text": [
      "Merhaba  Berkcan\n",
      "Merhaba  Şevval\n",
      "Merhaba  Nurana\n",
      "Merhaba  Mete\n",
      "Merhaba  ziyaretçi\n"
     ]
    }
   ],
   "source": [
    "def helloWorld(name = \"ziyaretçi\"):\n",
    "    print(\"Merhaba \", name)\n",
    "    \n",
    "helloWorld(\"Berkcan\")\n",
    "helloWorld(\"Şevval\")\n",
    "helloWorld(\"Nurana\")\n",
    "helloWorld(\"Mete\")\n",
    "helloWorld()\n",
    "    "
   ]
  },
  {
   "cell_type": "code",
   "execution_count": 4,
   "metadata": {},
   "outputs": [
    {
     "name": "stdout",
     "output_type": "stream",
     "text": [
      "60\n"
     ]
    }
   ],
   "source": [
    "def topla(sayi1, sayi2, sayi3):\n",
    "    t = sayi1 + sayi2 + sayi3\n",
    "    print(t)\n",
    "topla(10,20,30)"
   ]
  },
  {
   "cell_type": "code",
   "execution_count": 5,
   "metadata": {},
   "outputs": [
    {
     "name": "stdout",
     "output_type": "stream",
     "text": [
      "Sitemize Hoş Geldiniz Berkcan Gümüşışık\n",
      "Sitemize Hoş Geldiniz İbrahim Gümüşışık\n",
      "Sitemize Hoş Geldiniz İbrahim Gümüşışık\n"
     ]
    }
   ],
   "source": [
    "def merhaba(name = \"Berkcan\" , surname = \"Gümüşışık\"):\n",
    "    print(\"Sitemize Hoş Geldiniz \" + name + \" \" +surname)\n",
    "merhaba()\n",
    "merhaba(\"İbrahim\",\"Gümüşışık\")\n",
    "merhaba(\"İbrahim\")"
   ]
  },
  {
   "cell_type": "code",
   "execution_count": 9,
   "metadata": {},
   "outputs": [
    {
     "name": "stdout",
     "output_type": "stream",
     "text": [
      "30\n",
      "6\n",
      "2\n"
     ]
    }
   ],
   "source": [
    "def carp(sayi1 = 1 , sayi2 = 1, sayi3 = 1):\n",
    "    c = sayi1 * sayi2 * sayi3\n",
    "    print(c)\n",
    "carp(2,3,5)\n",
    "carp(2,3)\n",
    "carp(2) "
   ]
  },
  {
   "cell_type": "code",
   "execution_count": 6,
   "metadata": {},
   "outputs": [
    {
     "name": "stdout",
     "output_type": "stream",
     "text": [
      "Hello\n",
      "Bonjour\n",
      "Hola\n",
      "Merhaba\n"
     ]
    }
   ],
   "source": [
    "def merhaba(dil):\n",
    "    if dil == \"es\":\n",
    "        print(\"Hola\")\n",
    "    elif dil == \"fr\":\n",
    "        print(\"Bonjour\")\n",
    "    elif dil == \"en\":\n",
    "        print(\"Hello\")\n",
    "    else:\n",
    "        print(\"Merhaba\")\n",
    "merhaba(\"en\")\n",
    "merhaba(\"fr\")\n",
    "merhaba(\"es\")\n",
    "merhaba(\"tr\")"
   ]
  },
  {
   "cell_type": "markdown",
   "metadata": {},
   "source": [
    "# return\n",
    "- Kodun tamamında kullanmak için işlevin kodu tamamlandıktan sonra kalan değeri (sonuç değeri) döndürür\n",
    "- \"return\" anahtar sözcüğünden sonraki kodlar yürütülmez. Bu, görmezden gelindikleri anlamına gelir\n",
    "- return yardımıyla fonksiyonlar değerleri çağrıldığı yere döndürebilir ve biz de bu değerleri istediğimiz yerde kullanabiliriz."
   ]
  },
  {
   "cell_type": "code",
   "execution_count": 12,
   "metadata": {},
   "outputs": [
    {
     "name": "stdout",
     "output_type": "stream",
     "text": [
      "3.0\n"
     ]
    }
   ],
   "source": [
    "def dikUcgenAlaniHesapla(a,b):\n",
    "    return (a * b)/2\n",
    "print(dikUcgenAlaniHesapla(2,3))"
   ]
  },
  {
   "cell_type": "markdown",
   "metadata": {},
   "source": [
    "# *args\n",
    "- Sınırsız sayıda parametreli fonksiyon oluşturmak için parametremizin önüne tek yıldız (*) koyabiliriz.\n",
    "- İsimsiz argümanlardır."
   ]
  },
  {
   "cell_type": "code",
   "execution_count": 7,
   "metadata": {},
   "outputs": [
    {
     "name": "stdout",
     "output_type": "stream",
     "text": [
      "(4,)\n",
      "(4, 5, 6)\n"
     ]
    }
   ],
   "source": [
    "def sayilar(*x):\n",
    "    print(x)\n",
    "sayilar(4)\n",
    "sayilar(4,5,6)"
   ]
  },
  {
   "cell_type": "code",
   "execution_count": 8,
   "metadata": {},
   "outputs": [
    {
     "name": "stdout",
     "output_type": "stream",
     "text": [
      "55\n"
     ]
    }
   ],
   "source": [
    "def toplama(*x):\n",
    "    toplam = 0\n",
    "    for i in x:\n",
    "        toplam += i\n",
    "    print(toplam)\n",
    "toplama(1,2,3,4,5,6,7,8,9,10)"
   ]
  },
  {
   "cell_type": "markdown",
   "metadata": {},
   "source": [
    "# **kwargs\n",
    "- Çift yıldızlı (**) parametrelerin tek yıldızlı (*) parametrelerden en önemli farkı, fonksiyonu çağırırken anahtar değer ilişkisiyle çağırabilmemizdir.\n",
    "- İsimli argümanlardır."
   ]
  },
  {
   "cell_type": "code",
   "execution_count": 9,
   "metadata": {},
   "outputs": [
    {
     "name": "stdout",
     "output_type": "stream",
     "text": [
      "{'adi': 'Berkcan', 'soyadi': 'Gümüşışık', 'yas': 22}\n"
     ]
    }
   ],
   "source": [
    "def kimlikGoster(**kimlik):\n",
    "    print(kimlik)\n",
    "kimlikGoster(adi = \"Berkcan\",soyadi = \"Gümüşışık\",yas = 22)"
   ]
  },
  {
   "cell_type": "code",
   "execution_count": 10,
   "metadata": {},
   "outputs": [
    {
     "name": "stdout",
     "output_type": "stream",
     "text": [
      "10\n",
      "(20, 30, 40, 50)\n",
      "60\n",
      "{'adi': 'Berkcan', 'soyadi': 'Gümüşışık', 'yas': 22}\n"
     ]
    }
   ],
   "source": [
    "def kimlikGoster(a,*sayilar,b,**kimlik):\n",
    "    print(a)\n",
    "    print(sayilar)\n",
    "    print(b)\n",
    "    print(kimlik)\n",
    "kimlikGoster(10,20,30,40,50,b= 60, adi = \"Berkcan\",soyadi = \"Gümüşışık\",yas = 22)"
   ]
  },
  {
   "cell_type": "markdown",
   "metadata": {},
   "source": [
    "# Pass Deyimi\n",
    "- Python programlamasında pass ifadesi null değer atama için kullanılır. Python’daki bir açıklama ve geçiş ifadesi arasındaki fark, yorumlayıcı bir yorumu tamamen yok sayırken, geçişin göz ardı edilmemesidir."
   ]
  },
  {
   "cell_type": "code",
   "execution_count": 11,
   "metadata": {},
   "outputs": [],
   "source": [
    "def carp(*sayilar):\n",
    "    for sayi in sayilar:\n",
    "        pass\n",
    "carp(5,2);"
   ]
  },
  {
   "cell_type": "markdown",
   "metadata": {},
   "source": [
    "# Global ve Yerel Değişkenler\n",
    "- Global değişken fonksiyonlarımızın dışında tanımladığımız değişkenlerdir.\n",
    "- Yerel değişkenler ise fonksiyon içinde kullandığımız değişkenlerdir.\n",
    "- Fonksiyonun dışında tanımladığımız fonksiyonların içinde kullanılırken, fonksiyonların içinde tanımladığımız değişkenler fonksiyon dışında kullanılamaz."
   ]
  },
  {
   "cell_type": "code",
   "execution_count": 12,
   "metadata": {},
   "outputs": [
    {
     "name": "stdout",
     "output_type": "stream",
     "text": [
      "5\n"
     ]
    },
    {
     "ename": "NameError",
     "evalue": "name 'x' is not defined",
     "output_type": "error",
     "traceback": [
      "\u001b[1;31m---------------------------------------------------------------------------\u001b[0m",
      "\u001b[1;31mNameError\u001b[0m                                 Traceback (most recent call last)",
      "\u001b[1;32mc:\\Users\\BERKCAN\\Documents\\GitHub\\pythonOgrenmeSerisi\\10.Gun\\01-Fonksiyonlar.ipynb Hücre 21\u001b[0m in \u001b[0;36m<cell line: 5>\u001b[1;34m()\u001b[0m\n\u001b[0;32m      <a href='vscode-notebook-cell:/c%3A/Users/BERKCAN/Documents/GitHub/pythonOgrenmeSerisi/10.Gun/01-Fonksiyonlar.ipynb#X26sZmlsZQ%3D%3D?line=2'>3</a>\u001b[0m     \u001b[39mprint\u001b[39m(x)\n\u001b[0;32m      <a href='vscode-notebook-cell:/c%3A/Users/BERKCAN/Documents/GitHub/pythonOgrenmeSerisi/10.Gun/01-Fonksiyonlar.ipynb#X26sZmlsZQ%3D%3D?line=3'>4</a>\u001b[0m yazdir2()\n\u001b[1;32m----> <a href='vscode-notebook-cell:/c%3A/Users/BERKCAN/Documents/GitHub/pythonOgrenmeSerisi/10.Gun/01-Fonksiyonlar.ipynb#X26sZmlsZQ%3D%3D?line=4'>5</a>\u001b[0m \u001b[39mprint\u001b[39m(x)\n",
      "\u001b[1;31mNameError\u001b[0m: name 'x' is not defined"
     ]
    }
   ],
   "source": [
    "def yazdir2():\n",
    "    x = 5\n",
    "    print(x)\n",
    "yazdir2()\n",
    "print(x)"
   ]
  },
  {
   "cell_type": "code",
   "execution_count": 13,
   "metadata": {},
   "outputs": [
    {
     "name": "stdout",
     "output_type": "stream",
     "text": [
      "5\n",
      "5\n"
     ]
    }
   ],
   "source": [
    "def yazdir3():\n",
    "    global x\n",
    "    x = 5\n",
    "    print(x)\n",
    "yazdir3()\n",
    "print(x)"
   ]
  },
  {
   "cell_type": "markdown",
   "metadata": {},
   "source": [
    "**Bir fonksiyon kendi içerisinde çağrılırsa sonsuz döngüye girer.**"
   ]
  },
  {
   "cell_type": "markdown",
   "metadata": {},
   "source": [
    "# Lambda Gösterimi\n",
    "- Pythonda isimsiz olarak tanımladığımız fonksiyonlara lambda fonksiyonları denir. \n",
    "- Tek satırda yazılırlar. \n",
    "- Gösterimi fonksiyonAdi = lambda parametreler : yapılacakIslem"
   ]
  },
  {
   "cell_type": "code",
   "execution_count": 14,
   "metadata": {},
   "outputs": [
    {
     "data": {
      "text/plain": [
       "3.0"
      ]
     },
     "execution_count": 14,
     "metadata": {},
     "output_type": "execute_result"
    }
   ],
   "source": [
    "dikUcgeninAlani = lambda a,b : a*b/2\n",
    "dikUcgeninAlani(2,3)"
   ]
  },
  {
   "cell_type": "code",
   "execution_count": 15,
   "metadata": {},
   "outputs": [
    {
     "name": "stdout",
     "output_type": "stream",
     "text": [
      "10\n"
     ]
    }
   ],
   "source": [
    "ikiyleCarp = lambda x : print(x*2)\n",
    "ikiyleCarp(5)"
   ]
  },
  {
   "cell_type": "code",
   "execution_count": 16,
   "metadata": {},
   "outputs": [
    {
     "name": "stdout",
     "output_type": "stream",
     "text": [
      "nackreB\n"
     ]
    }
   ],
   "source": [
    "ters =  lambda s : s[::-1]\n",
    "print(ters(\"Berkcan\"))"
   ]
  }
 ],
 "metadata": {
  "kernelspec": {
   "display_name": "Python 3.10.5 64-bit",
   "language": "python",
   "name": "python3"
  },
  "language_info": {
   "codemirror_mode": {
    "name": "ipython",
    "version": 3
   },
   "file_extension": ".py",
   "mimetype": "text/x-python",
   "name": "python",
   "nbconvert_exporter": "python",
   "pygments_lexer": "ipython3",
   "version": "3.10.5 (tags/v3.10.5:f377153, Jun  6 2022, 16:14:13) [MSC v.1929 64 bit (AMD64)]"
  },
  "orig_nbformat": 4,
  "vscode": {
   "interpreter": {
    "hash": "5026d2d6e7aaaaba093def813beadff083d8733e4a511af01735cbabd156995d"
   }
  }
 },
 "nbformat": 4,
 "nbformat_minor": 2
}
