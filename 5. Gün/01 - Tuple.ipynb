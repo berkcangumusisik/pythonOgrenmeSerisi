{
 "cells": [
  {
   "cell_type": "markdown",
   "id": "1a4e783a",
   "metadata": {},
   "source": [
    "# TUPLE(DEMET)"
   ]
  },
  {
   "cell_type": "markdown",
   "id": "b9fb167f",
   "metadata": {},
   "source": [
    "- Tuple listelere benzerdir.\n",
    "- Tuple ile liste arasındaki en önemli fark tuple elemanlarının değiştirilemez, liste elemanlarınının değiştirilebilir olmasıdır.\n",
    "- Performanslı bir data sağlar.\n",
    "- () içerisinde tanımlanabilir.\n",
    "- İç içe tuple oluşturulabilir.\n",
    "- Liste içerisinde tuple, tuple içersinide liste tanımlamak mümkündür.\n",
    "- Bir kere tanımlandıktan sonra değiştirilemezler yalnızca okunurlar.\n",
    "- Tek elemansa tuple olduğunu belirtmek için bir virgül koyulmalıdır."
   ]
  },
  {
   "cell_type": "code",
   "execution_count": 6,
   "id": "c46e05a8",
   "metadata": {},
   "outputs": [
    {
     "name": "stdout",
     "output_type": "stream",
     "text": [
      "<class 'tuple'>\n",
      "<class 'list'>\n"
     ]
    }
   ],
   "source": [
    "tupleListe = (2,4,6,\"Ankara\",(2,3,4),[])\n",
    "liste= [2,4,6,\"Ankara\",(2,3,4),()]\n",
    "print(type(tupleListe))\n",
    "print(type(liste))"
   ]
  },
  {
   "cell_type": "code",
   "execution_count": 7,
   "id": "60fce9f5",
   "metadata": {},
   "outputs": [
    {
     "name": "stdout",
     "output_type": "stream",
     "text": [
      "(2, 4, 6, 'Ankara', (2, 3, 4), [])\n",
      "[2, 4, 6, 'Ankara', (2, 3, 4), ()]\n"
     ]
    }
   ],
   "source": [
    "print(tupleListe)\n",
    "print(liste)"
   ]
  },
  {
   "cell_type": "code",
   "execution_count": 8,
   "id": "c950db7f",
   "metadata": {},
   "outputs": [
    {
     "name": "stdout",
     "output_type": "stream",
     "text": [
      "6\n",
      "6\n"
     ]
    }
   ],
   "source": [
    "print(len(tupleListe))\n",
    "print(len(liste))"
   ]
  },
  {
   "cell_type": "code",
   "execution_count": 10,
   "id": "b09c9c7c",
   "metadata": {},
   "outputs": [
    {
     "name": "stdout",
     "output_type": "stream",
     "text": [
      "[6, 4, 6, 'Ankara', (2, 3, 4), ()]\n"
     ]
    }
   ],
   "source": [
    "liste[0] = 6\n",
    "print(liste)"
   ]
  },
  {
   "cell_type": "code",
   "execution_count": 11,
   "id": "c29961ec",
   "metadata": {},
   "outputs": [
    {
     "ename": "TypeError",
     "evalue": "'tuple' object does not support item assignment",
     "output_type": "error",
     "traceback": [
      "\u001b[1;31m---------------------------------------------------------------------------\u001b[0m",
      "\u001b[1;31mTypeError\u001b[0m                                 Traceback (most recent call last)",
      "\u001b[1;32m<ipython-input-11-3328119a28c6>\u001b[0m in \u001b[0;36m<module>\u001b[1;34m\u001b[0m\n\u001b[1;32m----> 1\u001b[1;33m \u001b[0mtupleListe\u001b[0m\u001b[1;33m[\u001b[0m\u001b[1;36m0\u001b[0m\u001b[1;33m]\u001b[0m \u001b[1;33m=\u001b[0m \u001b[1;36m6\u001b[0m\u001b[1;33m\u001b[0m\u001b[1;33m\u001b[0m\u001b[0m\n\u001b[0m\u001b[0;32m      2\u001b[0m \u001b[0mprint\u001b[0m\u001b[1;33m(\u001b[0m\u001b[0mtupleListe\u001b[0m\u001b[1;33m)\u001b[0m\u001b[1;33m\u001b[0m\u001b[1;33m\u001b[0m\u001b[0m\n",
      "\u001b[1;31mTypeError\u001b[0m: 'tuple' object does not support item assignment"
     ]
    }
   ],
   "source": [
    "tupleListe[0] = 6\n",
    "print(tupleListe)"
   ]
  },
  {
   "cell_type": "code",
   "execution_count": 12,
   "id": "62b32c8e",
   "metadata": {},
   "outputs": [
    {
     "name": "stdout",
     "output_type": "stream",
     "text": [
      "(2, 3, 4)\n",
      "(2, 3, 4)\n"
     ]
    }
   ],
   "source": [
    "print(liste[-2])\n",
    "print(tupleListe[-2])"
   ]
  },
  {
   "cell_type": "code",
   "execution_count": 13,
   "id": "922862cc",
   "metadata": {},
   "outputs": [
    {
     "name": "stdout",
     "output_type": "stream",
     "text": [
      "[4]\n",
      "(4,)\n"
     ]
    }
   ],
   "source": [
    "print(liste[1:2])\n",
    "print(tupleListe[1:2])"
   ]
  },
  {
   "cell_type": "code",
   "execution_count": null,
   "id": "c81326f8",
   "metadata": {},
   "outputs": [],
   "source": []
  }
 ],
 "metadata": {
  "kernelspec": {
   "display_name": "Python 3.10.5 64-bit",
   "language": "python",
   "name": "python3"
  },
  "language_info": {
   "codemirror_mode": {
    "name": "ipython",
    "version": 3
   },
   "file_extension": ".py",
   "mimetype": "text/x-python",
   "name": "python",
   "nbconvert_exporter": "python",
   "pygments_lexer": "ipython3",
   "version": "3.10.5"
  },
  "vscode": {
   "interpreter": {
    "hash": "5026d2d6e7aaaaba093def813beadff083d8733e4a511af01735cbabd156995d"
   }
  }
 },
 "nbformat": 4,
 "nbformat_minor": 5
}
