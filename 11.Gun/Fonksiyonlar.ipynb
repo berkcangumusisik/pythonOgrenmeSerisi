{
 "cells": [
  {
   "cell_type": "markdown",
   "metadata": {},
   "source": [
    "# *args\n",
    "- Sınırsız sayıda parametreli fonksiyon oluşturmak için parametremizin önüne tek yıldız (*) koyabiliriz.\n",
    "- İsimsiz argümanlardır."
   ]
  },
  {
   "cell_type": "code",
   "execution_count": 2,
   "metadata": {},
   "outputs": [
    {
     "name": "stdout",
     "output_type": "stream",
     "text": [
      "(4,)\n",
      "(4, 5, 6)\n"
     ]
    }
   ],
   "source": [
    "def sayilar(*x):\n",
    "    print(x)\n",
    "sayilar(4)\n",
    "sayilar(4,5,6)"
   ]
  },
  {
   "cell_type": "code",
   "execution_count": 5,
   "metadata": {},
   "outputs": [
    {
     "name": "stdout",
     "output_type": "stream",
     "text": [
      "55\n"
     ]
    }
   ],
   "source": [
    "def toplama(*x):\n",
    "    toplam = 0\n",
    "    for i in x:\n",
    "        toplam += i\n",
    "    print(toplam)\n",
    "toplama(1,2,3,4,5,6,7,8,9,10)"
   ]
  },
  {
   "cell_type": "markdown",
   "metadata": {},
   "source": [
    "# **kwargs\n",
    "- Çift yıldızlı (**) parametrelerin tek yıldızlı (*) parametrelerden en önemli farkı, fonksiyonu çağırırken anahtar değer ilişkisiyle çağırabilmemizdir.\n",
    "- İsimli argümanlardır."
   ]
  },
  {
   "cell_type": "code",
   "execution_count": 6,
   "metadata": {},
   "outputs": [
    {
     "name": "stdout",
     "output_type": "stream",
     "text": [
      "{'adi': 'Berkcan', 'soyadi': 'Gümüşışık', 'yas': 22}\n"
     ]
    }
   ],
   "source": [
    "def kimlikGoster(**kimlik):\n",
    "    print(kimlik)\n",
    "kimlikGoster(adi = \"Berkcan\",soyadi = \"Gümüşışık\",yas = 22)"
   ]
  },
  {
   "cell_type": "code",
   "execution_count": 7,
   "metadata": {},
   "outputs": [
    {
     "name": "stdout",
     "output_type": "stream",
     "text": [
      "10\n",
      "(20, 30, 40, 50)\n",
      "60\n",
      "{'adi': 'Berkcan', 'soyadi': 'Gümüşışık', 'yas': 22}\n"
     ]
    }
   ],
   "source": [
    "def kimlikGoster(a,*sayilar,b,**kimlik):\n",
    "    print(a)\n",
    "    print(sayilar)\n",
    "    print(b)\n",
    "    print(kimlik)\n",
    "kimlikGoster(10,20,30,40,50,b= 60, adi = \"Berkcan\",soyadi = \"Gümüşışık\",yas = 22)"
   ]
  },
  {
   "cell_type": "markdown",
   "metadata": {},
   "source": [
    "# Pass Deyimi\n",
    "- Python programlamasında pass ifadesi null değer atama için kullanılır. Python’daki bir açıklama ve geçiş ifadesi arasındaki fark, yorumlayıcı bir yorumu tamamen yok sayırken, geçişin göz ardı edilmemesidir."
   ]
  },
  {
   "cell_type": "code",
   "execution_count": 9,
   "metadata": {},
   "outputs": [],
   "source": [
    "def carp(*sayilar):\n",
    "    for sayi in sayilar:\n",
    "        pass\n",
    "carp(5,2);"
   ]
  },
  {
   "cell_type": "markdown",
   "metadata": {},
   "source": [
    "# Global ve Yerel Değişkenler\n",
    "- Global değişken fonksiyonlarımızın dışında tanımladığımız değişkenlerdir.\n",
    "- Yerel değişkenler ise fonksiyon içinde kullandığımız değişkenlerdir.\n",
    "- Fonksiyonun dışında tanımladığımız fonksiyonların içinde kullanılırken, fonksiyonların içinde tanımladığımız değişkenler fonksiyon dışında kullanılamaz."
   ]
  },
  {
   "cell_type": "code",
   "execution_count": 10,
   "metadata": {},
   "outputs": [
    {
     "name": "stdout",
     "output_type": "stream",
     "text": [
      "10\n"
     ]
    }
   ],
   "source": [
    "x = 10\n",
    "def yazdir():\n",
    "    print(x)\n",
    "yazdir()"
   ]
  },
  {
   "cell_type": "code",
   "execution_count": 13,
   "metadata": {},
   "outputs": [
    {
     "name": "stdout",
     "output_type": "stream",
     "text": [
      "5\n",
      "10\n"
     ]
    }
   ],
   "source": [
    "def yazdir2():\n",
    "    x = 5\n",
    "    print(x)\n",
    "yazdir2()\n",
    "print(x)"
   ]
  },
  {
   "cell_type": "markdown",
   "metadata": {},
   "source": [
    "- global deyimi fonksiyon içinde kullanılan bir deyimin fonksiyon dışında da geçerli olmasını sağlar."
   ]
  },
  {
   "cell_type": "code",
   "execution_count": 15,
   "metadata": {},
   "outputs": [
    {
     "name": "stdout",
     "output_type": "stream",
     "text": [
      "5\n",
      "5\n"
     ]
    }
   ],
   "source": [
    "def yazdir3():\n",
    "    global x\n",
    "    x = 5\n",
    "    print(x)\n",
    "yazdir3()\n",
    "print(x)"
   ]
  },
  {
   "cell_type": "markdown",
   "metadata": {},
   "source": [
    "# Bir Fonksiyonu Kendi İçinde Çağırmak"
   ]
  },
  {
   "cell_type": "code",
   "execution_count": null,
   "metadata": {},
   "outputs": [],
   "source": [
    "#sonsuz döngüye girer.\n",
    "def selamla():\n",
    "    print(\"Selamlar\")\n",
    "    selamla()"
   ]
  },
  {
   "cell_type": "markdown",
   "metadata": {},
   "source": [
    "# Lambda Gösterimi\n",
    "- Pythonda isimsiz olarak tanımladığımız fonksiyonlara lambda fonksiyonları denir. \n",
    "- Tek satırda yazılırlar. \n",
    "- Gösterimi fonksiyonAdi = lambda parametreler : yapılacakIslem"
   ]
  },
  {
   "cell_type": "code",
   "execution_count": 18,
   "metadata": {},
   "outputs": [
    {
     "data": {
      "text/plain": [
       "3.0"
      ]
     },
     "execution_count": 18,
     "metadata": {},
     "output_type": "execute_result"
    }
   ],
   "source": [
    "dikUcgeninAlani = lambda a,b : a*b/2\n",
    "dikUcgeninAlani(2,3)\n",
    "#def dikUcgeninAlani(a,b):\n",
    "#    return a*b/2\n"
   ]
  },
  {
   "cell_type": "code",
   "execution_count": 20,
   "metadata": {},
   "outputs": [
    {
     "data": {
      "text/plain": [
       "4"
      ]
     },
     "execution_count": 20,
     "metadata": {},
     "output_type": "execute_result"
    }
   ],
   "source": [
    "ikiyleCarp = lambda : 2*2\n",
    "ikiyleCarp()"
   ]
  },
  {
   "cell_type": "code",
   "execution_count": 22,
   "metadata": {},
   "outputs": [
    {
     "name": "stdout",
     "output_type": "stream",
     "text": [
      "10\n"
     ]
    }
   ],
   "source": [
    "ikiyleCarp = lambda x : print(x*2)\n",
    "ikiyleCarp(5)"
   ]
  }
 ],
 "metadata": {
  "interpreter": {
   "hash": "96f2b75f092ed1a0519a47617957f87ef8220e3e362917a5d4c2f9cc419b7475"
  },
  "kernelspec": {
   "display_name": "Python 3.9.6 64-bit",
   "language": "python",
   "name": "python3"
  },
  "language_info": {
   "codemirror_mode": {
    "name": "ipython",
    "version": 3
   },
   "file_extension": ".py",
   "mimetype": "text/x-python",
   "name": "python",
   "nbconvert_exporter": "python",
   "pygments_lexer": "ipython3",
   "version": "3.9.6"
  },
  "orig_nbformat": 4
 },
 "nbformat": 4,
 "nbformat_minor": 2
}
