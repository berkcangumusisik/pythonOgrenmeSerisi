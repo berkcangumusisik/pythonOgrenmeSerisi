{
 "cells": [
  {
   "cell_type": "markdown",
   "metadata": {},
   "source": [
    "# Inheritance\n",
    "- Bu konsepti aslında bizim kendi anne babamızdan değişik özellikleri ve davranışları miras almamıza benzetebiliriz.\n",
    "- Bir sınıfın özelliklerinin ve metotlarının başka sınıflara aktarılarak işlevinin artırılmasını sağlar.\n",
    "- Mesela öğrenci ve öğretmeni düşündüğümüz zaman öğrencinin adı, soyadı, adresi, cinsiyeti ve numarası vardır. Öğretmeninse ad, soyad, adres, cinsiyet ve branşı vardır. Bunun yerine kisi sınıfı oluşturup ad, soyad, adres ve cinsiyet tutulur. Öğrenci ve öğretmen classında ise öğrenciye veya öğretmene özgü özellikler ve metotlar tutulur.\n",
    "- super() en genel anlamıyla miras aldığımız sınıfın metodlarını alt sınıflardan kullanmamızı sağlar\n",
    "- super().__init__() metodu çalışırken sınıfın özelliklerini ve metotlarını kullanır.  \n",
    "- Base Class ana sınıftır.\n",
    "- Sub Class base class'ının özelliklerini ve metotlarını kullanır."
   ]
  },
  {
   "cell_type": "code",
   "execution_count": 9,
   "metadata": {},
   "outputs": [
    {
     "name": "stdout",
     "output_type": "stream",
     "text": [
      "person nesnesi türetildi.\n",
      "Berkcan Gümüşışık 23\n",
      "person nesnesi türetildi.\n",
      "student nesnesi türetildi.\n",
      "Ali Ali 25 101\n",
      "101 numaralı öğrenci ders çalıyor.\n",
      "person nesnesi türetildi.\n",
      "teacher nesnesi türetildi.\n",
      "Berkcan   23\n",
      "Berkcan isimli öğretmen Bilgisayar eğitimi veriyor.\n"
     ]
    }
   ],
   "source": [
    "class Person:\n",
    "    def __init__(self, name, surname, age):\n",
    "        self.name = name\n",
    "        self.surname = surname\n",
    "        self.age = age\n",
    "        print(\"person nesnesi türetildi.\")\n",
    "\n",
    "    def intro(self):\n",
    "        print(self.name, self.surname, self.age)\n",
    "\n",
    "class Student(Person):\n",
    "    def __init__(self, name, surname, age, number):\n",
    "        super().__init__(name,surname,age)\n",
    "        self.number = number\n",
    "        print(\"student nesnesi türetildi.\")\n",
    "\n",
    "    def intro(self):\n",
    "        print(self.name, self.surname, self.age, self.number)\n",
    "\n",
    "    def study(self):\n",
    "        print(f\"{self.number} numaralı öğrenci ders çalıyor.\")\n",
    "\n",
    "class Teacher(Person):\n",
    "    def __init__(self, name, surname, age, branch):\n",
    "        super().__init__(name,surname,age)\n",
    "        self.branch = branch\n",
    "        print(\"teacher nesnesi türetildi.\")\n",
    "    \n",
    "    def teach(self):\n",
    "        print(f\"{self.name} isimli öğretmen {self.branch} eğitimi veriyor.\")\n",
    "\n",
    "p1 = Person(\"Berkcan\",\"Gümüşışık\",23)\n",
    "p1.intro() # person\n",
    "\n",
    "s1 = Student(\"Ali\",\"Ali\",25, 101)\n",
    "s1.intro() # student\n",
    "s1.study()\n",
    "\n",
    "t1 = Teacher(\"Berkcan\",\" \",23, \"Bilgisayar\")\n",
    "t1.intro()\n",
    "t1.teach()"
   ]
  },
  {
   "cell_type": "code",
   "execution_count": 10,
   "metadata": {},
   "outputs": [
    {
     "name": "stdout",
     "output_type": "stream",
     "text": [
      "şu anda aktif 0 user var.\n",
      "şu anda aktif 0 moderator var.\n",
      "Şevval Baydemir yazılım grubundan bir post sildi.\n",
      "Nurana Jumageldıyeva Tasarım grubunda bir post güncelledi.\n",
      "şu anda aktif 3 user var.\n",
      "şu anda aktif 2 moderator var.\n"
     ]
    }
   ],
   "source": [
    "# User      \n",
    "# Moderator\n",
    "\n",
    "\n",
    "class User:\n",
    "    active_users = 0\n",
    "    \n",
    "    @classmethod\n",
    "    def display_active_users(cls):\n",
    "        return f\"şu anda aktif {cls.active_users} user var.\"\n",
    "\n",
    "    def __init__(self,firstname,lastname):\n",
    "        self.firstname = firstname\n",
    "        self.lastname = lastname\n",
    "        User.active_users += 1\n",
    "    \n",
    "    def fullname(self):\n",
    "        return f\"{self.firstname} {self.lastname}\"\n",
    "\n",
    "\n",
    "class Moderator(User):\n",
    "    active_moderators = 0\n",
    "\n",
    "    @classmethod\n",
    "    def display_active_moderators(cls):\n",
    "        return f\"şu anda aktif {cls.active_moderators} moderator var.\"\n",
    "\n",
    "    def __init__(self,firstname,lastname,community):\n",
    "        super().__init__(firstname,lastname)\n",
    "        self.community = community\n",
    "        Moderator.active_moderators += 1\n",
    "\n",
    "    def remove_post(self):\n",
    "        return f\"{self.fullname()} {self.community} grubundan bir post sildi.\"\n",
    "\n",
    "    def update_post(self):\n",
    "        return f\"{self.fullname()} {self.community} grubunda bir post güncelledi.\"\n",
    "\n",
    "print(User.display_active_users())\n",
    "print(Moderator.display_active_moderators())\n",
    "\n",
    "u1 = User(\"Berkcan\",\"Gümüşışık\")\n",
    "m1 = Moderator(\"Şevval\",\"Baydemir\",\"yazılım\")\n",
    "m2 = Moderator(\"Nurana\",\"Jumageldıyeva\",\"Tasarım\")\n",
    "\n",
    "print(m1.remove_post())\n",
    "print(m2.update_post())\n",
    "\n",
    "print(User.display_active_users())\n",
    "print(Moderator.display_active_moderators())\n",
    "\n",
    "# print(u1.fullname())\n",
    "# print(m1.fullname())\n",
    "\n",
    "# print(isinstance(u1, User))\n",
    "# print(isinstance(u1, Moderator))\n",
    "\n",
    "# print(isinstance(m1, User))\n",
    "# print(isinstance(m1, Moderator))"
   ]
  }
 ],
 "metadata": {
  "kernelspec": {
   "display_name": "Python 3.10.5 64-bit",
   "language": "python",
   "name": "python3"
  },
  "language_info": {
   "codemirror_mode": {
    "name": "ipython",
    "version": 3
   },
   "file_extension": ".py",
   "mimetype": "text/x-python",
   "name": "python",
   "nbconvert_exporter": "python",
   "pygments_lexer": "ipython3",
   "version": "3.10.5"
  },
  "orig_nbformat": 4,
  "vscode": {
   "interpreter": {
    "hash": "5026d2d6e7aaaaba093def813beadff083d8733e4a511af01735cbabd156995d"
   }
  }
 },
 "nbformat": 4,
 "nbformat_minor": 2
}
