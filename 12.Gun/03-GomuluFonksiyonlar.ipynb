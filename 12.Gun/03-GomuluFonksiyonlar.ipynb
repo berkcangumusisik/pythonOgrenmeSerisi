{
 "cells": [
  {
   "cell_type": "markdown",
   "metadata": {},
   "source": [
    "# GÖMÜLÜ FONKSİYONLAR"
   ]
  },
  {
   "cell_type": "markdown",
   "metadata": {},
   "source": [
    "### map() Fonksiyonu\n",
    "map() fonksiyonunun amacı bir iterasyon yapısındaki elemanların tümüne aynı işlemi uygulamaktır."
   ]
  },
  {
   "cell_type": "code",
   "execution_count": 1,
   "metadata": {},
   "outputs": [
    {
     "name": "stdout",
     "output_type": "stream",
     "text": [
      "[4, 64, 256, 1024, 4096]\n"
     ]
    }
   ],
   "source": [
    "numbers = [2,8,16,32,64]\n",
    "def calculatePow(number):\n",
    "    return number ** 2\n",
    "powers = list(map(calculatePow,numbers))\n",
    "print(powers)"
   ]
  },
  {
   "cell_type": "code",
   "execution_count": 3,
   "metadata": {},
   "outputs": [
    {
     "name": "stdout",
     "output_type": "stream",
     "text": [
      "['BERKCAN', 'ŞEVVAL', 'NURANA', 'METE']\n"
     ]
    }
   ],
   "source": [
    "names = [\"Berkcan\",\"Şevval\",\"Nurana\",\"Mete\"]\n",
    "result = list(map(str.upper,names))\n",
    "print(result)"
   ]
  },
  {
   "cell_type": "code",
   "execution_count": 4,
   "metadata": {},
   "outputs": [
    {
     "name": "stdout",
     "output_type": "stream",
     "text": [
      "[7, 6, 6, 4]\n"
     ]
    }
   ],
   "source": [
    "result = list(map(len,names))\n",
    "print(result)"
   ]
  },
  {
   "cell_type": "code",
   "execution_count": 11,
   "metadata": {},
   "outputs": [
    {
     "name": "stdout",
     "output_type": "stream",
     "text": [
      "<map object at 0x000001D126661A90>\n"
     ]
    }
   ],
   "source": [
    "cities = [\n",
    "    (\"İstanbul\",25),\n",
    "    (\"İzmir\",30),\n",
    "    (\"Ankara\",22),\n",
    "    (\"Antalya\",32)\n",
    "]\n",
    "c_to_f = lambda city:(city[0],(city[1] * (9/5)) + 32)\n",
    "cities_f = map(c_to_f,cities)\n",
    "print(cities_f)"
   ]
  },
  {
   "cell_type": "markdown",
   "metadata": {},
   "source": [
    "# filter() Fonksiyonu\n",
    "- Adından da anlaşılabileceği gibi bir filtreleme yapan fonksiyondur.\n",
    "- Filter (func, iter) şeklinde kullanılır, iter öğelerini true veya false döndüren bir filtre işlevi olarak kullanır. Func (x) işlevinin doğru olduğu tüm x öğelerini içeren yeni bir liste döndürülür."
   ]
  },
  {
   "cell_type": "code",
   "execution_count": 16,
   "metadata": {},
   "outputs": [
    {
     "name": "stdout",
     "output_type": "stream",
     "text": [
      "[18, 24, 45]\n",
      "[18, 24, 45]\n"
     ]
    }
   ],
   "source": [
    "yaslar = [5,12,18,24,45]\n",
    "def yetiskinMi(x):\n",
    "    if x < 18:\n",
    "        return False\n",
    "    else:\n",
    "        return True\n",
    "\n",
    "sonuc=list(filter(yetiskinMi,yaslar))\n",
    "sonuc2 = list(filter(lambda x: x>=18, yaslar))\n",
    "print(sonuc)\n",
    "print(sonuc2)"
   ]
  },
  {
   "cell_type": "code",
   "execution_count": 17,
   "metadata": {},
   "outputs": [
    {
     "name": "stdout",
     "output_type": "stream",
     "text": [
      "(10, 12)\n"
     ]
    }
   ],
   "source": [
    "numbers = [5,10,12,17,11]\n",
    "newNumbers = tuple(filter(lambda num:num%2 == 0,numbers))\n",
    "print(newNumbers)"
   ]
  },
  {
   "cell_type": "code",
   "execution_count": 18,
   "metadata": {},
   "outputs": [
    {
     "name": "stdout",
     "output_type": "stream",
     "text": [
      "['Berkcan']\n"
     ]
    }
   ],
   "source": [
    "isimler = [\"Berkcan\",\"Şevval\",\"Nurana\",\"Mete\"]\n",
    "isimFiltrele = list(filter(lambda n: n[0] == \"B\",isimler))\n",
    "print(isimFiltrele)\n"
   ]
  },
  {
   "cell_type": "markdown",
   "metadata": {},
   "source": [
    "### zip() Fonksiyonu\n",
    "zip() fonksiyonu, iki dizisel elemanın öğelerini birbirleriyle eşleştirirerek bir zip objesi oluşturur."
   ]
  },
  {
   "cell_type": "code",
   "execution_count": 19,
   "metadata": {},
   "outputs": [
    {
     "name": "stdout",
     "output_type": "stream",
     "text": [
      "[('Ferrari', 'Kırmızı', 2020), ('Aston Martin', 'Mavi', 2019), ('Porsche', 'Siyah', 2018)]\n"
     ]
    }
   ],
   "source": [
    "cars = [\"Ferrari\",\"Aston Martin\",\"Porsche\"]\n",
    "colors = [\"Kırmızı\",\"Mavi\",\"Siyah\"]\n",
    "years =[2020,2019,2018]\n",
    "zipped = list(zip(cars,colors,years))\n",
    "print(zipped)"
   ]
  },
  {
   "cell_type": "markdown",
   "metadata": {},
   "source": [
    "### any ve all Fonksiyonu\n",
    "- all() fonksiyonunun görevi, bir dizi içinde bulunan bütün değerler True ise True değeri, eğer bu değerlerden herhangi biri False ise de False değeri döndürmektir.\n",
    "- any() fonksiyonunun görevi de, bir dizi içindeki bütün değerlerden en az biri True ise True çıktısı vermektir."
   ]
  },
  {
   "cell_type": "code",
   "execution_count": 20,
   "metadata": {},
   "outputs": [
    {
     "name": "stdout",
     "output_type": "stream",
     "text": [
      "True\n"
     ]
    }
   ],
   "source": [
    "sonuc = all([\"True\",\"True\",\"True\"])\n",
    "print(sonuc)"
   ]
  },
  {
   "cell_type": "code",
   "execution_count": 21,
   "metadata": {},
   "outputs": [
    {
     "name": "stdout",
     "output_type": "stream",
     "text": [
      "True\n"
     ]
    }
   ],
   "source": [
    "sonuc = all([\"True\",\"False\",\"True\"])\n",
    "print(sonuc)"
   ]
  },
  {
   "cell_type": "code",
   "execution_count": 22,
   "metadata": {},
   "outputs": [
    {
     "name": "stdout",
     "output_type": "stream",
     "text": [
      "True\n",
      "True\n"
     ]
    }
   ],
   "source": [
    "sayilar = [1,3,6,8,9,10]\n",
    "sonuc1 = all([bool(sayi) for sayi in sayilar])\n",
    "sonuc2 = any([bool(sayi) for sayi in sayilar])\n",
    "print(sonuc1)\n",
    "print(sonuc2)"
   ]
  },
  {
   "cell_type": "markdown",
   "metadata": {},
   "source": [
    "### sorted() Metodu\n",
    "- Dizi içindeki öğeleri belirli bir ölçüte göre sıraya dizmemizi sağlar."
   ]
  },
  {
   "cell_type": "code",
   "execution_count": 23,
   "metadata": {},
   "outputs": [
    {
     "name": "stdout",
     "output_type": "stream",
     "text": [
      "['armut', 'badem', 'elma', 'kiraz']\n"
     ]
    }
   ],
   "source": [
    "print(sorted(('elma', 'armut', 'kiraz', 'badem')))"
   ]
  },
  {
   "cell_type": "code",
   "execution_count": 24,
   "metadata": {},
   "outputs": [
    {
     "name": "stdout",
     "output_type": "stream",
     "text": [
      "[1, 5, 7, 45, 53, 67, 97]\n"
     ]
    }
   ],
   "source": [
    "sayiListesi = [1,53,45,67,97,5,7]\n",
    "print(sorted(sayiListesi))"
   ]
  },
  {
   "cell_type": "code",
   "execution_count": 26,
   "metadata": {},
   "outputs": [
    {
     "name": "stdout",
     "output_type": "stream",
     "text": [
      "[{'title': 'Audi A4', 'price': 400000}, {'title': 'BMW 520', 'price': 700000}, {'title': 'Mercedes E', 'price': 900000}]\n"
     ]
    }
   ],
   "source": [
    "araclar = [\n",
    "    {\"title\":\"Audi A4\",\"price\":400000},\n",
    "    {\"title\":\"Mercedes E\",\"price\":900000},\n",
    "    {\"title\":\"BMW 520\",\"price\":700000}\n",
    "]\n",
    "print(sorted(araclar,key=lambda arac:arac[\"price\"]))\n"
   ]
  },
  {
   "cell_type": "markdown",
   "metadata": {},
   "source": [
    "### min ve max fonksiyonu\n",
    "- max() fonksiyonu bir dizi içindeki en büyük öğeyi bulur. \n",
    "- min() fonksiyonu da bir dizi içindeki en küçük öğeyi bulur."
   ]
  },
  {
   "cell_type": "code",
   "execution_count": 27,
   "metadata": {},
   "outputs": [
    {
     "name": "stdout",
     "output_type": "stream",
     "text": [
      "1\n",
      "89\n"
     ]
    }
   ],
   "source": [
    "sayilar3 = [1,5,7,45,25,89]\n",
    "print(min(sayilar3))\n",
    "print(max(sayilar3))"
   ]
  },
  {
   "cell_type": "code",
   "execution_count": 28,
   "metadata": {},
   "outputs": [
    {
     "name": "stdout",
     "output_type": "stream",
     "text": [
      "a\n",
      "v\n"
     ]
    }
   ],
   "source": [
    "harfler = ['a','v','h','s']\n",
    "print(min(harfler))\n",
    "print(max(harfler))"
   ]
  },
  {
   "cell_type": "markdown",
   "metadata": {},
   "source": [
    "### abs()\n",
    "abs() fonksiyonunu bir sayının mutlak değerini elde etmek için kullanılır."
   ]
  },
  {
   "cell_type": "code",
   "execution_count": 29,
   "metadata": {},
   "outputs": [
    {
     "data": {
      "text/plain": [
       "20"
      ]
     },
     "execution_count": 29,
     "metadata": {},
     "output_type": "execute_result"
    }
   ],
   "source": [
    "abs(-20)"
   ]
  },
  {
   "cell_type": "markdown",
   "metadata": {},
   "source": [
    "### sum()\n",
    "Bu fonksiyonun temel görevi, bir dizi içindeki değerlerin toplamını bulmaktır."
   ]
  },
  {
   "cell_type": "code",
   "execution_count": 30,
   "metadata": {},
   "outputs": [
    {
     "name": "stdout",
     "output_type": "stream",
     "text": [
      "6\n"
     ]
    }
   ],
   "source": [
    "l = [1, 2, 3]\n",
    "print(sum(l))"
   ]
  },
  {
   "cell_type": "markdown",
   "metadata": {},
   "source": [
    "### round() fonksiyonu \n",
    "bir sayıyı belli ölçütlere göre yukarı veya aşağı doğru yuvarlamamızı sağlar\n"
   ]
  },
  {
   "cell_type": "code",
   "execution_count": 31,
   "metadata": {},
   "outputs": [
    {
     "name": "stdout",
     "output_type": "stream",
     "text": [
      "12\n",
      "13\n",
      "2\n"
     ]
    }
   ],
   "source": [
    "print(round(12.4))\n",
    "print(round(12.8))\n",
    "print(round(1.5))"
   ]
  }
 ],
 "metadata": {
  "interpreter": {
   "hash": "96f2b75f092ed1a0519a47617957f87ef8220e3e362917a5d4c2f9cc419b7475"
  },
  "kernelspec": {
   "display_name": "Python 3.9.6 64-bit",
   "language": "python",
   "name": "python3"
  },
  "language_info": {
   "codemirror_mode": {
    "name": "ipython",
    "version": 3
   },
   "file_extension": ".py",
   "mimetype": "text/x-python",
   "name": "python",
   "nbconvert_exporter": "python",
   "pygments_lexer": "ipython3",
   "version": "3.9.6"
  },
  "orig_nbformat": 4
 },
 "nbformat": 4,
 "nbformat_minor": 2
}
