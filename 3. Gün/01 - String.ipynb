{
 "cells": [
  {
   "cell_type": "markdown",
   "id": "edb261c9",
   "metadata": {},
   "source": [
    "# String"
   ]
  },
  {
   "cell_type": "markdown",
   "id": "8cf8ec26",
   "metadata": {},
   "source": [
    "- Metinsel ifadelerdir.\n",
    "- Metinsel ifadeler \" \", ' ', \"\"\" \"\"\" arasına yazılması gerekir.\n",
    "- Metinsel ifadelerde eğer tek tırnak ile başlandıysa tek tırnak ile devam edilmesi gerekmektedir.\n",
    "- Metinsel ifadelerin index ile ulaşma imkanı sağlar. Yazılımda index 0'dan başlar. Mesela \"Merhaba Dünya\" metninin 2. indexinde r vardır."
   ]
  },
  {
   "cell_type": "code",
   "execution_count": 1,
   "id": "833d56d0",
   "metadata": {},
   "outputs": [
    {
     "name": "stdout",
     "output_type": "stream",
     "text": [
      "Merhaba Dünya\n"
     ]
    }
   ],
   "source": [
    "print(\"Merhaba Dünya\")"
   ]
  },
  {
   "cell_type": "code",
   "execution_count": 2,
   "id": "a133779d",
   "metadata": {},
   "outputs": [
    {
     "name": "stdout",
     "output_type": "stream",
     "text": [
      "Merhaba\n",
      "<class 'str'>\n",
      "r\n"
     ]
    }
   ],
   "source": [
    "x = \"Merhaba\"\n",
    "print(x)\n",
    "print(type(x))\n",
    "print(x[2])"
   ]
  },
  {
   "cell_type": "markdown",
   "id": "9693b775",
   "metadata": {},
   "source": [
    "# String Fonksiyonları"
   ]
  },
  {
   "cell_type": "markdown",
   "id": "505f1b21",
   "metadata": {},
   "source": [
    "- İstenilen indexler arasında gösterim sağlanabilir."
   ]
  },
  {
   "cell_type": "code",
   "execution_count": 3,
   "id": "b37fe850",
   "metadata": {},
   "outputs": [
    {
     "name": "stdout",
     "output_type": "stream",
     "text": [
      "rha\n"
     ]
    }
   ],
   "source": [
    "print(x[2:5]) #2. indexten 5. indexe kadar bana göster demektir."
   ]
  },
  {
   "cell_type": "code",
   "execution_count": 4,
   "id": "2f26fd58",
   "metadata": {},
   "outputs": [
    {
     "name": "stdout",
     "output_type": "stream",
     "text": [
      "rhaba\n"
     ]
    }
   ],
   "source": [
    "print(x[2:]) #2. indexten itibaren her şeyi yaz demektir."
   ]
  },
  {
   "cell_type": "code",
   "execution_count": 5,
   "id": "daa60310",
   "metadata": {},
   "outputs": [
    {
     "name": "stdout",
     "output_type": "stream",
     "text": [
      "Me\n"
     ]
    }
   ],
   "source": [
    "print(x[:2]) #Baştan 2. indexe kadar göster"
   ]
  },
  {
   "cell_type": "code",
   "execution_count": 6,
   "id": "9f141d2f",
   "metadata": {},
   "outputs": [
    {
     "name": "stdout",
     "output_type": "stream",
     "text": [
      "abahreM\n"
     ]
    }
   ],
   "source": [
    "print(x[::-1]) #tersten yaz demektir."
   ]
  },
  {
   "cell_type": "markdown",
   "id": "52302940",
   "metadata": {},
   "source": [
    "## len Metodu\n",
    "- Bir metnin kaç karakterden oluştuğunu verir."
   ]
  },
  {
   "cell_type": "code",
   "execution_count": 7,
   "id": "d5066f8a",
   "metadata": {},
   "outputs": [
    {
     "name": "stdout",
     "output_type": "stream",
     "text": [
      "7\n"
     ]
    }
   ],
   "source": [
    "print(len(x))"
   ]
  },
  {
   "cell_type": "code",
   "execution_count": 8,
   "id": "3287547a",
   "metadata": {},
   "outputs": [
    {
     "name": "stdout",
     "output_type": "stream",
     "text": [
      "n\n"
     ]
    }
   ],
   "source": [
    "y = \"Merhaba Berkcan\"\n",
    "print(y[len(y)-1:len(y)])"
   ]
  },
  {
   "cell_type": "markdown",
   "id": "63351217",
   "metadata": {},
   "source": [
    "## upper() Metodu\n",
    "- Metinsel ifade içinde kullandığımız her bir karakteri büyük harfe çevirir.\n"
   ]
  },
  {
   "cell_type": "code",
   "execution_count": 9,
   "id": "490db44b",
   "metadata": {},
   "outputs": [
    {
     "name": "stdout",
     "output_type": "stream",
     "text": [
      "PYTHON ÖĞRENIYORUM\n"
     ]
    }
   ],
   "source": [
    "mesaj = \"python öğreniyorum\"\n",
    "print(mesaj.upper())"
   ]
  },
  {
   "cell_type": "markdown",
   "id": "a31d1b12",
   "metadata": {},
   "source": [
    "## lower() Metodu\n",
    "- Metinsel ifade içinde kullandığımız her bir karakteri küçük harfe çevirir."
   ]
  },
  {
   "cell_type": "code",
   "execution_count": 10,
   "id": "44abf011",
   "metadata": {},
   "outputs": [
    {
     "name": "stdout",
     "output_type": "stream",
     "text": [
      "python öğreniyorum\n"
     ]
    }
   ],
   "source": [
    "print(mesaj.lower())"
   ]
  },
  {
   "cell_type": "markdown",
   "id": "8800ce85",
   "metadata": {},
   "source": [
    "## capitalize() Metodu\n",
    "- Bir string ifadenin ilk harfini büyütür."
   ]
  },
  {
   "cell_type": "code",
   "execution_count": 11,
   "id": "3a37c3d1",
   "metadata": {},
   "outputs": [
    {
     "name": "stdout",
     "output_type": "stream",
     "text": [
      "Berkcan gümüşışık\n"
     ]
    }
   ],
   "source": [
    "isim = \"berkcan gümüşışık\"\n",
    "print(isim.capitalize())"
   ]
  },
  {
   "cell_type": "markdown",
   "id": "b999d54b",
   "metadata": {},
   "source": [
    "## swapcase() Metodu\n",
    "- Metin içindeki küçük karaterleri büyüğe; büyük karakterleri küçüğe çevirir."
   ]
  },
  {
   "cell_type": "code",
   "execution_count": 13,
   "id": "44bab6f7",
   "metadata": {},
   "outputs": [
    {
     "name": "stdout",
     "output_type": "stream",
     "text": [
      "bERKCAN\n"
     ]
    }
   ],
   "source": [
    "isim = \"Berkcan\"\n",
    "print(isim.swapcase())"
   ]
  },
  {
   "cell_type": "markdown",
   "id": "1dcc9f61",
   "metadata": {},
   "source": [
    "## replace() Metodu\n",
    "- Karakter dizisi (string) veri tipindeki bir değişkeni güncellemek için kullanılır."
   ]
  },
  {
   "cell_type": "code",
   "execution_count": 14,
   "id": "3aaecc64",
   "metadata": {},
   "outputs": [
    {
     "name": "stdout",
     "output_type": "stream",
     "text": [
      "python oğreniyorum\n"
     ]
    }
   ],
   "source": [
    "print(mesaj.replace(\"ö\",\"o\"))"
   ]
  },
  {
   "cell_type": "code",
   "execution_count": 15,
   "id": "d170f68a",
   "metadata": {},
   "outputs": [
    {
     "name": "stdout",
     "output_type": "stream",
     "text": [
      "python ögreniyorum\n"
     ]
    }
   ],
   "source": [
    "print(mesaj.replace(\"ğ\",\"g\"))"
   ]
  },
  {
   "cell_type": "markdown",
   "id": "e8a78324",
   "metadata": {},
   "source": [
    "## split() Metodu\n",
    "- Karakter dizisi (string) veri tipindeki değişkeni belirtilen karaktere ya da bir ifadeye göre parçalar.\n"
   ]
  },
  {
   "cell_type": "code",
   "execution_count": 17,
   "id": "8f098e31",
   "metadata": {},
   "outputs": [
    {
     "name": "stdout",
     "output_type": "stream",
     "text": [
      "['Berkcan', 'Gümüşışık', '22', 'Ankara']\n"
     ]
    }
   ],
   "source": [
    "bilgi1 = \"Berkcan Gümüşışık 22 Ankara\"\n",
    "print(bilgi1.split(\" \"))"
   ]
  },
  {
   "cell_type": "code",
   "execution_count": 16,
   "id": "540e1e0c",
   "metadata": {},
   "outputs": [
    {
     "name": "stdout",
     "output_type": "stream",
     "text": [
      "['İbrahim ', ' Gümüşışık', ' 29 ', ' Ankara']\n"
     ]
    }
   ],
   "source": [
    "bilgi2 = \"İbrahim ; Gümüşışık; 29 ; Ankara\"\n",
    "print(bilgi2.split(\";\"))"
   ]
  },
  {
   "cell_type": "code",
   "execution_count": 18,
   "id": "2b3e2400",
   "metadata": {},
   "outputs": [
    {
     "name": "stdout",
     "output_type": "stream",
     "text": [
      "Adı: Berkcan\n"
     ]
    }
   ],
   "source": [
    "print(\"Adı: \" + bilgi1.split(\" \")[0])"
   ]
  },
  {
   "cell_type": "markdown",
   "id": "373d5928",
   "metadata": {},
   "source": [
    "## strip() Metodu\n",
    "- Metinsel ifadenin başından ve sonundan siler.\n",
    "- Metod içindeki silinecek karakterler kısmının boş bırakılması durumunda strip metodu boşluk karakterini siler."
   ]
  },
  {
   "cell_type": "code",
   "execution_count": 20,
   "id": "7da996cd",
   "metadata": {
    "scrolled": true
   },
   "outputs": [
    {
     "name": "stdout",
     "output_type": "stream",
     "text": [
      "Hello World\n"
     ]
    }
   ],
   "source": [
    "metin = \" Hello World \"\n",
    "print(metin.strip())"
   ]
  },
  {
   "cell_type": "markdown",
   "id": "349d076a",
   "metadata": {},
   "source": [
    "## startswith Metodu\n",
    "- Bir dizinin bir şeyle başlayıp başlamadığının kontrolünü sağlar true ya da false değer döndürür.\n",
    "\n",
    "## endswith Metodu\n",
    "- Bir dizinin bir şeyle bitip bitmediğinin kontrolünü sağlar true ya da false değer döndürür."
   ]
  },
  {
   "cell_type": "code",
   "execution_count": 21,
   "id": "5de73f87",
   "metadata": {
    "scrolled": false
   },
   "outputs": [
    {
     "name": "stdout",
     "output_type": "stream",
     "text": [
      "True\n",
      "False\n"
     ]
    }
   ],
   "source": [
    "print(metin.startswith(\" Hel\"))\n",
    "print(metin.endswith(\"lo\"))"
   ]
  },
  {
   "cell_type": "markdown",
   "id": "850b75dd",
   "metadata": {},
   "source": [
    "## find() Metodu\n",
    "- Bir ifadenin string içinde kaçıncı indexten itibaren başladığını verir. Bulamadıysa -1 değerini döndürür.\n",
    "\n",
    "## index() Metodu\n",
    "- Bir ifadenin string içinde kaçıncı indexten itibaren başladığını verir. Bulamadıysa ValueError hatasını döndürür."
   ]
  },
  {
   "cell_type": "code",
   "execution_count": 22,
   "id": "9a04f008",
   "metadata": {},
   "outputs": [
    {
     "name": "stdout",
     "output_type": "stream",
     "text": [
      "4\n"
     ]
    }
   ],
   "source": [
    "print(metin.find(\"lo\"))"
   ]
  },
  {
   "cell_type": "markdown",
   "id": "a223c0d0",
   "metadata": {},
   "source": [
    "## isalpha() Metodu\n",
    "- Bir ifadenin alfabetik olup olmadığını söyler. \n",
    "- True ya da false değer döndürür.\n",
    "\n",
    "## isdigit() Metodu\n",
    "- Bir ifadenin rakamlarının sıralı olup olmadığını söyler. \n",
    "- True ya da false değer döndürür."
   ]
  },
  {
   "cell_type": "code",
   "execution_count": 50,
   "id": "b4ffaaea",
   "metadata": {},
   "outputs": [
    {
     "name": "stdout",
     "output_type": "stream",
     "text": [
      "False\n",
      "True\n"
     ]
    }
   ],
   "source": [
    "print(metin.isalpha())\n",
    "print(\"123\".isdigit())"
   ]
  },
  {
   "cell_type": "markdown",
   "id": "145c65a3",
   "metadata": {},
   "source": [
    "## Formatlama\n",
    "- Bir değişkeni ismin yerine koymayı sağlar."
   ]
  },
  {
   "cell_type": "code",
   "execution_count": 23,
   "id": "a40d1da3",
   "metadata": {},
   "outputs": [
    {
     "name": "stdout",
     "output_type": "stream",
     "text": [
      "Benim adım Berkcan\n",
      "Benim adım Berkcan\n",
      "Benim adım Berkcan\n"
     ]
    }
   ],
   "source": [
    "adim = \"Berkcan\"\n",
    "print(\"Benim adım {}\".format(adim))\n",
    "print(f\"Benim adım {adim}\")\n",
    "print(\"Benim adım \" + adim)"
   ]
  },
  {
   "cell_type": "markdown",
   "id": "3165d362",
   "metadata": {},
   "source": [
    "# String Toplama "
   ]
  },
  {
   "cell_type": "code",
   "execution_count": 24,
   "id": "2e67a82d",
   "metadata": {},
   "outputs": [
    {
     "name": "stdout",
     "output_type": "stream",
     "text": [
      "Benim adım Berkcan soyadım Gümüşışık 22 yaşındayım.\n",
      "Gazi Bilgisayar ve Öğretim Teknolojileri 3. sınıf öğrencisiyim. Yazılımla ilgileniyorum. Kitap okumaktan hoşlanırım.\n"
     ]
    }
   ],
   "source": [
    "ad = \"Berkcan\"\n",
    "soyad = \"Gümüşışık\"\n",
    "yas = \"22\"\n",
    "hakkimda = \"Gazi Bilgisayar ve Öğretim Teknolojileri 3. sınıf öğrencisiyim. Yazılımla ilgileniyorum. Kitap okumaktan hoşlanırım.\"\n",
    "print(\"Benim adım \" + ad + \" soyadım \" + soyad + \" \" + yas + \" yaşındayım.\\n\"+ hakkimda)"
   ]
  },
  {
   "cell_type": "code",
   "execution_count": 25,
   "id": "6a17bffd",
   "metadata": {},
   "outputs": [
    {
     "name": "stdout",
     "output_type": "stream",
     "text": [
      "510\n"
     ]
    }
   ],
   "source": [
    "j = \"5\"\n",
    "l = \"10\"\n",
    "print(j + l)"
   ]
  }
 ],
 "metadata": {
  "kernelspec": {
   "display_name": "Python 3.8.8 ('base')",
   "language": "python",
   "name": "python3"
  },
  "language_info": {
   "codemirror_mode": {
    "name": "ipython",
    "version": 3
   },
   "file_extension": ".py",
   "mimetype": "text/x-python",
   "name": "python",
   "nbconvert_exporter": "python",
   "pygments_lexer": "ipython3",
   "version": "3.8.8"
  },
  "vscode": {
   "interpreter": {
    "hash": "434691f1ecaf466ba8ee38280735dd626cdf07e55467611e3966387a302373c5"
   }
  }
 },
 "nbformat": 4,
 "nbformat_minor": 5
}
