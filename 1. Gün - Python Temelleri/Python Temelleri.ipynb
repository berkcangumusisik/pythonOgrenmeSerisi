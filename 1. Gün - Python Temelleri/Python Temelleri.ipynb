{
 "cells": [
  {
   "cell_type": "markdown",
   "id": "df65c57c",
   "metadata": {},
   "source": [
    "# PYTHON NEDİR\n",
    "Tahmin edebileceğiMiz gibi Python (C, C++, Perl, Ruby ve benzerleri gibi) bir programlama dilidir ve tıpkı öteki programlama dilleri gibi, bilgisayara hükmetmenizi sağlar.\n",
    "\n",
    "Python bir programlama dilidir. Üstelik pek çok dile kıyasla öğrenmesi kolay bir programlama dilidir. Bu yüzden, eğer daha önce hiç programlama deneyiminiz olmamışsa, programlama maceranıza Python’la başlamayı tercih edebilirsiniz.\n"
   ]
  },
  {
   "cell_type": "markdown",
   "id": "c8205fb3",
   "metadata": {},
   "source": [
    "# PYTHON TARİHÇESİ"
   ]
  },
  {
   "cell_type": "markdown",
   "id": "54e76a7f",
   "metadata": {},
   "source": [
    "- Geliştirilmeye 1990 yılında Guido van Rossum tarafından Amsterdam'da başlanmıştır.\n",
    "- İsmini birçok kişi yılandan aldığını sansada Guido van Rossum'un sevdiği, Monty Python adlı altı kişilik bir İngiliz komedi grubunun Monty Python's Flying Circus adlı gösterisinden almıştır.\n",
    "- 1994 yılında Python 1.0 kullanıma sunuldu.\n",
    "- 2000 yılında Python 2.0 sürümü kullanıma sunuldu.\n",
    "- 2008 yılında Python 3.0 sürümü kullanıma sunuldu.\n",
    "\n",
    "<img src=\"https://ioturkiye.com/wp-content/uploads/2020/11/maxresdefault.jpg\"/>\n"
   ]
  },
  {
   "cell_type": "markdown",
   "id": "033b175c",
   "metadata": {},
   "source": [
    "# NEDEN PYTHON? "
   ]
  },
  {
   "cell_type": "markdown",
   "id": "d526d051",
   "metadata": {},
   "source": [
    "\n",
    "<img src=\"https://stickker.net/wp-content/uploads/2015/09/python.png\" width=\"30%\"/>\n",
    "\n",
    "- Genel amaçlı bir dildir.\n",
    "- Açık kaynak kodludur.\n",
    "- Yorumlanabilir bir dildir.\n",
    "- Yüksek seviyeli bir dildir.\n",
    "- Dinamik tip tanımlamalı bir dildir.\n",
    "- Birçok platformda çalışma imkanı sunar. Grafik , veritabanı , oyun yapay zeka vb\n",
    "- Modüler\n",
    "- Nesne yönelimlidir.\n",
    "- Öğrenmesi kolaydır.\n"
   ]
  },
  {
   "cell_type": "markdown",
   "id": "4c375662",
   "metadata": {},
   "source": [
    "Pythonu https://www.python.org/downloads/  sitesinden rahatlıklar kurabilirsiniz."
   ]
  },
  {
   "cell_type": "markdown",
   "id": "cf12e013",
   "metadata": {},
   "source": [
    "# PYTHON KODLARKEN DİKKAT EDİLECEKLER"
   ]
  },
  {
   "cell_type": "markdown",
   "id": "95fb97e2",
   "metadata": {},
   "source": [
    "- Python kodları yukarıdan aşağıya ve soldan sağa doğru okunur.\n",
    "- Büyük küçük harf duyarlı bir dildir.\n",
    "- Her şey nesnedir.\n",
    "- Girinti boşluğu 4 karakterdir.\n",
    "- Pythonda satır sonlarına ; konmaz.\n",
    "- Python kodlarımızı .py uzantılı dosyalarda saklarız. Eğer kodlarımızı Jupyter Notebook üzerinde tutacak olursak uzantısı .jpnyb olarak kullanırız\n"
   ]
  },
  {
   "cell_type": "markdown",
   "id": "4d64fbc9",
   "metadata": {},
   "source": [
    "# WINDOWS'A PYTHON NASIL KURULUR?\n",
    "Windows sürümlerinin hiçbirinde Python kurulu olarak gelmez. O yüzden Windows kullanıcıları, Python’ı sitesinden indirip kuracak.\n",
    "\n",
    "Bunun için öncelikle http://www.python.org/downloads adresine gidiyoruz.\n",
    "\n",
    "Bu adrese gittiğinizde, üzerinde ‘Download Python 3.7.0’ yazan bir düğme göreceksiniz. Daha önce de söylediğimiz gibi, eğer bir Python sürüm numarası ‘2’ ile başlıyorsa o sürüm 2.x serisine, yok eğer ‘3’ ile başlıyorsa 3.x serisine aittir. Dolayısıyla bu düğme Python3 sürümünü içerir.\n",
    "\n",
    "Bu düğmeye tıklıyoruz. Bu düğmeye tıkladığınızda bilgisayarınıza .exe uzantılı kurulum dosyası inecek. Bu dosyaya çift tıklayarak kurulum programını başlatabilirsiniz.\n",
    "\n",
    "Kurulum dosyasına çift tıkladığınızda karşınıza ilk gelen ekranda, pencerenin alt tarafında şu kutucukları göreceksiniz:\n",
    "\n",
    "Install launcher for all users (recommended)\n",
    "\n",
    "Add Python 3.9 to PATH\n",
    "\n",
    "Burada ilk kutucuk zaten seçilidir. Bunu bu şekilde bırakabilirsiniz. İkinci kutucuk ise Python’ı yola eklememizi, böylece yalnızca python komutu vererek Python’ı başlatabilmemizi sağlayacak. O yüzden oradaki ikinci kutucuğu da işaretliyoruz.\n",
    "\n",
    "Aynı pencerenin üst tarafında ise şu seçenekleri göreceksiniz:\n",
    "\n",
    "-> Install Now\n",
    "\n",
    "-> Customize Installation\n",
    "\n",
    "Burada ‘Install Now’ yazan kısma tıklayarak kurulumu başlatıyoruz.\n",
    "\n",
    "Eğer Python’ın bilgisayarda nereye kurulacağını ve başka birtakım kurulum özelliklerini değiştirmek istiyorsanız ‘Customize Installation’ yazılı kısma tıklayabilirsiniz. Ben bu kitapta sizin ‘Install Now’ yazan kısma tıklayarak kurulum yaptığınızı varsayacağım."
   ]
  },
  {
   "cell_type": "code",
   "execution_count": null,
   "id": "c2aade9e",
   "metadata": {},
   "outputs": [],
   "source": []
  }
 ],
 "metadata": {
  "kernelspec": {
   "display_name": "Python 3",
   "language": "python",
   "name": "python3"
  },
  "language_info": {
   "codemirror_mode": {
    "name": "ipython",
    "version": 3
   },
   "file_extension": ".py",
   "mimetype": "text/x-python",
   "name": "python",
   "nbconvert_exporter": "python",
   "pygments_lexer": "ipython3",
   "version": "3.8.8"
  }
 },
 "nbformat": 4,
 "nbformat_minor": 5
}
