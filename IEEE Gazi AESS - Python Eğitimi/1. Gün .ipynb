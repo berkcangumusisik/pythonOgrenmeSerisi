{
 "cells": [
  {
   "cell_type": "markdown",
   "id": "e48726bb",
   "metadata": {},
   "source": [
    " - Python yukarıdan aşağıya doğru kodları okur.\n",
    "# Değişken\n",
    "- Verileri geçici olarak saklamayı sağlar.\n",
    "- RAM'de saklanır."
   ]
  },
  {
   "cell_type": "markdown",
   "id": "2c98bbc8",
   "metadata": {},
   "source": [
    "# Veri Türleri\n",
    "\n",
    "- Python veri türünü istemez. Kendi şeklini kendisi alır\n",
    "\n",
    "## 1. String\n",
    "- Metinler, harfler, kelimeler, cümleler string veri tipidir.\n",
    "- Tırnak içerisinde yazılır.\n",
    "- \"Berkcan\" , \"a\" gibi metinsel ifadeler örnek verilebilir.\n",
    "\n",
    "## 2. Integer\n",
    "- Tam sayıları ifade eder.\n",
    "- Örnek olarak 5, 15, 0, -32 verilebilir.\n",
    "\n",
    "## 3. Float\n",
    "- Ondalıklı sayılardır.\n",
    "- 5.3, 15.2, 0.8, -22.6"
   ]
  },
  {
   "cell_type": "markdown",
   "id": "32c3d6f6",
   "metadata": {},
   "source": [
    "# print() Komutu\n",
    "- Ekrana çıktı vermeyi sağlar."
   ]
  },
  {
   "cell_type": "code",
   "execution_count": 1,
   "id": "eb8d545e",
   "metadata": {},
   "outputs": [
    {
     "name": "stdout",
     "output_type": "stream",
     "text": [
      "Berkcan\n"
     ]
    }
   ],
   "source": [
    "a = \"Berkcan\" \n",
    "print(a) "
   ]
  },
  {
   "cell_type": "code",
   "execution_count": 4,
   "id": "9716dd66",
   "metadata": {},
   "outputs": [
    {
     "name": "stdout",
     "output_type": "stream",
     "text": [
      "13\n",
      "13\n"
     ]
    }
   ],
   "source": [
    "b = 13\n",
    "print(b)\n",
    "\n",
    "c = \"13\"\n",
    "print(c)\n",
    "\n",
    "# b integer olarak algılanır c tırnak içinde yazıldığı için string ifade olarak algılar"
   ]
  },
  {
   "cell_type": "code",
   "execution_count": 5,
   "id": "9fbfa38b",
   "metadata": {},
   "outputs": [
    {
     "name": "stdout",
     "output_type": "stream",
     "text": [
      "Merhaba\n"
     ]
    }
   ],
   "source": [
    "berkcan = \"Merhaba\"\n",
    "print(berkcan)"
   ]
  },
  {
   "cell_type": "markdown",
   "id": "51cf2489",
   "metadata": {},
   "source": [
    "# type() komutu \n",
    "- Verinin tipi string, integer, float ya da boolean olduğunu verir."
   ]
  },
  {
   "cell_type": "code",
   "execution_count": 6,
   "id": "e4e524fc",
   "metadata": {},
   "outputs": [
    {
     "name": "stdout",
     "output_type": "stream",
     "text": [
      "<class 'str'>\n",
      "<class 'int'>\n",
      "<class 'str'>\n"
     ]
    }
   ],
   "source": [
    "print(type(a))\n",
    "print(type(b))\n",
    "print(type(c))"
   ]
  },
  {
   "cell_type": "code",
   "execution_count": 7,
   "id": "ec8e15be",
   "metadata": {},
   "outputs": [
    {
     "ename": "TypeError",
     "evalue": "unsupported operand type(s) for +: 'int' and 'str'",
     "output_type": "error",
     "traceback": [
      "\u001b[1;31m---------------------------------------------------------------------------\u001b[0m",
      "\u001b[1;31mTypeError\u001b[0m                                 Traceback (most recent call last)",
      "\u001b[1;32m<ipython-input-7-9686e8e233c6>\u001b[0m in \u001b[0;36m<module>\u001b[1;34m\u001b[0m\n\u001b[1;32m----> 1\u001b[1;33m \u001b[0msonuc\u001b[0m \u001b[1;33m=\u001b[0m \u001b[0mb\u001b[0m \u001b[1;33m+\u001b[0m \u001b[0mc\u001b[0m\u001b[1;33m\u001b[0m\u001b[1;33m\u001b[0m\u001b[0m\n\u001b[0m\u001b[0;32m      2\u001b[0m \u001b[0mprint\u001b[0m\u001b[1;33m(\u001b[0m\u001b[0msonuc\u001b[0m\u001b[1;33m)\u001b[0m\u001b[1;33m\u001b[0m\u001b[1;33m\u001b[0m\u001b[0m\n",
      "\u001b[1;31mTypeError\u001b[0m: unsupported operand type(s) for +: 'int' and 'str'"
     ]
    }
   ],
   "source": [
    "# string ve integer veri tipi toplanamaz. Sadece str ile str birleştirebilirsin\n",
    "# integer ile integer toplanabilir.\n",
    "sonuc = b + c\n",
    "print(sonuc)"
   ]
  },
  {
   "cell_type": "code",
   "execution_count": 8,
   "id": "aa32eb9a",
   "metadata": {},
   "outputs": [
    {
     "name": "stdout",
     "output_type": "stream",
     "text": [
      "Berkcan13\n"
     ]
    }
   ],
   "source": [
    "# toplamada string olanlar birleştirilir.\n",
    "sonuc = a+c\n",
    "print(sonuc)"
   ]
  },
  {
   "cell_type": "code",
   "execution_count": 10,
   "id": "45572f04",
   "metadata": {},
   "outputs": [
    {
     "name": "stdout",
     "output_type": "stream",
     "text": [
      "23\n"
     ]
    }
   ],
   "source": [
    "#iki integer ifade olunca aritmetik olarak toplama yapar.\n",
    "d = 10\n",
    "sonuc = b+ d\n",
    "print(sonuc)"
   ]
  },
  {
   "cell_type": "code",
   "execution_count": 11,
   "id": "aca07461",
   "metadata": {
    "scrolled": true
   },
   "outputs": [
    {
     "name": "stdout",
     "output_type": "stream",
     "text": [
      "Berkcan 13 13 10\n"
     ]
    }
   ],
   "source": [
    "# Her bir değeri parametre olarak yazdırmak için virgül kullanılabilir.\n",
    "print(a,b,c,d)"
   ]
  },
  {
   "cell_type": "markdown",
   "id": "74b2ce30",
   "metadata": {},
   "source": [
    "# format() Fonksiyonu\n",
    "- {} parantezler içine gelecek bilgiyi verdirmeyi sağlar."
   ]
  },
  {
   "cell_type": "code",
   "execution_count": 13,
   "id": "123a0e7b",
   "metadata": {},
   "outputs": [
    {
     "name": "stdout",
     "output_type": "stream",
     "text": [
      "Merhaba, Python dersiniz Hanifi eğitmeni tarafından Cumartesi günü verilecektir. İyi dersler dileriz\n"
     ]
    }
   ],
   "source": [
    "egitmen = \"Hanifi\"\n",
    "dersAdi = \"Python\"\n",
    "gun = \"Cumartesi\"\n",
    "\n",
    "mesaj = \"Merhaba, {} dersiniz {} eğitmeni tarafından {} günü verilecektir. İyi dersler dileriz\".format(dersAdi, egitmen , gun)\n",
    "print(mesaj)"
   ]
  },
  {
   "cell_type": "markdown",
   "id": "ba905d6e",
   "metadata": {},
   "source": [
    "# PYTHONDA OPERATÖRLER"
   ]
  },
  {
   "cell_type": "markdown",
   "id": "4206bea6",
   "metadata": {},
   "source": [
    "## Toplama Operatörü"
   ]
  },
  {
   "cell_type": "code",
   "execution_count": 14,
   "id": "fe75d9f3",
   "metadata": {},
   "outputs": [
    {
     "name": "stdout",
     "output_type": "stream",
     "text": [
      "Toplam değeri:  20\n"
     ]
    }
   ],
   "source": [
    "t1 = 13\n",
    "t2 = 7\n",
    "t3 = t1 + t2\n",
    "print(\"Toplam değeri: \", t3)"
   ]
  },
  {
   "cell_type": "markdown",
   "id": "28f30ddf",
   "metadata": {},
   "source": [
    "## Çıkarma Operatörü"
   ]
  },
  {
   "cell_type": "code",
   "execution_count": 15,
   "id": "0c5de6f5",
   "metadata": {},
   "outputs": [
    {
     "name": "stdout",
     "output_type": "stream",
     "text": [
      "Sonuç:15\n"
     ]
    }
   ],
   "source": [
    "c1 = 20\n",
    "c2 = 5\n",
    "c3 = c1 - c2\n",
    "print(\"Sonuç:{}\".format(c3))"
   ]
  },
  {
   "cell_type": "markdown",
   "id": "6ff22f90",
   "metadata": {},
   "source": [
    "## Çarpma Operatörü"
   ]
  },
  {
   "cell_type": "code",
   "execution_count": 16,
   "id": "b30f94cc",
   "metadata": {},
   "outputs": [
    {
     "name": "stdout",
     "output_type": "stream",
     "text": [
      "Çarpım Değeri:  16\n"
     ]
    }
   ],
   "source": [
    "ca1 = 2\n",
    "ca2 = 8\n",
    "ca3 = ca1 * ca2\n",
    "print(\"Çarpım Değeri: \", ca3)"
   ]
  },
  {
   "cell_type": "markdown",
   "id": "a1a12e4c",
   "metadata": {},
   "source": [
    "## Bölme Operatörü"
   ]
  },
  {
   "cell_type": "code",
   "execution_count": 19,
   "id": "0d0f86e8",
   "metadata": {},
   "outputs": [
    {
     "name": "stdout",
     "output_type": "stream",
     "text": [
      "Bölme işleminin sonucu:  5.0\n"
     ]
    }
   ],
   "source": [
    "b1 = 20\n",
    "b2 = 4\n",
    "b3 = b1/b2\n",
    "print(\"Bölme işleminin sonucu: \",b3)\n",
    "# Python'da bölme işleminin sonuç tipi her zaman float değer alır."
   ]
  },
  {
   "cell_type": "markdown",
   "id": "1891f259",
   "metadata": {},
   "source": [
    "## Tam Bölme Operatörü"
   ]
  },
  {
   "cell_type": "code",
   "execution_count": 20,
   "id": "6599968d",
   "metadata": {},
   "outputs": [
    {
     "name": "stdout",
     "output_type": "stream",
     "text": [
      "Tam bölme işleminin sonucu:  3\n"
     ]
    }
   ],
   "source": [
    "tb1 = 20\n",
    "tb2 = 6\n",
    "tb3 = tb1//tb2\n",
    "print(\"Tam bölme işleminin sonucu: \", tb3)"
   ]
  },
  {
   "cell_type": "markdown",
   "id": "6e482ac4",
   "metadata": {},
   "source": [
    "## Kalan Bulma / Mod Alma Operatörü"
   ]
  },
  {
   "cell_type": "code",
   "execution_count": 21,
   "id": "cc371742",
   "metadata": {},
   "outputs": [
    {
     "name": "stdout",
     "output_type": "stream",
     "text": [
      "Kalan Değeri:  2\n"
     ]
    }
   ],
   "source": [
    "m1 = 20\n",
    "m2 = 6\n",
    "m3 = m1 % m2\n",
    "print(\"Kalan Değeri: \", m3)"
   ]
  },
  {
   "cell_type": "markdown",
   "id": "da184e2e",
   "metadata": {},
   "source": [
    "## Üs Alma Operatörü"
   ]
  },
  {
   "cell_type": "code",
   "execution_count": 22,
   "id": "1582319d",
   "metadata": {},
   "outputs": [
    {
     "name": "stdout",
     "output_type": "stream",
     "text": [
      "Üs değeri :  256\n"
     ]
    }
   ],
   "source": [
    "u1 = 2\n",
    "u2 = 8\n",
    "u3 = u1 ** u2\n",
    "print(\"Üs değeri : \", u3)"
   ]
  },
  {
   "cell_type": "code",
   "execution_count": null,
   "id": "b78c5be6",
   "metadata": {},
   "outputs": [],
   "source": []
  }
 ],
 "metadata": {
  "kernelspec": {
   "display_name": "Python 3",
   "language": "python",
   "name": "python3"
  },
  "language_info": {
   "codemirror_mode": {
    "name": "ipython",
    "version": 3
   },
   "file_extension": ".py",
   "mimetype": "text/x-python",
   "name": "python",
   "nbconvert_exporter": "python",
   "pygments_lexer": "ipython3",
   "version": "3.8.8"
  }
 },
 "nbformat": 4,
 "nbformat_minor": 5
}
