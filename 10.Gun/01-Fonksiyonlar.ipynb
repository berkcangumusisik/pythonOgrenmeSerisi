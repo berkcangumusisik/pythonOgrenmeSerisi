{
 "cells": [
  {
   "cell_type": "markdown",
   "metadata": {},
   "source": [
    "# Fonksiyonlar"
   ]
  },
  {
   "cell_type": "markdown",
   "metadata": {},
   "source": [
    "- Bir kodu bir çok yerde kullanmamız gerekiyorsa, her yerde tekrar tekrar yazmayı önler. \n",
    "- Programlamanın temeli : DRY(Don't Repeat Yourself - Kendini tekrar etme)\n",
    "- \"def\" anahtar kelimesi temel olarak işlevler oluşturmak için kullanılır.\n",
    "- Fonksiyonların içindeki değişkenler yereldir, yani bir fonksiyonun içinde bir değişken tanımladığınızda, o değişkeni fonksiyonun dışında çağıramayız. Çünkü o değişken o fonksiyona özeldir ve gloabalde kullanılamaz.\n",
    "- def bir şeyi hatırlamaktan başka bir şey yapmaz. Kısacası aracıdır.\n",
    "- İşlevler \"islevAdi()\" olarak çağrılabilir. Ve bir işlevi çağırmak istiyorsanız, işlevin adının sonuna parantez eklemeniz gerektiğini, aksi takdirde işlevin içindeki kodu döndürmeniz gerektiğini unutmamalıyız. İşlev adını istediğimiz şekilde verebiliriz. Bir işlev çağrısı başlatıldığında kod işlemi, işlev işlemde kullanmak için bir değer döndürene kadar kısa bir süre duraklayabilir.\n",
    "- Ne zaman bir fonksiyon çağırılırsa, fonksiyonu yazdıktan sonra yapmalısınız.\n"
   ]
  },
  {
   "cell_type": "code",
   "execution_count": 1,
   "metadata": {},
   "outputs": [
    {
     "name": "stdout",
     "output_type": "stream",
     "text": [
      "Merhaba\n"
     ]
    }
   ],
   "source": [
    "def helloWorld():\n",
    "    print(\"Merhaba\")\n",
    "\n",
    "helloWorld()"
   ]
  },
  {
   "cell_type": "markdown",
   "metadata": {},
   "source": [
    "# Argüman:\n",
    "\n",
    "- işlev çağrılırken parantez içindeki işlevlere iletilen değerler (string , number, vb.) (ör. islev_adı (argüman))\n",
    "- Fonksiyon tanımlanırken parantez içinde yazılan değişkenlerdir(Örneğin.\n",
    "    islev_adı(parametre):\n",
    "        fonksiyon kodu\n",
    ")\n",
    "- Birden fazla parametre olabilir. Her biri virgülle ayrılır."
   ]
  },
  {
   "cell_type": "code",
   "execution_count": 5,
   "metadata": {},
   "outputs": [
    {
     "name": "stdout",
     "output_type": "stream",
     "text": [
      "Merhaba  Berkcan\n",
      "Merhaba  Şevval\n",
      "Merhaba  Nurana\n",
      "Merhaba  Mete\n",
      "Merhaba  ziyaretçi\n"
     ]
    }
   ],
   "source": [
    "def helloWorld(name = \"ziyaretçi\"):\n",
    "    print(\"Merhaba \", name)\n",
    "    \n",
    "helloWorld(\"Berkcan\")\n",
    "helloWorld(\"Şevval\")\n",
    "helloWorld(\"Nurana\")\n",
    "helloWorld(\"Mete\")\n",
    "helloWorld()\n",
    "    "
   ]
  },
  {
   "cell_type": "code",
   "execution_count": 6,
   "metadata": {},
   "outputs": [
    {
     "name": "stdout",
     "output_type": "stream",
     "text": [
      "60\n"
     ]
    }
   ],
   "source": [
    "def topla(sayi1, sayi2, sayi3):\n",
    "    t = sayi1 + sayi2 + sayi3\n",
    "    print(t)\n",
    "topla(10,20,30)"
   ]
  },
  {
   "cell_type": "code",
   "execution_count": 8,
   "metadata": {},
   "outputs": [
    {
     "name": "stdout",
     "output_type": "stream",
     "text": [
      "Sitemize Hoş Geldiniz Berkcan Gümüşışık\n",
      "Sitemize Hoş Geldiniz İbrahim Gümüşışık\n",
      "Sitemize Hoş Geldiniz İbrahim Gümüşışık\n"
     ]
    }
   ],
   "source": [
    "def merhaba(name = \"Berkcan\" , surname = \"Gümüşışık\"):\n",
    "    print(\"Sitemize Hoş Geldiniz \" + name + \" \" +surname)\n",
    "merhaba()\n",
    "merhaba(\"İbrahim\",\"Gümüşışık\")\n",
    "merhaba(\"İbrahim\")"
   ]
  },
  {
   "cell_type": "code",
   "execution_count": 9,
   "metadata": {},
   "outputs": [
    {
     "name": "stdout",
     "output_type": "stream",
     "text": [
      "30\n",
      "6\n",
      "2\n"
     ]
    }
   ],
   "source": [
    "def carp(sayi1 = 1 , sayi2 = 1, sayi3 = 1):\n",
    "    c = sayi1 * sayi2 * sayi3\n",
    "    print(c)\n",
    "carp(2,3,5)\n",
    "carp(2,3)\n",
    "carp(2) "
   ]
  },
  {
   "cell_type": "code",
   "execution_count": 10,
   "metadata": {},
   "outputs": [
    {
     "name": "stdout",
     "output_type": "stream",
     "text": [
      "Hello\n",
      "Bonjour\n",
      "Hola\n",
      "Merhaba\n"
     ]
    }
   ],
   "source": [
    "def merhaba(dil):\n",
    "    if dil == \"es\":\n",
    "        print(\"Hola\")\n",
    "    elif dil == \"fr\":\n",
    "        print(\"Bonjour\")\n",
    "    elif dil == \"en\":\n",
    "        print(\"Hello\")\n",
    "    else:\n",
    "        print(\"Merhaba\")\n",
    "merhaba(\"en\")\n",
    "merhaba(\"fr\")\n",
    "merhaba(\"es\")\n",
    "merhaba(\"tr\")"
   ]
  },
  {
   "cell_type": "markdown",
   "metadata": {},
   "source": [
    "# return\n",
    "- Kodun tamamında kullanmak için işlevin kodu tamamlandıktan sonra kalan değeri (sonuç değeri) döndürür\n",
    "- \"return\" anahtar sözcüğünden sonraki kodlar yürütülmez. Bu, görmezden gelindikleri anlamına gelir\n",
    "- Hiçbir şey döndürmeyen bir işleve \"verimli olmayan işlev\" denir\n",
    "- Bir şey döndüren bir işleve \"verimli işlev\" denir"
   ]
  },
  {
   "cell_type": "code",
   "execution_count": 12,
   "metadata": {},
   "outputs": [
    {
     "name": "stdout",
     "output_type": "stream",
     "text": [
      "3.0\n"
     ]
    }
   ],
   "source": [
    "def dikUcgenAlaniHesapla(a,b):\n",
    "    return (a * b)/2\n",
    "print(dikUcgenAlaniHesapla(2,3))"
   ]
  }
 ],
 "metadata": {
  "interpreter": {
   "hash": "96f2b75f092ed1a0519a47617957f87ef8220e3e362917a5d4c2f9cc419b7475"
  },
  "kernelspec": {
   "display_name": "Python 3.9.6 64-bit",
   "language": "python",
   "name": "python3"
  },
  "language_info": {
   "codemirror_mode": {
    "name": "ipython",
    "version": 3
   },
   "file_extension": ".py",
   "mimetype": "text/x-python",
   "name": "python",
   "nbconvert_exporter": "python",
   "pygments_lexer": "ipython3",
   "version": "3.9.6"
  },
  "orig_nbformat": 4
 },
 "nbformat": 4,
 "nbformat_minor": 2
}
