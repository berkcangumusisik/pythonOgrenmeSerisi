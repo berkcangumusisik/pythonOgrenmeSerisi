{
 "cells": [
  {
   "cell_type": "markdown",
   "id": "dfc66242",
   "metadata": {},
   "source": [
    "# PYTHON NEDİR\n",
    "Tahmin edebileceğiMiz gibi Python (C, C++, Perl, Ruby ve benzerleri gibi) bir programlama dilidir ve tıpkı öteki programlama dilleri gibi, bilgisayara hükmetmenizi sağlar.\n"
   ]
  },
  {
   "cell_type": "markdown",
   "id": "c8205fb3",
   "metadata": {},
   "source": [
    "<span style=\"color:purple; font-size:30px\"> PYTHON TARİHÇESİ </span>"
   ]
  },
  {
   "cell_type": "markdown",
   "id": "54e76a7f",
   "metadata": {},
   "source": [
    "- Geliştirilmeye 1990 yılında Guido van Rossum tarafından Amsterdam'da başlanmıştır.\n",
    "- İsmini birçok kişi yılandan aldığını sansada Guido van Rossum'un sevdiği, Monty Python adlı altı kişilik bir İngiliz komedi grubunun Monty Python's Flying Circus adlı gösterisinden almıştır.\n",
    "- 1994 yılında Python 1.0 kullanıma sunuldu.\n",
    "- 2000 yılında Python 2.0 sürümü kullanıma sunuldu.\n",
    "- 2008 yılında Python 3.0 sürümü kullanıma sunuldu.\n",
    "\n",
    "<img src=\"https://ioturkiye.com/wp-content/uploads/2020/11/maxresdefault.jpg\"/>\n"
   ]
  },
  {
   "cell_type": "markdown",
   "id": "033b175c",
   "metadata": {},
   "source": [
    "# <span style=\"color:red; font-size:30px\"> NEDEN PYTHON? </span>"
   ]
  },
  {
   "cell_type": "markdown",
   "id": "d526d051",
   "metadata": {},
   "source": [
    "\n",
    "<img src=\"https://stickker.net/wp-content/uploads/2015/09/python.png\" width=\"30%\"/>\n",
    "\n",
    "- Genel amaçlı bir dildir.\n",
    "- Açık kaynak kodludur.\n",
    "- Yorumlanabilir bir dildir.\n",
    "- Yüksek seviyeli bir dildir.\n",
    "- Dinamik tip tanımlamalı bir dildir.\n",
    "- Birçok platformda çalışma imkanı sunar. Grafik , veritabanı , oyun yapay zeka vb\n",
    "- Modüler\n",
    "- Nesne yönelimlidir.\n",
    "- Öğrenmesi kolaydır.\n"
   ]
  },
  {
   "cell_type": "markdown",
   "id": "4c375662",
   "metadata": {},
   "source": [
    "Pythonu https://www.python.org/downloads/  sitesinden rahatlıklar kurabilirsiniz."
   ]
  },
  {
   "cell_type": "markdown",
   "id": "cf12e013",
   "metadata": {},
   "source": [
    "# <span style=\"color:green; font-size:30px\"> PYTHON KODLARKEN DİKKAT EDİLECEKLER</span>"
   ]
  },
  {
   "cell_type": "markdown",
   "id": "95fb97e2",
   "metadata": {},
   "source": [
    "- Python kodları yukarıdan aşağıya ve soldan sağa doğru okunur.\n",
    "- Büyük küçük harf duyarlı bir dildir.\n",
    "- Her şey nesnedir.\n",
    "- Girinti boşluğu 4 karakterdir.\n",
    "- Pythonda satır sonlarına ; konmaz.\n",
    "- Python kodlarımızı .py uzantılı dosyalarda saklarız. Eğer kodlarımızı Jupyter Notebook üzerinde tutacak olursak uzantısı .jpnyb olarak kullanırız\n"
   ]
  },
  {
   "cell_type": "code",
   "execution_count": null,
   "id": "1d3f5996",
   "metadata": {},
   "outputs": [],
   "source": []
  }
 ],
 "metadata": {
  "kernelspec": {
   "display_name": "Python 3",
   "language": "python",
   "name": "python3"
  },
  "language_info": {
   "codemirror_mode": {
    "name": "ipython",
    "version": 3
   },
   "file_extension": ".py",
   "mimetype": "text/x-python",
   "name": "python",
   "nbconvert_exporter": "python",
   "pygments_lexer": "ipython3",
   "version": "3.8.8"
  }
 },
 "nbformat": 4,
 "nbformat_minor": 5
}
