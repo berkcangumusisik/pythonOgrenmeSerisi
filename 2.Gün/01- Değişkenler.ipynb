{
 "cells": [
  {
   "cell_type": "markdown",
   "id": "47393a03",
   "metadata": {},
   "source": [
    "# VARIABLES - DEĞİŞKENLER\n"
   ]
  },
  {
   "cell_type": "markdown",
   "id": "d4243071",
   "metadata": {},
   "source": [
    "- Değişkenler bir verininin değerini saklamayı sağlarlar.\n",
    "- Değişkenler verilerin sonradan değiştirilmesine olan sağladığı için çok kullanışlıdır. Mesela bir bankada çalışıyoruz ve faiz oranını mesela 1.3'ten 1.1'e düşürmek isteniyor ve elimizde 1000 satırlık veri var bu oranı bir değişkene atarsak tek seferde bir yerde 1.1 yapmamız yeterli olacaktır. Diğer durumda 1000 satırlık kodu tek tek incelememiz gerekir.\n",
    "- Kodlar sırayla çalışır."
   ]
  },
  {
   "cell_type": "markdown",
   "id": "32c8cc0c",
   "metadata": {},
   "source": [
    "# DEĞİŞKEN TANIMLAMA KURALLARI\n"
   ]
  },
  {
   "cell_type": "markdown",
   "id": "46c2aa55",
   "metadata": {},
   "source": [
    "- Değişken adlarında sayılar, harfler ya da alt çizgi kullanılabilir. Ama değişken isimlendirmeleri alt çizgi ya da harfle başlar.\n",
    "```\n",
    "1berkcan = 5  Hatalı bir adlanırma kuralı\n",
    "berkcan1 = 5  Doğru bir adlandırma\n",
    "_berkcan = 5  Doğru bir adlandırma\n",
    "```\n",
    "- Değişken adlandırırken Türkçe karakter kullanmamaya özen göstermeliyiz.\n",
    "```\n",
    "ağırlık = 5 hatalı kullanım\n",
    "agirlik = 5 doğru kullanım\n",
    "```\t\n",
    "- Değişken isimlendirirken boşluk kullanılmaz. Genellikle camelCase adlandırma yaparız.\n",
    "```\n",
    "isim soyisim = \"Berkcan Gümüşışık\" Hatalı kullanım\n",
    "isimSoyisim = \"Berkcan Gümüşışık\" Doğru kullanım\n",
    "isim_soyisim = \"Berkcan Gümüşışık\" Doğru kullanım\n",
    "```\n",
    "- Python anahtar kelimeleri kullanılamaz.\n",
    "\n",
    "\n",
    "<img src= \"https://poccik.com/wp-content/uploads/2020/11/python-icin-ozel-durumlar.jpg\">\n",
    "\n",
    "\n",
    "- Değişken adlandırılırken rakamla başlayamaz.\n",
    "- Büyük küçük harf duyarlıdır.\n",
    "- Değişken adları ne çok kısa, ne de çok uzun olmalıdır. Aynı zamanda kodu okuyan kişi değişkeninin ne için kullanıldığını anlaması gerekir."
   ]
  },
  {
   "cell_type": "code",
   "execution_count": 2,
   "id": "44a94d6b",
   "metadata": {},
   "outputs": [
    {
     "name": "stdout",
     "output_type": "stream",
     "text": [
      "Python\n",
      "Berkcan\n"
     ]
    }
   ],
   "source": [
    "# Büyük küçük harf duyarlılığı\n",
    "A = \"Python\"\n",
    "a = \"Berkcan\"\n",
    "print(A)\n",
    "print(a)"
   ]
  },
  {
   "cell_type": "code",
   "execution_count": 9,
   "id": "04cc9ebb",
   "metadata": {},
   "outputs": [],
   "source": [
    "#HATALI DEĞİŞKEN ADLANDIRMA KURALLARI\n",
    "#1deneme = 1234\n",
    "#ağırlık = 13\n",
    "#boy uzunluğu = 138\n",
    "#if = \"deneme\""
   ]
  }
 ],
 "metadata": {
  "kernelspec": {
   "display_name": "Python 3.8.8 ('base')",
   "language": "python",
   "name": "python3"
  },
  "language_info": {
   "codemirror_mode": {
    "name": "ipython",
    "version": 3
   },
   "file_extension": ".py",
   "mimetype": "text/x-python",
   "name": "python",
   "nbconvert_exporter": "python",
   "pygments_lexer": "ipython3",
   "version": "3.8.8"
  },
  "vscode": {
   "interpreter": {
    "hash": "434691f1ecaf466ba8ee38280735dd626cdf07e55467611e3966387a302373c5"
   }
  }
 },
 "nbformat": 4,
 "nbformat_minor": 5
}
