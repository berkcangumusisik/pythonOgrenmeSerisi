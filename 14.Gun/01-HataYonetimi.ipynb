{
 "cells": [
  {
   "cell_type": "markdown",
   "metadata": {},
   "source": [
    "# Hata Yönetimi\n",
    "\n",
    "- Python programlarında bazen bir değişkenin tanımlanmadan kullanılmaya çalıştırılması , bazen de yapılamayacak bir aritmetik işlemin yapılması Pythonda hatalara yol açar. Ancak bu istisnai durumlarda, hataların türüne göre programlarımızı daha güvenli bir şekilde yazabiliriz.Yani hata çıkarabilecek kodlarımızı öngörerek bu hataları programlarımızda yakalayabiliriz. "
   ]
  },
  {
   "cell_type": "code",
   "execution_count": 1,
   "metadata": {},
   "outputs": [
    {
     "ename": "NameError",
     "evalue": "name 'a' is not defined",
     "output_type": "error",
     "traceback": [
      "\u001b[1;31m---------------------------------------------------------------------------\u001b[0m",
      "\u001b[1;31mNameError\u001b[0m                                 Traceback (most recent call last)",
      "\u001b[1;32mc:\\Users\\BERKCAN\\Documents\\GitHub\\pythonOgrenmeSerisi\\14.Gun\\01-HataYonetimi.ipynb Hücre 2\u001b[0m in \u001b[0;36m<cell line: 1>\u001b[1;34m()\u001b[0m\n\u001b[1;32m----> <a href='vscode-notebook-cell:/c%3A/Users/BERKCAN/Documents/GitHub/pythonOgrenmeSerisi/14.Gun/01-HataYonetimi.ipynb#W2sZmlsZQ%3D%3D?line=0'>1</a>\u001b[0m \u001b[39mprint\u001b[39m(a)\n",
      "\u001b[1;31mNameError\u001b[0m: name 'a' is not defined"
     ]
    }
   ],
   "source": [
    "print(a) # Tanımlı değil - Name Error hatası"
   ]
  },
  {
   "cell_type": "code",
   "execution_count": 2,
   "metadata": {},
   "outputs": [
    {
     "ename": "ZeroDivisionError",
     "evalue": "division by zero",
     "output_type": "error",
     "traceback": [
      "\u001b[1;31m---------------------------------------------------------------------------\u001b[0m",
      "\u001b[1;31mZeroDivisionError\u001b[0m                         Traceback (most recent call last)",
      "\u001b[1;32mc:\\Users\\BERKCAN\\Documents\\GitHub\\pythonOgrenmeSerisi\\14.Gun\\01-HataYonetimi.ipynb Hücre 3\u001b[0m in \u001b[0;36m<cell line: 1>\u001b[1;34m()\u001b[0m\n\u001b[1;32m----> <a href='vscode-notebook-cell:/c%3A/Users/BERKCAN/Documents/GitHub/pythonOgrenmeSerisi/14.Gun/01-HataYonetimi.ipynb#W3sZmlsZQ%3D%3D?line=0'>1</a>\u001b[0m \u001b[39m2\u001b[39;49m \u001b[39m/\u001b[39;49m \u001b[39m0\u001b[39;49m\n",
      "\u001b[1;31mZeroDivisionError\u001b[0m: division by zero"
     ]
    }
   ],
   "source": [
    "2 / 0 # Bir sayı 0'a bölünemez.\n"
   ]
  },
  {
   "cell_type": "code",
   "execution_count": 3,
   "metadata": {},
   "outputs": [
    {
     "ename": "SyntaxError",
     "evalue": "Missing parentheses in call to 'print'. Did you mean print(...)? (2248149153.py, line 1)",
     "output_type": "error",
     "traceback": [
      "\u001b[1;36m  Input \u001b[1;32mIn [3]\u001b[1;36m\u001b[0m\n\u001b[1;33m    print Merhaba # Syntax Error hatası\u001b[0m\n\u001b[1;37m    ^\u001b[0m\n\u001b[1;31mSyntaxError\u001b[0m\u001b[1;31m:\u001b[0m Missing parentheses in call to 'print'. Did you mean print(...)?\n"
     ]
    }
   ],
   "source": [
    "print Merhaba # Syntax Error hatası"
   ]
  },
  {
   "cell_type": "markdown",
   "metadata": {},
   "source": [
    "# try , except blokları\n",
    "try ,except bloklarının yapısı şu şekildedir;\n",
    "```python\n",
    "    try:\n",
    "\n",
    "        Hata çıkarabilecek kodlar buraya yazılıyor.\n",
    "        Eğer hata çıkarsa program uygun olan except bloğuna girecek.\n",
    "        Hata oluşursa try bloğunun geri kalanındaki işlemler çalışmayacak.\n",
    "    except Hata1:\n",
    "        Hata1 oluştuğunda burası çalışacak.\n",
    "    except Hata2:\n",
    "        Hata2 oluştuğunda burası çalışacak.\n"
   ]
  },
  {
   "cell_type": "code",
   "execution_count": 4,
   "metadata": {},
   "outputs": [
    {
     "name": "stdout",
     "output_type": "stream",
     "text": [
      "Hata oluştu\n",
      "Bloklar sona erdi\n"
     ]
    }
   ],
   "source": [
    "try:\n",
    "    \n",
    "    a =  int(\"324234dsadsad\") # Burası ValueError hatası veriyor.\n",
    "    print(\"Program burada\")\n",
    "except: # Hatayı belirtmezsek bütün hatalar bu kısma giriyor.\n",
    "    print(\"Hata oluştu\")  # Burası çalışır.\n",
    "    \n",
    "print(\"Bloklar sona erdi\")"
   ]
  },
  {
   "cell_type": "code",
   "execution_count": 6,
   "metadata": {},
   "outputs": [
    {
     "name": "stdout",
     "output_type": "stream",
     "text": [
      "Program burada\n",
      "Bloklar sona erdi\n"
     ]
    }
   ],
   "source": [
    "try:\n",
    "    \n",
    "    a =  int(\"324234\") # Burası normal çalışıyor\n",
    "    print(\"Program burada\")\n",
    "except ValueError: # Hatayı belirtirsek ValueError hatası bu kısma giriyor.\n",
    "    print(\"Hata oluştu\") # Hata olmadığı için çalışmadı.\n",
    "    \n",
    "print(\"Bloklar sona erdi\")"
   ]
  },
  {
   "cell_type": "code",
   "execution_count": 8,
   "metadata": {},
   "outputs": [
    {
     "name": "stdout",
     "output_type": "stream",
     "text": [
      "Bir sayı 0'a bölünemez.\n"
     ]
    }
   ],
   "source": [
    "try:\n",
    "    a = int(input(\"Sayı1:\"))\n",
    "    b = int(input(\"Sayı2:\"))\n",
    "    print(a / b) # Hata burada oluşuyor. ZeroDivisionError'a bloğuna giriyoruz.\n",
    "except ValueError:\n",
    "    print(\"Lütfen inputları doğru girin.\")\n",
    "except ZeroDivisionError:\n",
    "    print(\"Bir sayı 0'a bölünemez.\")"
   ]
  },
  {
   "cell_type": "code",
   "execution_count": 9,
   "metadata": {},
   "outputs": [
    {
     "name": "stdout",
     "output_type": "stream",
     "text": [
      "ZeroDivision veya ValueError hatası\n"
     ]
    }
   ],
   "source": [
    "try:\n",
    "    a = int(input(\"Sayı1:\"))\n",
    "    b = int(input(\"Sayı2:\")) \n",
    "    print(a / b) \n",
    "except (ValueError,ZeroDivisionError):\n",
    "    print(\"ZeroDivision veya ValueError hatası\")"
   ]
  },
  {
   "cell_type": "markdown",
   "metadata": {},
   "source": [
    "# try - except - else \n",
    "- try bloğunun içinde hata oluşursa except bloğuna girer.\n",
    "- try bloğunun içinde hata oluşmazsa else bloğuna girer.\n",
    "```\t\n",
    "try:\n",
    "   hata çıkarabilecek kodlar buraya yazılır.\n",
    "except Hata1:\n",
    "    Hata1 oluştuğunda burası çalışacak.\n",
    "else:\n",
    "    Hata oluşmazsa burası çalışacak.\n",
    "```"
   ]
  },
  {
   "cell_type": "code",
   "execution_count": null,
   "metadata": {},
   "outputs": [],
   "source": [
    "try:\n",
    "    a = int(input(\"Sayı1:\"))\n",
    "    b = int(input(\"Sayı2:\"))\n",
    "    print(a / b) \n",
    "except ValueError:\n",
    "    print(\"Lütfen inputları doğru girin.\")\n",
    "except ZeroDivisionError:\n",
    "    print(\"Bir sayı 0'a bölünemez.\")\n",
    "else:\n",
    "    print(\"Doğru Çalıştı\")"
   ]
  },
  {
   "cell_type": "markdown",
   "metadata": {},
   "source": [
    "# try - except - finally \n",
    "```\t\n",
    "try:\n",
    "   hata çıkarabilecek kodlar buraya yazılır.\n",
    "except Hata1:\n",
    "    Hata1 oluştuğunda burası çalışacak.\n",
    "finally:\n",
    "    Kesin olarak her zaman çalışacak.\n",
    "```"
   ]
  },
  {
   "cell_type": "code",
   "execution_count": 10,
   "metadata": {},
   "outputs": [
    {
     "name": "stdout",
     "output_type": "stream",
     "text": [
      "1.0\n",
      "Her durumda çalışıyorum.\n"
     ]
    }
   ],
   "source": [
    "try:\n",
    "    a = int(input(\"Sayı1:\"))\n",
    "    b = int(input(\"Sayı2:\"))\n",
    "    print(a / b) # Hata burada oluşuyor. ZeroDivisionError'a bloğuna giriyoruz.\n",
    "except ValueError as e:\n",
    "    print(\"Lütfen inputları doğru girin.\")\n",
    "    print(a)\n",
    "except ZeroDivisionError:\n",
    "    print(\"Bir sayı 0'a bölünemez.\")\n",
    "finally:\n",
    "    print(\"Her durumda çalışıyorum.\")"
   ]
  },
  {
   "cell_type": "code",
   "execution_count": 11,
   "metadata": {},
   "outputs": [
    {
     "name": "stdout",
     "output_type": "stream",
     "text": [
      "Hata oluştu\n",
      "0\n"
     ]
    }
   ],
   "source": [
    "try:\n",
    "    liste = list(range(100))\n",
    "    print(liste[1000])\n",
    "except:\n",
    "    print(\"Hata oluştu\")\n",
    "finally:\n",
    "    liste.clear()\n",
    "print(len(liste))"
   ]
  },
  {
   "cell_type": "markdown",
   "metadata": {},
   "source": [
    "# Hata Fırlattırma\n",
    "- Hataları fırlatmak için raise kullanılır.\n",
    "\n",
    "```raise HataAdı(opsiyonel hata mesajı)```"
   ]
  },
  {
   "cell_type": "code",
   "execution_count": 12,
   "metadata": {},
   "outputs": [
    {
     "name": "stdout",
     "output_type": "stream",
     "text": [
      "Fonksiyonda bir hata oluştu.\n"
     ]
    }
   ],
   "source": [
    "# Verilen string'i ters çevirmek\n",
    "def terscevir(s):\n",
    "    if (type(s) != str):\n",
    "        raise ValueError(\"Lütfen doğru bir input girin.\")\n",
    "    else:\n",
    "        return s[::-1]\n",
    "    \n",
    "\n",
    "try:\n",
    "    print(terscevir(12))\n",
    "except ValueError:\n",
    "    print(\"Fonksiyonda bir hata oluştu.\")"
   ]
  }
 ],
 "metadata": {
  "kernelspec": {
   "display_name": "Python 3.10.5 64-bit",
   "language": "python",
   "name": "python3"
  },
  "language_info": {
   "codemirror_mode": {
    "name": "ipython",
    "version": 3
   },
   "file_extension": ".py",
   "mimetype": "text/x-python",
   "name": "python",
   "nbconvert_exporter": "python",
   "pygments_lexer": "ipython3",
   "version": "3.10.5"
  },
  "orig_nbformat": 4,
  "vscode": {
   "interpreter": {
    "hash": "5026d2d6e7aaaaba093def813beadff083d8733e4a511af01735cbabd156995d"
   }
  }
 },
 "nbformat": 4,
 "nbformat_minor": 2
}
